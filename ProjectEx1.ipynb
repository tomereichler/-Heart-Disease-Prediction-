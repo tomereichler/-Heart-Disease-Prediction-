{
  "nbformat": 4,
  "nbformat_minor": 0,
  "metadata": {
    "colab": {
      "provenance": []
    },
    "kernelspec": {
      "name": "python3",
      "display_name": "Python 3"
    },
    "language_info": {
      "name": "python"
    }
  },
  "cells": [
    {
      "cell_type": "code",
      "source": [
        "import pandas as pd\n",
        "import matplotlib.pyplot as plt\n",
        "import seaborn as sns\n",
        "\n",
        "df=pd.read_csv(\"framingham_heart_disease.csv\", sep=',', encoding='latin-1')"
      ],
      "metadata": {
        "id": "g4oVuKwFAyO7"
      },
      "execution_count": 75,
      "outputs": []
    },
    {
      "cell_type": "markdown",
      "source": [
        "Description of the medical database\n",
        "Early detection of cardiovascular diseases can help make decisions about lifestyle changes in high-risk patients and in turn reduce complications. This database contains physical and behavioral data of people who are or are not suffering from cardiovascular diseases."
      ],
      "metadata": {
        "id": "w8H2coC-siB1"
      }
    },
    {
      "cell_type": "markdown",
      "source": [
        "Link- https://www.kaggle.com/naveengowda16/logistic-regression-heart-disease-prediction"
      ],
      "metadata": {
        "id": "uEFjmMh0sjLA"
      }
    },
    {
      "cell_type": "markdown",
      "source": [
        "columns-\n",
        "• Male- gender: boolean\n",
        "• Age- Age of the examinee: float \n",
        "• Education- education: float\n",
        "• currentSmoker- is the person smoking at the given time or not: boolean\n",
        "• cigsPerDay- number of cigarettes per day: float\n",
        "• BpMeds- blood pressure medication is the person taking: boolean\n",
        "• PrevalentStroke- has had a stroke: boolean\n",
        "• prevalentHyp- high blood pressure: boolean \n",
        "• diabetes- diabetes: boolean\n",
        "• totChol- cholesterol: float\n",
        "• sysBP- systolic blood pressure: float\n",
        "• diaBP- diastolic blood pressure: float\n",
        "• BMI- Body mass index: float\n",
        "• Heartrate- heart rate: float\n",
        "• Glucose- level of glucose in the body: float\n",
        "• TenYearCHD- heart disease risk: boolean"
      ],
      "metadata": {
        "id": "8mL794glsn9F"
      }
    },
    {
      "cell_type": "code",
      "source": [
        "# Summary of statistical values for the relative numerical variables\n",
        "df[[\"age\",\"education\",\"cigsPerDay\",\"totChol\",\"sysBP\",\"diaBP\",\"BMI\",\"heartRate\",\"glucose\"]].describe()"
      ],
      "metadata": {
        "colab": {
          "base_uri": "https://localhost:8080/",
          "height": 300
        },
        "id": "rGlhEXAPFe_v",
        "outputId": "f4329970-ec2a-401f-e212-0a9e5bd145cc"
      },
      "execution_count": 76,
      "outputs": [
        {
          "output_type": "execute_result",
          "data": {
            "text/plain": [
              "               age    education   cigsPerDay      totChol        sysBP  \\\n",
              "count  4238.000000  4133.000000  4209.000000  4188.000000  4238.000000   \n",
              "mean     49.584946     1.978950     9.003089   236.721585   132.352407   \n",
              "std       8.572160     1.019791    11.920094    44.590334    22.038097   \n",
              "min      32.000000     1.000000     0.000000   107.000000    83.500000   \n",
              "25%      42.000000     1.000000     0.000000   206.000000   117.000000   \n",
              "50%      49.000000     2.000000     0.000000   234.000000   128.000000   \n",
              "75%      56.000000     3.000000    20.000000   263.000000   144.000000   \n",
              "max      70.000000     4.000000    70.000000   696.000000   295.000000   \n",
              "\n",
              "             diaBP          BMI    heartRate      glucose  \n",
              "count  4238.000000  4219.000000  4237.000000  3850.000000  \n",
              "mean     82.893464    25.802008    75.878924    81.966753  \n",
              "std      11.910850     4.080111    12.026596    23.959998  \n",
              "min      48.000000    15.540000    44.000000    40.000000  \n",
              "25%      75.000000    23.070000    68.000000    71.000000  \n",
              "50%      82.000000    25.400000    75.000000    78.000000  \n",
              "75%      89.875000    28.040000    83.000000    87.000000  \n",
              "max     142.500000    56.800000   143.000000   394.000000  "
            ],
            "text/html": [
              "\n",
              "  <div id=\"df-72b43e0c-7334-403f-a480-a89ac877777f\">\n",
              "    <div class=\"colab-df-container\">\n",
              "      <div>\n",
              "<style scoped>\n",
              "    .dataframe tbody tr th:only-of-type {\n",
              "        vertical-align: middle;\n",
              "    }\n",
              "\n",
              "    .dataframe tbody tr th {\n",
              "        vertical-align: top;\n",
              "    }\n",
              "\n",
              "    .dataframe thead th {\n",
              "        text-align: right;\n",
              "    }\n",
              "</style>\n",
              "<table border=\"1\" class=\"dataframe\">\n",
              "  <thead>\n",
              "    <tr style=\"text-align: right;\">\n",
              "      <th></th>\n",
              "      <th>age</th>\n",
              "      <th>education</th>\n",
              "      <th>cigsPerDay</th>\n",
              "      <th>totChol</th>\n",
              "      <th>sysBP</th>\n",
              "      <th>diaBP</th>\n",
              "      <th>BMI</th>\n",
              "      <th>heartRate</th>\n",
              "      <th>glucose</th>\n",
              "    </tr>\n",
              "  </thead>\n",
              "  <tbody>\n",
              "    <tr>\n",
              "      <th>count</th>\n",
              "      <td>4238.000000</td>\n",
              "      <td>4133.000000</td>\n",
              "      <td>4209.000000</td>\n",
              "      <td>4188.000000</td>\n",
              "      <td>4238.000000</td>\n",
              "      <td>4238.000000</td>\n",
              "      <td>4219.000000</td>\n",
              "      <td>4237.000000</td>\n",
              "      <td>3850.000000</td>\n",
              "    </tr>\n",
              "    <tr>\n",
              "      <th>mean</th>\n",
              "      <td>49.584946</td>\n",
              "      <td>1.978950</td>\n",
              "      <td>9.003089</td>\n",
              "      <td>236.721585</td>\n",
              "      <td>132.352407</td>\n",
              "      <td>82.893464</td>\n",
              "      <td>25.802008</td>\n",
              "      <td>75.878924</td>\n",
              "      <td>81.966753</td>\n",
              "    </tr>\n",
              "    <tr>\n",
              "      <th>std</th>\n",
              "      <td>8.572160</td>\n",
              "      <td>1.019791</td>\n",
              "      <td>11.920094</td>\n",
              "      <td>44.590334</td>\n",
              "      <td>22.038097</td>\n",
              "      <td>11.910850</td>\n",
              "      <td>4.080111</td>\n",
              "      <td>12.026596</td>\n",
              "      <td>23.959998</td>\n",
              "    </tr>\n",
              "    <tr>\n",
              "      <th>min</th>\n",
              "      <td>32.000000</td>\n",
              "      <td>1.000000</td>\n",
              "      <td>0.000000</td>\n",
              "      <td>107.000000</td>\n",
              "      <td>83.500000</td>\n",
              "      <td>48.000000</td>\n",
              "      <td>15.540000</td>\n",
              "      <td>44.000000</td>\n",
              "      <td>40.000000</td>\n",
              "    </tr>\n",
              "    <tr>\n",
              "      <th>25%</th>\n",
              "      <td>42.000000</td>\n",
              "      <td>1.000000</td>\n",
              "      <td>0.000000</td>\n",
              "      <td>206.000000</td>\n",
              "      <td>117.000000</td>\n",
              "      <td>75.000000</td>\n",
              "      <td>23.070000</td>\n",
              "      <td>68.000000</td>\n",
              "      <td>71.000000</td>\n",
              "    </tr>\n",
              "    <tr>\n",
              "      <th>50%</th>\n",
              "      <td>49.000000</td>\n",
              "      <td>2.000000</td>\n",
              "      <td>0.000000</td>\n",
              "      <td>234.000000</td>\n",
              "      <td>128.000000</td>\n",
              "      <td>82.000000</td>\n",
              "      <td>25.400000</td>\n",
              "      <td>75.000000</td>\n",
              "      <td>78.000000</td>\n",
              "    </tr>\n",
              "    <tr>\n",
              "      <th>75%</th>\n",
              "      <td>56.000000</td>\n",
              "      <td>3.000000</td>\n",
              "      <td>20.000000</td>\n",
              "      <td>263.000000</td>\n",
              "      <td>144.000000</td>\n",
              "      <td>89.875000</td>\n",
              "      <td>28.040000</td>\n",
              "      <td>83.000000</td>\n",
              "      <td>87.000000</td>\n",
              "    </tr>\n",
              "    <tr>\n",
              "      <th>max</th>\n",
              "      <td>70.000000</td>\n",
              "      <td>4.000000</td>\n",
              "      <td>70.000000</td>\n",
              "      <td>696.000000</td>\n",
              "      <td>295.000000</td>\n",
              "      <td>142.500000</td>\n",
              "      <td>56.800000</td>\n",
              "      <td>143.000000</td>\n",
              "      <td>394.000000</td>\n",
              "    </tr>\n",
              "  </tbody>\n",
              "</table>\n",
              "</div>\n",
              "      <button class=\"colab-df-convert\" onclick=\"convertToInteractive('df-72b43e0c-7334-403f-a480-a89ac877777f')\"\n",
              "              title=\"Convert this dataframe to an interactive table.\"\n",
              "              style=\"display:none;\">\n",
              "        \n",
              "  <svg xmlns=\"http://www.w3.org/2000/svg\" height=\"24px\"viewBox=\"0 0 24 24\"\n",
              "       width=\"24px\">\n",
              "    <path d=\"M0 0h24v24H0V0z\" fill=\"none\"/>\n",
              "    <path d=\"M18.56 5.44l.94 2.06.94-2.06 2.06-.94-2.06-.94-.94-2.06-.94 2.06-2.06.94zm-11 1L8.5 8.5l.94-2.06 2.06-.94-2.06-.94L8.5 2.5l-.94 2.06-2.06.94zm10 10l.94 2.06.94-2.06 2.06-.94-2.06-.94-.94-2.06-.94 2.06-2.06.94z\"/><path d=\"M17.41 7.96l-1.37-1.37c-.4-.4-.92-.59-1.43-.59-.52 0-1.04.2-1.43.59L10.3 9.45l-7.72 7.72c-.78.78-.78 2.05 0 2.83L4 21.41c.39.39.9.59 1.41.59.51 0 1.02-.2 1.41-.59l7.78-7.78 2.81-2.81c.8-.78.8-2.07 0-2.86zM5.41 20L4 18.59l7.72-7.72 1.47 1.35L5.41 20z\"/>\n",
              "  </svg>\n",
              "      </button>\n",
              "      \n",
              "  <style>\n",
              "    .colab-df-container {\n",
              "      display:flex;\n",
              "      flex-wrap:wrap;\n",
              "      gap: 12px;\n",
              "    }\n",
              "\n",
              "    .colab-df-convert {\n",
              "      background-color: #E8F0FE;\n",
              "      border: none;\n",
              "      border-radius: 50%;\n",
              "      cursor: pointer;\n",
              "      display: none;\n",
              "      fill: #1967D2;\n",
              "      height: 32px;\n",
              "      padding: 0 0 0 0;\n",
              "      width: 32px;\n",
              "    }\n",
              "\n",
              "    .colab-df-convert:hover {\n",
              "      background-color: #E2EBFA;\n",
              "      box-shadow: 0px 1px 2px rgba(60, 64, 67, 0.3), 0px 1px 3px 1px rgba(60, 64, 67, 0.15);\n",
              "      fill: #174EA6;\n",
              "    }\n",
              "\n",
              "    [theme=dark] .colab-df-convert {\n",
              "      background-color: #3B4455;\n",
              "      fill: #D2E3FC;\n",
              "    }\n",
              "\n",
              "    [theme=dark] .colab-df-convert:hover {\n",
              "      background-color: #434B5C;\n",
              "      box-shadow: 0px 1px 3px 1px rgba(0, 0, 0, 0.15);\n",
              "      filter: drop-shadow(0px 1px 2px rgba(0, 0, 0, 0.3));\n",
              "      fill: #FFFFFF;\n",
              "    }\n",
              "  </style>\n",
              "\n",
              "      <script>\n",
              "        const buttonEl =\n",
              "          document.querySelector('#df-72b43e0c-7334-403f-a480-a89ac877777f button.colab-df-convert');\n",
              "        buttonEl.style.display =\n",
              "          google.colab.kernel.accessAllowed ? 'block' : 'none';\n",
              "\n",
              "        async function convertToInteractive(key) {\n",
              "          const element = document.querySelector('#df-72b43e0c-7334-403f-a480-a89ac877777f');\n",
              "          const dataTable =\n",
              "            await google.colab.kernel.invokeFunction('convertToInteractive',\n",
              "                                                     [key], {});\n",
              "          if (!dataTable) return;\n",
              "\n",
              "          const docLinkHtml = 'Like what you see? Visit the ' +\n",
              "            '<a target=\"_blank\" href=https://colab.research.google.com/notebooks/data_table.ipynb>data table notebook</a>'\n",
              "            + ' to learn more about interactive tables.';\n",
              "          element.innerHTML = '';\n",
              "          dataTable['output_type'] = 'display_data';\n",
              "          await google.colab.output.renderOutput(dataTable, element);\n",
              "          const docLink = document.createElement('div');\n",
              "          docLink.innerHTML = docLinkHtml;\n",
              "          element.appendChild(docLink);\n",
              "        }\n",
              "      </script>\n",
              "    </div>\n",
              "  </div>\n",
              "  "
            ]
          },
          "metadata": {},
          "execution_count": 76
        }
      ]
    },
    {
      "cell_type": "code",
      "source": [
        "# Total number of records\n",
        "len(df)"
      ],
      "metadata": {
        "colab": {
          "base_uri": "https://localhost:8080/"
        },
        "id": "To8T_KR4oDyy",
        "outputId": "3c9a5304-8436-4e73-fb20-2899422d75b1"
      },
      "execution_count": 77,
      "outputs": [
        {
          "output_type": "execute_result",
          "data": {
            "text/plain": [
              "4238"
            ]
          },
          "metadata": {},
          "execution_count": 77
        }
      ]
    },
    {
      "cell_type": "code",
      "source": [
        "# nulls count\n",
        "df[[\"male\",\"currentSmoker\",\"BPMeds\",\"prevalentStroke\",\"prevalentHyp\",\"diabetes\",\"TenYearCHD\",\"age\",   \"education\",\"cigsPerDay\",\"totChol\",\"sysBP\",\"diaBP\",\"BMI\",\"heartRate\",\"glucose\"]].isna().sum()"
      ],
      "metadata": {
        "colab": {
          "base_uri": "https://localhost:8080/"
        },
        "id": "ZMICMe7Kh-bb",
        "outputId": "0d2d396e-24dc-404d-907d-5469b62d502e"
      },
      "execution_count": 78,
      "outputs": [
        {
          "output_type": "execute_result",
          "data": {
            "text/plain": [
              "male                 0\n",
              "currentSmoker        0\n",
              "BPMeds              53\n",
              "prevalentStroke      0\n",
              "prevalentHyp         0\n",
              "diabetes             0\n",
              "TenYearCHD           0\n",
              "age                  0\n",
              "education          105\n",
              "cigsPerDay          29\n",
              "totChol             50\n",
              "sysBP                0\n",
              "diaBP                0\n",
              "BMI                 19\n",
              "heartRate            1\n",
              "glucose            388\n",
              "dtype: int64"
            ]
          },
          "metadata": {},
          "execution_count": 78
        }
      ]
    },
    {
      "cell_type": "code",
      "source": [
        "# numeric variables histograms\n",
        "ax = df[\"age\"].plot.hist()\n",
        "ax.set(xlabel=\"age\", ylabel=\"count\",title=\"age\")\n"
      ],
      "metadata": {
        "colab": {
          "base_uri": "https://localhost:8080/",
          "height": 313
        },
        "id": "9_FI8JKRikG5",
        "outputId": "b0cb0de0-f277-4bf2-b928-9135e0c30563"
      },
      "execution_count": 79,
      "outputs": [
        {
          "output_type": "execute_result",
          "data": {
            "text/plain": [
              "[Text(0, 0.5, 'count'), Text(0.5, 0, 'age'), Text(0.5, 1.0, 'age')]"
            ]
          },
          "metadata": {},
          "execution_count": 79
        },
        {
          "output_type": "display_data",
          "data": {
            "text/plain": [
              "<Figure size 432x288 with 1 Axes>"
            ],
            "image/png": "[encoded data removed]"
          },
          "metadata": {
            "needs_background": "light"
          }
        }
      ]
    },
    {
      "cell_type": "code",
      "source": [
        "ax = df[\"education\"].plot.hist()\n",
        "ax.set(xlabel=\"education type\", ylabel=\"count\",title=\"education\")\n"
      ],
      "metadata": {
        "colab": {
          "base_uri": "https://localhost:8080/",
          "height": 350
        },
        "id": "FT5ukS4sdIwY",
        "outputId": "ae1d8ae0-7da0-4597-e368-a9ee91710108"
      },
      "execution_count": 80,
      "outputs": [
        {
          "output_type": "execute_result",
          "data": {
            "text/plain": [
              "[Text(0, 0.5, 'count'),\n",
              " Text(0.5, 0, 'education type'),\n",
              " Text(0.5, 1.0, 'education')]"
            ]
          },
          "metadata": {},
          "execution_count": 80
        },
        {
          "output_type": "display_data",
          "data": {
            "text/plain": [
              "<Figure size 432x288 with 1 Axes>"
            ],
            "image/png": "[encoded data removed]"
          },
          "metadata": {
            "needs_background": "light"
          }
        }
      ]
    },
    {
      "cell_type": "code",
      "source": [
        "ax = df[\"diaBP\"].plot.hist()\n",
        "ax.set(xlabel=\"diastolic blood pressure\", ylabel=\"count\",title=\"diaBP\")\n"
      ],
      "metadata": {
        "colab": {
          "base_uri": "https://localhost:8080/",
          "height": 350
        },
        "id": "A0Bd_cm9dMUV",
        "outputId": "f26ed15a-4ed6-4a67-e053-502b34771a72"
      },
      "execution_count": 81,
      "outputs": [
        {
          "output_type": "execute_result",
          "data": {
            "text/plain": [
              "[Text(0, 0.5, 'count'),\n",
              " Text(0.5, 0, 'diastolic blood pressure'),\n",
              " Text(0.5, 1.0, 'diaBP')]"
            ]
          },
          "metadata": {},
          "execution_count": 81
        },
        {
          "output_type": "display_data",
          "data": {
            "text/plain": [
              "<Figure size 432x288 with 1 Axes>"
            ],
            "image/png": "[encoded data removed]"
          },
          "metadata": {
            "needs_background": "light"
          }
        }
      ]
    },
    {
      "cell_type": "code",
      "source": [
        "ax = df[\"cigsPerDay\"].plot.hist()\n",
        "ax.set(xlabel=\"Number of cigarettes consumed per day\", ylabel=\"count\",title=\"cigsPerDay\")\n"
      ],
      "metadata": {
        "colab": {
          "base_uri": "https://localhost:8080/",
          "height": 350
        },
        "id": "jeGSWJL7dOMm",
        "outputId": "e333757f-97bf-4c93-8dba-3d4969bc6095"
      },
      "execution_count": 82,
      "outputs": [
        {
          "output_type": "execute_result",
          "data": {
            "text/plain": [
              "[Text(0, 0.5, 'count'),\n",
              " Text(0.5, 0, 'Number of cigarettes consumed per day'),\n",
              " Text(0.5, 1.0, 'cigsPerDay')]"
            ]
          },
          "metadata": {},
          "execution_count": 82
        },
        {
          "output_type": "display_data",
          "data": {
            "text/plain": [
              "<Figure size 432x288 with 1 Axes>"
            ],
            "image/png": "[encoded data removed]"
          },
          "metadata": {
            "needs_background": "light"
          }
        }
      ]
    },
    {
      "cell_type": "code",
      "source": [
        "ax = df[\"sysBP\"].plot.hist()\n",
        "ax.set(xlabel=\"systolic blood pressure\", ylabel=\"count\",title=\"sysBP\")\n"
      ],
      "metadata": {
        "colab": {
          "base_uri": "https://localhost:8080/",
          "height": 350
        },
        "id": "vDEhJpXZdPt1",
        "outputId": "9669551b-c4d0-43e8-cace-c1f19cbadf82"
      },
      "execution_count": 83,
      "outputs": [
        {
          "output_type": "execute_result",
          "data": {
            "text/plain": [
              "[Text(0, 0.5, 'count'),\n",
              " Text(0.5, 0, 'systolic blood pressure'),\n",
              " Text(0.5, 1.0, 'sysBP')]"
            ]
          },
          "metadata": {},
          "execution_count": 83
        },
        {
          "output_type": "display_data",
          "data": {
            "text/plain": [
              "<Figure size 432x288 with 1 Axes>"
            ],
            "image/png": "[encoded data removed]"
          },
          "metadata": {
            "needs_background": "light"
          }
        }
      ]
    },
    {
      "cell_type": "code",
      "source": [
        "ax = df[\"totChol\"].plot.hist()\n",
        "ax.set(xlabel=\"Cholesterol\", ylabel=\"count\",title=\"totChol\")\n"
      ],
      "metadata": {
        "colab": {
          "base_uri": "https://localhost:8080/",
          "height": 313
        },
        "id": "3WwBIDSYdRBb",
        "outputId": "be2100da-eccf-4c55-c794-a1cbef9ad5b9"
      },
      "execution_count": 84,
      "outputs": [
        {
          "output_type": "execute_result",
          "data": {
            "text/plain": [
              "[Text(0, 0.5, 'count'), Text(0.5, 0, 'Cholesterol'), Text(0.5, 1.0, 'totChol')]"
            ]
          },
          "metadata": {},
          "execution_count": 84
        },
        {
          "output_type": "display_data",
          "data": {
            "text/plain": [
              "<Figure size 432x288 with 1 Axes>"
            ],
            "image/png": "[encoded data removed]"
          },
          "metadata": {
            "needs_background": "light"
          }
        }
      ]
    },
    {
      "cell_type": "code",
      "source": [
        "ax = df[\"BMI\"].plot.hist()\n",
        "ax.set(xlabel=\"Body mass index\", ylabel=\"count\",title=\"BMI\")\n"
      ],
      "metadata": {
        "colab": {
          "base_uri": "https://localhost:8080/",
          "height": 313
        },
        "id": "MyU6Hr_zdSVC",
        "outputId": "e9feeeb2-cced-4a01-d221-516a1c7eece1"
      },
      "execution_count": 85,
      "outputs": [
        {
          "output_type": "execute_result",
          "data": {
            "text/plain": [
              "[Text(0, 0.5, 'count'), Text(0.5, 0, 'Body mass index'), Text(0.5, 1.0, 'BMI')]"
            ]
          },
          "metadata": {},
          "execution_count": 85
        },
        {
          "output_type": "display_data",
          "data": {
            "text/plain": [
              "<Figure size 432x288 with 1 Axes>"
            ],
            "image/png": "[encoded data removed]"
          },
          "metadata": {
            "needs_background": "light"
          }
        }
      ]
    },
    {
      "cell_type": "code",
      "source": [
        "ax = df[\"heartRate\"].plot.hist()\n",
        "ax.set(xlabel=\"heart Rate\", ylabel=\"count\",title=\"heartRate\")\n"
      ],
      "metadata": {
        "colab": {
          "base_uri": "https://localhost:8080/",
          "height": 350
        },
        "id": "e2u9oxC9dTwg",
        "outputId": "645d6e6c-1316-4c5d-8ce1-93d4c0829a61"
      },
      "execution_count": 86,
      "outputs": [
        {
          "output_type": "execute_result",
          "data": {
            "text/plain": [
              "[Text(0, 0.5, 'count'),\n",
              " Text(0.5, 0, 'heart Rate'),\n",
              " Text(0.5, 1.0, 'heartRate')]"
            ]
          },
          "metadata": {},
          "execution_count": 86
        },
        {
          "output_type": "display_data",
          "data": {
            "text/plain": [
              "<Figure size 432x288 with 1 Axes>"
            ],
            "image/png": "[encoded data removed]"
          },
          "metadata": {
            "needs_background": "light"
          }
        }
      ]
    },
    {
      "cell_type": "code",
      "source": [
        "ax = df[\"glucose\"].plot.hist()\n",
        "ax.set(xlabel=\"glucose Rate\", ylabel=\"count\",title=\"glucose\")"
      ],
      "metadata": {
        "colab": {
          "base_uri": "https://localhost:8080/",
          "height": 350
        },
        "id": "xwirolyJdVNt",
        "outputId": "bee5899a-ef5c-49a7-a744-8b69ff23f7e7"
      },
      "execution_count": 87,
      "outputs": [
        {
          "output_type": "execute_result",
          "data": {
            "text/plain": [
              "[Text(0, 0.5, 'count'),\n",
              " Text(0.5, 0, 'glucose Rate'),\n",
              " Text(0.5, 1.0, 'glucose')]"
            ]
          },
          "metadata": {},
          "execution_count": 87
        },
        {
          "output_type": "display_data",
          "data": {
            "text/plain": [
              "<Figure size 432x288 with 1 Axes>"
            ],
            "image/png": "[encoded data removed]"
          },
          "metadata": {
            "needs_background": "light"
          }
        }
      ]
    },
    {
      "cell_type": "markdown",
      "source": [
        "Graphs for categorical variables"
      ],
      "metadata": {
        "id": "tDjDvfQpdtpD"
      }
    },
    {
      "cell_type": "code",
      "source": [
        "# The histogram of patients/non-diabetic patients\n",
        "num1 = df[df[\"diabetes\"]==1]\n",
        "num2 = df[df[\"diabetes\"]==0]\n",
        "x = ['diabetes','non diabetes']\n",
        "y = [len(num1),len(num2)]\n",
        "\n",
        "plt.bar(x,y)\n",
        "plt.xlabel(\"diabetes / non diabetes\")\n",
        "plt.ylabel(\"count\")"
      ],
      "metadata": {
        "colab": {
          "base_uri": "https://localhost:8080/",
          "height": 297
        },
        "id": "ib5OVlO6P3j2",
        "outputId": "26b249d1-d81e-42ba-bf9f-d54de93366c7"
      },
      "execution_count": 88,
      "outputs": [
        {
          "output_type": "execute_result",
          "data": {
            "text/plain": [
              "Text(0, 0.5, 'count')"
            ]
          },
          "metadata": {},
          "execution_count": 88
        },
        {
          "output_type": "display_data",
          "data": {
            "text/plain": [
              "<Figure size 432x288 with 1 Axes>"
            ],
            "image/png": "[encoded data removed]"
          },
          "metadata": {
            "needs_background": "light"
          }
        }
      ]
    },
    {
      "cell_type": "code",
      "source": [
        "# The gender histogram of the participants\n",
        "num1 = df[df[\"male\"]==1]\n",
        "num2 = df[df[\"male\"]==0]\n",
        "x = ['male','female']\n",
        "y = [len(num1),len(num2)]\n",
        "\n",
        "plt.xlabel(\"male / female\")\n",
        "plt.ylabel(\"count\")\n",
        "plt.bar(x,y)"
      ],
      "metadata": {
        "colab": {
          "base_uri": "https://localhost:8080/",
          "height": 298
        },
        "id": "t_lEfE60P6m2",
        "outputId": "5db6dd26-0988-4200-eefd-f86442cbdfc6"
      },
      "execution_count": 89,
      "outputs": [
        {
          "output_type": "execute_result",
          "data": {
            "text/plain": [
              "<BarContainer object of 2 artists>"
            ]
          },
          "metadata": {},
          "execution_count": 89
        },
        {
          "output_type": "display_data",
          "data": {
            "text/plain": [
              "<Figure size 432x288 with 1 Axes>"
            ],
            "image/png": "[encoded data removed]"
          },
          "metadata": {
            "needs_background": "light"
          }
        }
      ]
    },
    {
      "cell_type": "code",
      "source": [
        "# Suffering/not suffering from high blood pressure histogram\n",
        "num1 = df[df[\"prevalentHyp\"]==1]\n",
        "num2 = df[df[\"prevalentHyp\"]==0]\n",
        "x = ['high blood pressure','normal blood pressure']\n",
        "y = [len(num1),len(num2)]\n",
        "\n",
        "plt.xlabel(\"high/normal blood pressure\")\n",
        "plt.ylabel(\"count\")\n",
        "plt.bar(x,y)"
      ],
      "metadata": {
        "colab": {
          "base_uri": "https://localhost:8080/",
          "height": 297
        },
        "id": "v2m3lFBJP9yC",
        "outputId": "b31659c7-ae3a-4aae-f315-1ffce2894f3a"
      },
      "execution_count": 90,
      "outputs": [
        {
          "output_type": "execute_result",
          "data": {
            "text/plain": [
              "<BarContainer object of 2 artists>"
            ]
          },
          "metadata": {},
          "execution_count": 90
        },
        {
          "output_type": "display_data",
          "data": {
            "text/plain": [
              "<Figure size 432x288 with 1 Axes>"
            ],
            "image/png": "[encoded data removed]"
          },
          "metadata": {
            "needs_background": "light"
          }
        }
      ]
    },
    {
      "cell_type": "code",
      "source": [
        "# Histogram experienced/not experienced a prevalent Stroke\n",
        "num1 = df[df[\"prevalentStroke\"]==1]\n",
        "num2 = df[df[\"prevalentStroke\"]==0]\n",
        "x = ['stroke','no stroke']\n",
        "y = [len(num1),len(num2)]\n",
        "\n",
        "plt.xlabel(\"stroke / no stroke\")\n",
        "plt.ylabel(\"count\")\n",
        "plt.bar(x,y)"
      ],
      "metadata": {
        "colab": {
          "base_uri": "https://localhost:8080/",
          "height": 297
        },
        "id": "yjV8PD_s6IqR",
        "outputId": "0239af8f-b5f8-4b0c-a8b2-34ef49f96975"
      },
      "execution_count": 91,
      "outputs": [
        {
          "output_type": "execute_result",
          "data": {
            "text/plain": [
              "<BarContainer object of 2 artists>"
            ]
          },
          "metadata": {},
          "execution_count": 91
        },
        {
          "output_type": "display_data",
          "data": {
            "text/plain": [
              "<Figure size 432x288 with 1 Axes>"
            ],
            "image/png": "[encoded data removed]"
          },
          "metadata": {
            "needs_background": "light"
          }
        }
      ]
    },
    {
      "cell_type": "code",
      "source": [
        "num1 = df[df[\"BPMeds\"]==1]\n",
        "num2 = df[df[\"BPMeds\"]==0]\n",
        "x = ['taking meds','no meds']\n",
        "y = [len(num1),len(num2)]\n",
        "\n",
        "plt.xlabel(\"taking / no meds\")\n",
        "plt.ylabel(\"count\")\n",
        "plt.bar(x,y)"
      ],
      "metadata": {
        "colab": {
          "base_uri": "https://localhost:8080/",
          "height": 297
        },
        "id": "8Yizb00-6XEM",
        "outputId": "4a113843-878e-46c5-f456-895c065fcaa2"
      },
      "execution_count": 92,
      "outputs": [
        {
          "output_type": "execute_result",
          "data": {
            "text/plain": [
              "<BarContainer object of 2 artists>"
            ]
          },
          "metadata": {},
          "execution_count": 92
        },
        {
          "output_type": "display_data",
          "data": {
            "text/plain": [
              "<Figure size 432x288 with 1 Axes>"
            ],
            "image/png": "[encoded data removed]"
          },
          "metadata": {
            "needs_background": "light"
          }
        }
      ]
    },
    {
      "cell_type": "code",
      "source": [
        "# Smoker/non-smoker histogram\n",
        "num1 = df[df[\"currentSmoker\"]==1]\n",
        "num2 = df[df[\"currentSmoker\"]==0]\n",
        "x = ['smoker','no a smoker']\n",
        "y = [len(num1),len(num2)]\n",
        "\n",
        "plt.xlabel(\"Smoker / not a Smoker\")\n",
        "plt.ylabel(\"count\")\n",
        "plt.bar(x,y)"
      ],
      "metadata": {
        "colab": {
          "base_uri": "https://localhost:8080/",
          "height": 297
        },
        "id": "sjg8BJUh8TN8",
        "outputId": "01779061-aae3-4e7b-f067-c386c6866455"
      },
      "execution_count": 93,
      "outputs": [
        {
          "output_type": "execute_result",
          "data": {
            "text/plain": [
              "<BarContainer object of 2 artists>"
            ]
          },
          "metadata": {},
          "execution_count": 93
        },
        {
          "output_type": "display_data",
          "data": {
            "text/plain": [
              "<Figure size 432x288 with 1 Axes>"
            ],
            "image/png": "[encoded data removed]"
          },
          "metadata": {
            "needs_background": "light"
          }
        }
      ]
    },
    {
      "cell_type": "code",
      "source": [
        "# Histogram at risk/not at risk for heart disease\n",
        "num1 = df[df[\"TenYearCHD\"]==1]\n",
        "num2 = df[df[\"TenYearCHD\"]==0]\n",
        "x = ['TenYearCHD','No CHD']\n",
        "y = [len(num1),len(num2)]\n",
        "\n",
        "plt.xlabel(\"TenYearCHD / no CHD\")\n",
        "plt.ylabel(\"count\")\n",
        "plt.bar(x,y)"
      ],
      "metadata": {
        "colab": {
          "base_uri": "https://localhost:8080/",
          "height": 297
        },
        "id": "i4uehocJ8tE4",
        "outputId": "5839a664-326a-44d5-bad1-69b0f689d82c"
      },
      "execution_count": 94,
      "outputs": [
        {
          "output_type": "execute_result",
          "data": {
            "text/plain": [
              "<BarContainer object of 2 artists>"
            ]
          },
          "metadata": {},
          "execution_count": 94
        },
        {
          "output_type": "display_data",
          "data": {
            "text/plain": [
              "<Figure size 432x288 with 1 Axes>"
            ],
            "image/png": "[encoded data removed]"
          },
          "metadata": {
            "needs_background": "light"
          }
        }
      ]
    },
    {
      "cell_type": "markdown",
      "source": [
        "PART 2:"
      ],
      "metadata": {
        "id": "Hk8-6vYJQH52"
      }
    },
    {
      "cell_type": "markdown",
      "source": [
        "a.\n",
        "How does the amount of daily cigarettes affect the blood pressure of a smoker?"
      ],
      "metadata": {
        "id": "uqWLABf3QLyX"
      }
    },
    {
      "cell_type": "markdown",
      "source": [
        "b.\n",
        "Is there a correlation between the blood glucose level and the risk of getting diabetes?"
      ],
      "metadata": {
        "id": "Px8h36wuQQGR"
      }
    },
    {
      "cell_type": "markdown",
      "source": [
        "c.\n",
        "Do people at risk of heart disease have high blood pressure?"
      ],
      "metadata": {
        "id": "-GTDaGAAQZWK"
      }
    }
  ]
}