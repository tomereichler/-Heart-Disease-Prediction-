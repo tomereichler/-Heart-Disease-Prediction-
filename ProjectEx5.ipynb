{
  "nbformat": 4,
  "nbformat_minor": 0,
  "metadata": {
    "colab": {
      "provenance": []
    },
    "kernelspec": {
      "name": "python3",
      "display_name": "Python 3"
    },
    "language_info": {
      "name": "python"
    }
  },
  "cells": [
    {
      "cell_type": "markdown",
      "source": [
        "# **PART A**"
      ],
      "metadata": {
        "id": "KLABTYQURWGb"
      }
    },
    {
      "cell_type": "markdown",
      "source": [
        "### Research question\n",
        "\n",
        "Does people at risk of heart disease have high blood pressure? Therefore X will be sysBP the systolic blood pressure and the binary variable Y is TenYearCHD which tells whether the person has had a heart attack."
      ],
      "metadata": {
        "id": "zrLoMKwWRdmu"
      }
    },
    {
      "cell_type": "code",
      "execution_count": null,
      "metadata": {
        "id": "jLhDLkKeZRTN"
      },
      "outputs": [],
      "source": [
        "# section 1 question 1\n",
        "import random\n",
        "import pandas as pd\n",
        "import numpy as np\n",
        "from scipy.stats import f, chi2\n",
        "import numpy.linalg as ln\n",
        "from statistics import median\n",
        "df = pd.read_csv(\"framingham_heart_disease.csv\") \n",
        "df =df.dropna()\n",
        "\n",
        "data = df[[\"TenYearCHD\",\"sysBP\"]]\n",
        " # 200 random samples of x, and save all the other samples that not in thos 200 also \n",
        "data_200 = data.sample(n=200, random_state = 55) \n",
        "not_data_200 = data.drop(data_200.index)\n",
        "\n",
        "data_200 = data_200.reset_index(drop = True)\n",
        "\n",
        "not_data_200 = not_data_200.sample(n=1000, random_state = 55) \n",
        "not_data_200 = not_data_200.reset_index(drop = True)\n"
      ]
    },
    {
      "cell_type": "code",
      "source": [
        "# section 1 question 2 intro\n",
        "\n",
        "tau = median(data_200[\"sysBP\"]) \n",
        "\n",
        "data_200['Z'] = np.where((data_200[\"sysBP\"] > tau), 1, 0)\n",
        "not_data_200['Z'] = np.where((not_data_200[\"sysBP\"] > tau), 1, 0)\n",
        "\n",
        "def eta(p):\n",
        "  return np.log(p/(1-p))\n",
        "\n"
      ],
      "metadata": {
        "id": "vbHjhL07MsQT"
      },
      "execution_count": null,
      "outputs": []
    },
    {
      "cell_type": "code",
      "source": [
        "# section 1 question 2 a\n",
        "from statistics import mean\n",
        "\n",
        "def bootstrap_normal_se(df0,  B=400,  n=200, z=1.96):\n",
        "    psi_arr = []\n",
        "    for i in range(B):\n",
        "        sample = np.zeros((n,2))\n",
        "        for j in range(n):\n",
        "          u = random.randint(0, n-1)\n",
        "          sample[j] = df0[[\"TenYearCHD\", \"Z\"]].loc[u]\n",
        "\n",
        "        sample = pd.DataFrame(sample, columns=[\"TenYearCHD\", \"Z\"])\n",
        "        Y_0 = sample.loc[sample[\"TenYearCHD\"]==0][\"Z\"]\n",
        "        p0 = Y_0.sum()/len(Y_0)\n",
        "        Y_1 = sample.loc[sample[\"TenYearCHD\"]==1][\"Z\"]\n",
        "        p1 = Y_1.sum()/len(Y_1)\n",
        "        psi_arr.append(eta(p0)-eta(p1))\n",
        "   \n",
        "    curr_bootstrap_mean = mean(psi_arr)\n",
        "    se = np.std(psi_arr)\n",
        "    pivot_CI = (curr_bootstrap_mean - se*z,curr_bootstrap_mean + se*z)\n",
        "    \n",
        "    print(\"Psi estimator :\", curr_bootstrap_mean)\n",
        "    print(\"Confidence interval of psi, when s.e based on Bootstrap and Normal approximation: \", pivot_CI)\n",
        "\n",
        "bootstrap_normal_se(data_200)"
      ],
      "metadata": {
        "colab": {
          "base_uri": "https://localhost:8080/"
        },
        "outputId": "9bca03ef-c52a-44ff-8c41-01d86ae553cf",
        "id": "B0ayaUNwPBy7"
      },
      "execution_count": null,
      "outputs": [
        {
          "output_type": "stream",
          "name": "stdout",
          "text": [
            "Psi estimator : -1.247632090746516\n",
            "Confidence interval of psi, when s.e based on Bootstrap and Normal approximation:  (-2.2049725407542793, -0.29029164073875235)\n"
          ]
        }
      ]
    },
    {
      "cell_type": "code",
      "source": [
        "# section 1 question 2 b\n",
        "\n",
        "def uniform_prior(df0,  B=400,  n=200):\n",
        "    psi_arr = []\n",
        "\n",
        "    Y_0 = df0.loc[df0[\"TenYearCHD\"]==0][\"Z\"]\n",
        "    s0 = Y_0.sum()\n",
        "    m0 = len(Y_0)\n",
        "    Y_1 = df0.loc[df0[\"TenYearCHD\"]==1][\"Z\"]\n",
        "    s1 = Y_1.sum()\n",
        "    m1 = len(Y_1)\n",
        "    \n",
        "    for i in range(B):\n",
        "        p0 = np.random.beta(s0+1,m0-s0+1)\n",
        "        p1 = np.random.beta(s1+1,m1-s1+1)\n",
        "        psi_arr.append(eta(p0)-eta(p1))\n",
        "   \n",
        "    psi_arr = sorted(psi_arr)\n",
        "    q_low = np.quantile(psi_arr, 0.025)\n",
        "    q_high = np.quantile(psi_arr, 0.975)\n",
        "    CI = (q_low,q_high)\n",
        "\n",
        "    print(\"Psi estimator :\", mean(psi_arr))\n",
        "    print(\"Credible interval of psi, when prior based on uniform prior: \", CI)\n",
        "\n",
        "uniform_prior(data_200)"
      ],
      "metadata": {
        "colab": {
          "base_uri": "https://localhost:8080/"
        },
        "id": "Hbh-uO92wI_D",
        "outputId": "21a65beb-0a7f-43c7-8a2d-823c8774be03"
      },
      "execution_count": null,
      "outputs": [
        {
          "output_type": "stream",
          "name": "stdout",
          "text": [
            "Psi estimator : -1.1770767810630545\n",
            "Credible interval of psi, when prior based on uniform prior:  (-2.169982825445903, -0.2403141088234529)\n"
          ]
        }
      ]
    },
    {
      "cell_type": "code",
      "source": [
        "# section 1 question 2 c\n",
        "\n",
        "def jeffreys_prior(df0,  B=400,  n=200):\n",
        "    psi_arr = []\n",
        "    Y_0 = df0.loc[df0[\"TenYearCHD\"]==0][\"Z\"]\n",
        "    s0 = Y_0.sum()\n",
        "    m0 = len(Y_0)\n",
        "    Y_1 = df0.loc[df0[\"TenYearCHD\"]==1][\"Z\"]\n",
        "    s1 = Y_1.sum()\n",
        "    m1 = len(Y_1)\n",
        "\n",
        "    for i in range(B):\n",
        "        p0 = np.random.beta(s0+0.5,m0-s0+0.5)\n",
        "        p1 = np.random.beta(s1+0.5,m1-s1+0.5)\n",
        "        psi_arr.append(eta(p0)-eta(p1))\n",
        "   \n",
        "    psi_arr = sorted(psi_arr)\n",
        "    q_low = np.quantile(psi_arr, 0.025)\n",
        "    q_high = np.quantile(psi_arr, 0.975)\n",
        "    CI = (q_low,q_high)\n",
        "\n",
        "    print(\"Psi estimator :\", mean(psi_arr))\n",
        "    print(\"Credible interval of psi, when prior based on jeffreys prior: \", CI)\n",
        "\n",
        "jeffreys_prior(data_200)"
      ],
      "metadata": {
        "colab": {
          "base_uri": "https://localhost:8080/"
        },
        "id": "6F6uwfGzd06s",
        "outputId": "4fdf4065-b4da-4828-f846-127debbd3aba"
      },
      "execution_count": null,
      "outputs": [
        {
          "output_type": "stream",
          "name": "stdout",
          "text": [
            "Psi estimator : -1.2329872637892119\n",
            "Credible interval of psi, when prior based on jeffreys prior:  (-2.330734807389785, -0.32836868620485316)\n"
          ]
        }
      ]
    },
    {
      "cell_type": "code",
      "source": [
        "# section 1 question 2 d\n",
        "from matplotlib import pyplot as plt\n",
        "\n",
        "def beta_prior(df0,df1,  B=400,  n=1000):\n",
        "    psi_arr = []\n",
        "\n",
        "    Y_00 = df0.loc[df0[\"TenYearCHD\"]==0][\"Z\"]\n",
        "    s00 = Y_00.sum()\n",
        "    m00 = len(Y_00)\n",
        "    Y_01 = df0.loc[df0[\"TenYearCHD\"]==1][\"Z\"]\n",
        "    s01 = Y_01.sum()\n",
        "    m01 = len(Y_01)\n",
        "\n",
        "    Y_10 = df1.loc[df1[\"TenYearCHD\"]==0][\"Z\"]\n",
        "    s10 = Y_10.sum()\n",
        "    m10 = len(Y_10)\n",
        "    Y_11 = df1.loc[df1[\"TenYearCHD\"]==1][\"Z\"]\n",
        "    s11 = Y_11.sum()\n",
        "    m11 = len(Y_11)\n",
        "\n",
        "    for i in range(B):\n",
        "        p0 = np.random.beta((s00+1)+s10,(m00-s00+1)+m10-s10)\n",
        "        p1 = np.random.beta((s01+1)+s11,(m01-s01+1)+m11-s11)\n",
        "        psi_arr.append(eta(p0)-eta(p1))\n",
        "   \n",
        "    psi_arr = sorted(psi_arr)\n",
        "    q_low = np.quantile(psi_arr, 0.025)\n",
        "    q_high = np.quantile(psi_arr, 0.975)\n",
        "    CI = (q_low,q_high)\n",
        "\n",
        "    print(\"Psi estimator :\", mean(psi_arr))\n",
        "    print(\"Credible interval of psi, when prior based on beta family: \", CI)\n",
        "    print(f\"Posterior distribution for Z=0: beta({(s00+1)+s10},{(m00-s00+1)+m10-s10}), and for Z=1 : beta({(s01+1)+s11},{(m01-s01+1)+m11-s11})\")\n",
        "\n",
        "beta_prior(not_data_200, data_200)"
      ],
      "metadata": {
        "colab": {
          "base_uri": "https://localhost:8080/"
        },
        "id": "4uaNpoF0WGZh",
        "outputId": "235352bb-2f1a-4d9f-acf6-a1eb11712726"
      },
      "execution_count": null,
      "outputs": [
        {
          "output_type": "stream",
          "name": "stdout",
          "text": [
            "Psi estimator : -0.7939159369373787\n",
            "Credible interval of psi, when prior based on beta family:  (-1.1616382097217068, -0.43456791343473805)\n",
            "Posterior distribution for Z=0: beta(530,506), and for Z=1 : beta(117,51)\n"
          ]
        }
      ]
    },
    {
      "cell_type": "markdown",
      "source": [
        "### section 1 question 2 e\n",
        "\n",
        "It can be seen that when we relied on the uniform or Jeffrey's prior and the observed data, we got a significantly larger confidence interval and a smaller Psi estimator than section d in which we calculated both the prior and the posterior based on the past data and the observed data respectively, something that may arise due to the larger amount of data. In addition all the estimators we received for Psi is negative, therefore our conclusion is that P(𝑍 = 1|𝑌 = 0)  < P(𝑍 = 1|𝑌 = 1) \n"
      ],
      "metadata": {
        "id": "8Gt1yj8_p8we"
      }
    },
    {
      "cell_type": "markdown",
      "source": [
        "# **PART B**"
      ],
      "metadata": {
        "id": "zKk_PMxqEeei"
      }
    },
    {
      "cell_type": "markdown",
      "source": [
        "**age** (discrete variable, name in the data - Age), **cholesterol** (continuous variable, name in the data - totChol) and **cigarettes Per Day** (discrete variable, name in the data - cigsPerDay) on the explanatory variable **BMI** (continuous variable, name in the data - BMI)"
      ],
      "metadata": {
        "id": "bLc_bu9WQxUj"
      }
    },
    {
      "cell_type": "code",
      "execution_count": null,
      "metadata": {
        "id": "HGw_rRKyQbuV"
      },
      "outputs": [],
      "source": [
        "# section 2 q1\n",
        "import pandas as pd\n",
        "import numpy as np\n",
        "import numpy.linalg as ln\n",
        "\n",
        "df = pd.read_csv(\"framingham_heart_disease.csv\") \n",
        "data = df[[\"age\",\"totChol\",\"cigsPerDay\",\"BMI\"]].dropna()\n",
        "# 1000 random samples of x, and save all the other samples that not in thos 200 also \n",
        "\n",
        "data_1000 = data.sample(n=1000, random_state =1).reset_index(drop = True)\n",
        "coef_dict  = {}"
      ]
    },
    {
      "cell_type": "code",
      "source": [
        "# section 2 q2\n",
        "import random\n",
        "import pandas as pd\n",
        "import numpy as np\n",
        "from scipy.stats import f, chi2\n",
        "import numpy.linalg as ln\n",
        "from sklearn.linear_model import LinearRegression\n",
        "\n",
        "data_1000.insert(0, 'b0', 1)\n",
        "\n",
        "def beta_with_CI(df, with_null = False):\n",
        "    y = df[\"BMI\"]\n",
        "    x = df[['b0', \"age\",\"totChol\",\"cigsPerDay\"]]\n",
        "    \n",
        "    model = LinearRegression()\n",
        "    model.fit(x, y)\n",
        "\n",
        "    print('bias :',model.intercept_,', Coefficients (age, totChol, cigsPerDay):', model.coef_[1:])\n",
        "    b_ols = [model.intercept_, model.coef_[1], model.coef_[2], model.coef_[3]]\n",
        "\n",
        "    C = ln.inv(np.dot(np.transpose(x),x))\n",
        "    z = 2\n",
        "    e_square = np.dot(np.transpose(y-np.dot(x,b_ols)),y-np.dot(x,b_ols))\n",
        "    res_var_est = e_square/(len(y)-4)\n",
        "    C=ln.inv(np.dot(np.transpose(x),x))\n",
        "    CIn = []\n",
        "    for i in range(len(C)):\n",
        "      res_se_est = np.sqrt(res_var_est*C[i][i])\n",
        "      interval = z*res_se_est\n",
        "      CI = (b_ols[i]-interval,b_ols[i]+interval)\n",
        "      CIn.append(CI) \n",
        "      if not with_null:\n",
        "         print(\"\",i ,\"Confidence interval of beta, s.e based on variance matrix, full data: [\",CI,\"]\")\n",
        "      else:\n",
        "         print(\"\",i ,\"Confidence interval of beta, s.e based on variance matrix, full partial: [\",CI,\"]\") \n",
        "    return (CIn, b_ols)\n",
        "coef_dict['2'] = beta_with_CI(data_1000)"
      ],
      "metadata": {
        "colab": {
          "base_uri": "https://localhost:8080/"
        },
        "id": "xUwKdl8GU2j3",
        "outputId": "6a780a45-e98a-48dd-8148-b75228e5308f"
      },
      "execution_count": null,
      "outputs": [
        {
          "output_type": "stream",
          "name": "stdout",
          "text": [
            "bias : 22.868749039534435 , Coefficients (age, totChol, cigsPerDay): [ 0.04896261  0.00311574 -0.01463124]\n",
            " 0 Confidence interval of beta, s.e based on variance matrix, full data: [ (21.053875692455826, 24.683622386613045) ]\n",
            " 1 Confidence interval of beta, s.e based on variance matrix, full data: [ (0.01724839622147859, 0.08067682739223905) ]\n",
            " 2 Confidence interval of beta, s.e based on variance matrix, full data: [ (-0.0028282798314465934, 0.009059761607729104) ]\n",
            " 3 Confidence interval of beta, s.e based on variance matrix, full data: [ (-0.036011952624926014, 0.006749476262309775) ]\n"
          ]
        }
      ]
    },
    {
      "cell_type": "code",
      "source": [
        "# section 2 q3\n",
        "import random\n",
        "new_data_1000 = data_1000.sort_values('BMI').reset_index(drop = True)\n",
        "new_data_1000['probability'] = (new_data_1000['BMI'].index+1) / 1000\n",
        "count=0\n",
        "while count<500:\n",
        "  for i, row in new_data_1000.iterrows():\n",
        "    p = row._get_value(5, 'probability')\n",
        "    res = np.random.binomial(1, p)\n",
        "    if res==1 and count<500:\n",
        "      new_data_1000.iloc[i,[4]] = np.NaN\n",
        "      count+=1"
      ],
      "metadata": {
        "id": "_VFtkFjVXSOF"
      },
      "execution_count": null,
      "outputs": []
    },
    {
      "cell_type": "code",
      "source": [
        "# section 2 q4 a\n",
        "\n",
        "new_data_1000_a = new_data_1000.dropna()\n",
        "coef_dict['4a'] = beta_with_CI(new_data_1000_a)"
      ],
      "metadata": {
        "colab": {
          "base_uri": "https://localhost:8080/"
        },
        "id": "15DF97p9c7Om",
        "outputId": "68c6f029-370b-44f8-a565-6e8e8d33d9c8"
      },
      "execution_count": null,
      "outputs": [
        {
          "output_type": "stream",
          "name": "stdout",
          "text": [
            "bias : 21.955385496063574 , Coefficients (age, totChol, cigsPerDay): [-0.00062013  0.00944618 -0.03090314]\n",
            " 0 Confidence interval of beta, s.e based on variance matrix, full data: [ (20.180635722672594, 23.730135269454554) ]\n",
            " 1 Confidence interval of beta, s.e based on variance matrix, full data: [ (-0.03385091440963135, 0.03261065787427213) ]\n",
            " 2 Confidence interval of beta, s.e based on variance matrix, full data: [ (0.0033866406015869077, 0.015505725200448909) ]\n",
            " 3 Confidence interval of beta, s.e based on variance matrix, full data: [ (-0.05468236251690214, -0.007123917426039218) ]\n"
          ]
        }
      ]
    },
    {
      "cell_type": "code",
      "source": [
        "# section 2 q4 b\n",
        "from sklearn.linear_model import LinearRegression\n",
        "\n",
        "def beta_with_regression_imputation(df):\n",
        "    df = df.copy()\n",
        "    w_0 = df[df[\"BMI\"].isna()][['b0', 'age', 'totChol', 'cigsPerDay']]    \n",
        "    w_1 = df[df[\"BMI\"].notnull()][['b0', \"age\",\"totChol\",\"cigsPerDay\"]]\n",
        "    y_1 = df[df[\"BMI\"].notnull()][\"BMI\"]\n",
        "\n",
        "    \n",
        "    model = LinearRegression()\n",
        "    model.fit(w_1, y_1)\n",
        "\n",
        "    RI_values = model.predict(w_0)\n",
        "    \n",
        "    df.loc[df[\"BMI\"].isna(),\"BMI\"] = RI_values\n",
        "    \n",
        "    y = df[\"BMI\"]\n",
        "    x = df[['b0', \"age\",\"totChol\",\"cigsPerDay\"]]\n",
        "\n",
        "    model.fit(x, y)\n",
        "\n",
        "    print('bias :',model.intercept_,', Coefficients (age, totChol, cigsPerDay):', model.coef_[1:])\n",
        "    b_ols = [model.intercept_, model.coef_[1], model.coef_[2], model.coef_[3]]\n",
        "    C = ln.inv(np.dot(np.transpose(x),x))\n",
        "    z = 1.96\n",
        "    e_square = np.dot(np.transpose(y-np.dot(x,b_ols)),y-np.dot(x,b_ols))\n",
        "    res_var_est = e_square/(len(y)-4)\n",
        "    C=ln.inv(np.dot(np.transpose(x),x))\n",
        "    CIn = []\n",
        "    for i in range(len(C)):\n",
        "      res_se_est = np.sqrt(res_var_est*C[i][i])\n",
        "      interval = z*res_se_est\n",
        "      CI = (b_ols[i]-interval,b_ols[i]+interval)\n",
        "      CIn.append(CI) \n",
        "      print(\"\",i ,\"Confidence interval of beta, based on regression imputation: [\",CI,\"]\")\n",
        "    return (CIn, b_ols)\n",
        "coef_dict['4b'] = beta_with_regression_imputation(new_data_1000)\n",
        "\n"
      ],
      "metadata": {
        "colab": {
          "base_uri": "https://localhost:8080/"
        },
        "id": "Bw8Vs2qf5FpR",
        "outputId": "d81b44d1-6adf-4616-d185-4c83e05ee731"
      },
      "execution_count": null,
      "outputs": [
        {
          "output_type": "stream",
          "name": "stdout",
          "text": [
            "bias : 21.955385496063577 , Coefficients (age, totChol, cigsPerDay): [-0.00062013  0.00944618 -0.03090314]\n",
            " 0 Confidence interval of beta, based on regression imputation: [ (21.058580005858662, 22.852190986268493) ]\n",
            " 1 Confidence interval of beta, based on regression imputation: [ (-0.016291460209543918, 0.015051203674184811) ]\n",
            " 2 Confidence interval of beta, based on regression imputation: [ (0.006508991485540427, 0.01238337431649537) ]\n",
            " 3 Confidence interval of beta, based on regression imputation: [ (-0.04146825302930744, -0.020338026913633976) ]\n"
          ]
        }
      ]
    },
    {
      "cell_type": "markdown",
      "source": [
        "### section 2 q4 b continue-\n",
        "The result is not different from the previous section, because we completed the missing values with values from the regression line"
      ],
      "metadata": {
        "id": "vheWlV0mNUIA"
      }
    },
    {
      "cell_type": "code",
      "source": [
        "# section 2 q4 c\n",
        "def beta_with_multiple_imputation(df, M=200):\n",
        "    df = df.copy()\n",
        "    w_0 = df[df[\"BMI\"].isna()][['b0', 'age', 'totChol', 'cigsPerDay']]    \n",
        "    w_1 = df[df[\"BMI\"].notnull()][['b0', \"age\",\"totChol\",\"cigsPerDay\"]]\n",
        "    y_1 = df[df[\"BMI\"].notnull()][\"BMI\"]\n",
        "    x = df[['b0', \"age\",\"totChol\",\"cigsPerDay\"]]\n",
        "\n",
        "    \n",
        "    model = LinearRegression()\n",
        "    model.fit(w_1, y_1)\n",
        "    beta_R1 = [model.intercept_, model.coef_[1], model.coef_[2], model.coef_[3]]\n",
        "\n",
        "    e_square_comlete_data = np.dot(np.transpose(y_1-np.dot(w_1,beta_R1)),y_1-np.dot(w_1,beta_R1))\n",
        "    se_est_comlete_data = np.sqrt(e_square_comlete_data/(len(y_1)-4))\n",
        "    miu = []\n",
        "    RI_values = model.predict(w_0)\n",
        "    RI_values = np.array(RI_values)\n",
        "\n",
        "    for i in range(M):\n",
        "      df_copy = df.copy()\n",
        "      count = 0\n",
        "      for i, row in df_copy[df_copy[\"BMI\"].isna()].iterrows():\n",
        "        y_im = np.random.normal(loc=RI_values[count], scale=se_est_comlete_data)\n",
        "        df_copy.iloc[i,[4]] = y_im\n",
        "        count += 1\n",
        "\n",
        "      y_m = df_copy[\"BMI\"]\n",
        "      model.fit(x, y_m)\n",
        "      beta_m = [model.intercept_, model.coef_[1], model.coef_[2], model.coef_[3]]\n",
        "      miu.append(beta_m)\n",
        "\n",
        "    miu = np.array(miu)\n",
        "    miu_MI = np.average(miu, axis = 0)\n",
        "\n",
        "    df.loc[df[\"BMI\"].isna(),\"BMI\"] = np.dot(w_0, miu_MI)\n",
        "\n",
        "    y = df[\"BMI\"]\n",
        "\n",
        "    model.fit(x, y)\n",
        "\n",
        "    print('bias :',model.intercept_,', Coefficients (age, totChol, cigsPerDay):', model.coef_[1:])\n",
        "    b_ols = [model.intercept_, model.coef_[1], model.coef_[2], model.coef_[3]]\n",
        "    C = ln.inv(np.dot(np.transpose(x),x))\n",
        "    z = 1.96\n",
        "    e_square = np.dot(np.transpose(y-np.dot(x,b_ols)),y-np.dot(x,b_ols))\n",
        "    res_var_est = e_square/(len(y)-4)\n",
        "    C=ln.inv(np.dot(np.transpose(x),x))\n",
        "    CIn = []\n",
        "    for i in range(len(C)):\n",
        "      res_se_est = np.sqrt(res_var_est*C[i][i])\n",
        "      interval = z*res_se_est\n",
        "      CI = (b_ols[i]-interval,b_ols[i]+interval)\n",
        "      CIn.append(CI) \n",
        "      print(\"\",i ,\"Confidence interval of beta, based on multiple imputation: [\",CI,\"]\")\n",
        "    \n",
        "    return miu, miu_MI, (CIn, b_ols)\n",
        "miu, miu_MI, coef_dict['4c'] = beta_with_multiple_imputation(new_data_1000)"
      ],
      "metadata": {
        "colab": {
          "base_uri": "https://localhost:8080/"
        },
        "id": "hVDnz8-TD0zx",
        "outputId": "1e2619f1-be30-4f6c-c29d-35f392e613e3"
      },
      "execution_count": null,
      "outputs": [
        {
          "output_type": "stream",
          "name": "stdout",
          "text": [
            "bias : 21.962621241037418 , Coefficients (age, totChol, cigsPerDay): [-0.00054999  0.00940873 -0.03102419]\n",
            " 0 Confidence interval of beta, based on multiple imputation: [ (21.065815205650413, 22.859427276424423) ]\n",
            " 1 Confidence interval of beta, based on multiple imputation: [ (-0.01622133122978404, 0.015121351707640385) ]\n",
            " 2 Confidence interval of beta, based on multiple imputation: [ (0.006471536127716171, 0.012345922529800338) ]\n",
            " 3 Confidence interval of beta, based on multiple imputation: [ (-0.04158930781779174, -0.020459068856723255) ]\n"
          ]
        }
      ]
    },
    {
      "cell_type": "code",
      "source": [
        "# section 2 q4 d\n",
        "def rubin_se(df, miu_MI , miu_list, M=200):\n",
        "    x = df[['b0', \"age\",\"totChol\",\"cigsPerDay\"]]\n",
        "\n",
        "    C = ln.inv(np.dot(np.transpose(x),x))\n",
        "    z = 1.96\n",
        "    C=ln.inv(np.dot(np.transpose(x),x))\n",
        "    CIn = []\n",
        "    for i in range(len(C)):\n",
        "      res_se_est = np.sqrt((1/M)*M*C[i][i] + (M+1)/(M*(M-1))*np.sum(np.power(miu_list-miu_MI,2)))\n",
        "      interval = z*res_se_est\n",
        "      CI = (miu_MI[i]-interval,miu_MI[i]+interval)\n",
        "      CIn.append(CI) \n",
        "      print(\"\",i ,\"Confidence interval of beta, rubin s.e and multiple imputation: [\",CI,\"]\")\n",
        "    return (CIn, [])\n",
        "coef_dict['4d'] = rubin_se(new_data_1000, miu_MI , miu, M=200)"
      ],
      "metadata": {
        "colab": {
          "base_uri": "https://localhost:8080/"
        },
        "outputId": "743d3c6f-e29e-4eec-9aa7-f969b53c7627",
        "id": "4FEO0IrMVk_Q"
      },
      "execution_count": null,
      "outputs": [
        {
          "output_type": "stream",
          "name": "stdout",
          "text": [
            " 0 Confidence interval of beta, rubin s.e and multiple imputation: [ (21.042004764028377, 22.903017087452326) ]\n",
            " 1 Confidence interval of beta, rubin s.e and multiple imputation: [ (-0.814661713543508, 0.8136053616876887) ]\n",
            " 2 Confidence interval of beta, rubin s.e and multiple imputation: [ (-0.8047274007826589, 0.8234661742680675) ]\n",
            " 3 Confidence interval of beta, rubin s.e and multiple imputation: [ (-0.8452268391789648, 0.7829986826095534) ]\n"
          ]
        }
      ]
    },
    {
      "cell_type": "code",
      "source": [
        "# section 2 q4 e\n",
        "from sklearn.linear_model import LogisticRegression\n",
        "\n",
        "df_e = new_data_1000.copy()\n",
        "df_e['R'] = np.where((df_e[\"BMI\"].notna()), 1, -1)\n",
        "\n",
        "W = df_e[['b0', \"age\",\"totChol\",\"cigsPerDay\"]]\n",
        "R = df_e['R']\n",
        "\n",
        "log_reg = LogisticRegression()\n",
        "log_reg.fit(W, R)\n",
        "\n",
        "#Use the model to predict the probability of R = 1 given the explanatory variables\n",
        "probability = log_reg.predict_proba(W)[:, 1]\n",
        "\n",
        "print(\"Probability of R = 1 given b0, age, totChol, cigsPerDay:\", probability)"
      ],
      "metadata": {
        "id": "L-kLsRHHKd53",
        "colab": {
          "base_uri": "https://localhost:8080/"
        },
        "outputId": "d9b5383f-946a-441d-fd8f-ce31cc2191ae"
      },
      "execution_count": null,
      "outputs": [
        {
          "output_type": "stream",
          "name": "stdout",
          "text": [
            "Probability of R = 1 given b0, age, totChol, cigsPerDay: [0.5881655  0.61248909 0.53425676 0.53620896 0.38706794 0.54137107\n",
            " 0.53065271 0.44813037 0.56109269 0.45935877 0.53447801 0.44049166\n",
            " 0.50521562 0.57949319 0.47000593 0.47801238 0.53101518 0.55872806\n",
            " 0.53990295 0.43001949 0.54229497 0.5876132  0.37092904 0.53597755\n",
            " 0.39380032 0.57593616 0.60800377 0.54527676 0.47539001 0.44144727\n",
            " 0.55489456 0.4343549  0.51252739 0.53522786 0.5210719  0.50806466\n",
            " 0.55526674 0.51673105 0.48433398 0.55357065 0.45235803 0.58266629\n",
            " 0.48417967 0.60781642 0.39546198 0.56278278 0.44123133 0.4246024\n",
            " 0.5094493  0.55659246 0.52705131 0.56830535 0.54387095 0.49975728\n",
            " 0.41635413 0.4144491  0.46406181 0.47161066 0.52146085 0.3693075\n",
            " 0.55397951 0.51753856 0.52829796 0.51131965 0.52725342 0.47266388\n",
            " 0.41895754 0.47754291 0.48005657 0.5470425  0.56908589 0.53680406\n",
            " 0.57486253 0.56390431 0.51211735 0.45389017 0.57715331 0.56919615\n",
            " 0.46136555 0.50572717 0.54371436 0.49484716 0.57778802 0.538975\n",
            " 0.54802228 0.41178811 0.57798655 0.49146879 0.42661501 0.42146188\n",
            " 0.58193645 0.57131123 0.47793875 0.49617305 0.54454544 0.5043265\n",
            " 0.58365599 0.40397368 0.56945213 0.54083063 0.56123213 0.52396458\n",
            " 0.5658198  0.542116   0.59802292 0.56598753 0.58462924 0.50222051\n",
            " 0.42958871 0.49854007 0.5910082  0.40779411 0.4879222  0.5409551\n",
            " 0.53874122 0.51375562 0.57235533 0.585367   0.44395172 0.60248279\n",
            " 0.5010807  0.43762043 0.52440814 0.58609836 0.50159231 0.58007523\n",
            " 0.53553189 0.50077514 0.39176966 0.55447745 0.55509812 0.45507835\n",
            " 0.58470442 0.46299804 0.42955358 0.5541212  0.52681345 0.50105155\n",
            " 0.56869098 0.56041352 0.52992066 0.58916385 0.43114569 0.52427277\n",
            " 0.5100123  0.50452918 0.50255856 0.43116443 0.57859861 0.57438754\n",
            " 0.44531498 0.50276795 0.51237819 0.43529817 0.485296   0.49516565\n",
            " 0.55789097 0.51965745 0.566136   0.56579115 0.54085626 0.55259384\n",
            " 0.506297   0.54046918 0.3997131  0.57620944 0.40455649 0.55987398\n",
            " 0.59495322 0.55603054 0.5526441  0.57115738 0.44072044 0.43349143\n",
            " 0.50435564 0.43412048 0.53960362 0.50377572 0.54576802 0.61301606\n",
            " 0.52334446 0.46624335 0.53407734 0.47690752 0.48277446 0.45508091\n",
            " 0.58912313 0.4887714  0.45140224 0.60020058 0.5466018  0.53708229\n",
            " 0.52939749 0.49466615 0.4703104  0.41700496 0.42084929 0.59181133\n",
            " 0.52049371 0.60695352 0.52049371 0.51502304 0.54737423 0.43321911\n",
            " 0.54000183 0.55595005 0.51750944 0.47517444 0.51850976 0.54197545\n",
            " 0.51849688 0.51349481 0.53457704 0.53388842 0.58655799 0.44651616\n",
            " 0.42442625 0.56118131 0.55235715 0.57456052 0.50804326 0.61208234\n",
            " 0.53624919 0.51423771 0.53943551 0.55957278 0.53326304 0.53232996\n",
            " 0.5884341  0.46281878 0.59136918 0.42997068 0.39457258 0.57253508\n",
            " 0.4310675  0.44007883 0.56342554 0.5328846  0.49926108 0.54812087\n",
            " 0.41222219 0.50452918 0.43521219 0.56788494 0.49287596 0.46422497\n",
            " 0.6028066  0.54479406 0.45466296 0.42800458 0.56927534 0.48337876\n",
            " 0.51489116 0.55167278 0.53015834 0.38122342 0.45638808 0.49927063\n",
            " 0.5195125  0.55213039 0.4618067  0.4246024  0.55812115 0.5591057\n",
            " 0.55336364 0.5768514  0.5405271  0.57294604 0.48298285 0.42257397\n",
            " 0.50801307 0.52666278 0.38638393 0.54984306 0.51021465 0.56220578\n",
            " 0.42803313 0.59253924 0.48521901 0.47636021 0.58878329 0.47186381\n",
            " 0.54404981 0.4228755  0.52184128 0.56118131 0.52305862 0.43685999\n",
            " 0.52931522 0.49284682 0.44353822 0.42594998 0.49422496 0.45666323\n",
            " 0.49347491 0.48763222 0.60346663 0.58453535 0.37260801 0.58446342\n",
            " 0.51951327 0.42315877 0.50336699 0.49307165 0.5276419  0.41121431\n",
            " 0.42269955 0.51011177 0.52280485 0.52738169 0.53520219 0.55143676\n",
            " 0.4584057  0.49796346 0.4328524  0.5782437  0.56261476 0.4219851\n",
            " 0.52331538 0.57930164 0.54253181 0.45332516 0.57110607 0.466086\n",
            " 0.56498713 0.59979679 0.57131123 0.45487065 0.54947257 0.49230283\n",
            " 0.42905547 0.59148787 0.39329393 0.51228648 0.48296043 0.52624515\n",
            " 0.45662482 0.56603823 0.54617049 0.44985115 0.54518823 0.54046585\n",
            " 0.57076218 0.3943725  0.57072425 0.54268181 0.44810154 0.48822423\n",
            " 0.50900924 0.57034235 0.51712026 0.48859124 0.49383536 0.40011513\n",
            " 0.55451721 0.52606205 0.5105536  0.48595817 0.43585861 0.41804532\n",
            " 0.52235781 0.53033794 0.49211927 0.54927875 0.42582415 0.48017833\n",
            " 0.58645138 0.49557404 0.44753784 0.42348888 0.56922145 0.55045831\n",
            " 0.47215305 0.51173746 0.57778978 0.43833694 0.41426487 0.55626533\n",
            " 0.53036698 0.50180841 0.49447302 0.57257542 0.58932587 0.53213427\n",
            " 0.44979344 0.5535579  0.45646821 0.53432428 0.48275127 0.48543074\n",
            " 0.48762629 0.53153147 0.42697959 0.40516195 0.43759833 0.46868825\n",
            " 0.57869565 0.58237834 0.48604555 0.43815944 0.39214113 0.43803276\n",
            " 0.4798766  0.44395172 0.44785364 0.59035756 0.47220783 0.48439556\n",
            " 0.47287189 0.49430569 0.46882515 0.46444948 0.43123674 0.44297565\n",
            " 0.55542543 0.49898132 0.52599626 0.46356488 0.47087834 0.43320644\n",
            " 0.54366316 0.51406429 0.5370533  0.45067384 0.45779291 0.426536\n",
            " 0.4897888  0.56431622 0.4162198  0.54562482 0.40423725 0.56092275\n",
            " 0.49892302 0.48568533 0.46962103 0.45043838 0.46809082 0.44029795\n",
            " 0.56404354 0.60298169 0.44640422 0.5677746  0.47927854 0.49713258\n",
            " 0.55086005 0.49485309 0.49908082 0.53948679 0.55426109 0.42384099\n",
            " 0.45590268 0.56731278 0.41025711 0.51231993 0.53207004 0.49164899\n",
            " 0.53148625 0.49671379 0.50348894 0.38895352 0.5235758  0.60345848\n",
            " 0.55118617 0.5256477  0.47246102 0.51328556 0.537678   0.45683266\n",
            " 0.53543288 0.51702086 0.35714117 0.46872853 0.43485777 0.54887164\n",
            " 0.43677394 0.56863706 0.45814319 0.37187957 0.52232872 0.52471965\n",
            " 0.48433732 0.50800638 0.44532262 0.42097473 0.44438747 0.45775296\n",
            " 0.43068023 0.52045173 0.46166417 0.54461524 0.54659848 0.56118131\n",
            " 0.50879217 0.41496485 0.55040724 0.55508868 0.44915971 0.5016764\n",
            " 0.4423557  0.42559742 0.37947421 0.47929761 0.43036792 0.56164461\n",
            " 0.49622465 0.53193524 0.57930164 0.46803943 0.44949685 0.5299497\n",
            " 0.57128267 0.58269464 0.41904791 0.55985185 0.60728518 0.45208414\n",
            " 0.43273791 0.56906995 0.39065603 0.60158791 0.56866566 0.39154232\n",
            " 0.53733852 0.39623536 0.39340048 0.48551811 0.49191662 0.42407402\n",
            " 0.49053867 0.54367346 0.5318942  0.54378418 0.43047233 0.49512612\n",
            " 0.59661908 0.56327686 0.47963844 0.46914572 0.49367758 0.39320062\n",
            " 0.43032415 0.47802442 0.46601513 0.43267541 0.43857188 0.55810843\n",
            " 0.42818111 0.5179468  0.56141297 0.39960844 0.47404424 0.49923193\n",
            " 0.48709465 0.56631062 0.42264265 0.47344684 0.38201914 0.51151863\n",
            " 0.53657346 0.4072437  0.43742089 0.42738951 0.44519882 0.46198591\n",
            " 0.52008228 0.413249   0.43317781 0.59736906 0.39649669 0.53204101\n",
            " 0.46741384 0.50180841 0.45118716 0.52671757 0.45368255 0.51746494\n",
            " 0.44361794 0.50139916 0.55670426 0.52648303 0.52067366 0.44214909\n",
            " 0.39013807 0.44260052 0.5552168  0.43761103 0.53842382 0.52630328\n",
            " 0.53567023 0.54221563 0.45206804 0.47033945 0.5271542  0.56860846\n",
            " 0.42897307 0.44078961 0.42103157 0.40631749 0.42859132 0.58332736\n",
            " 0.52062215 0.40762    0.47280842 0.46310734 0.57620944 0.39248491\n",
            " 0.4913951  0.48296043 0.55251322 0.52620405 0.50617506 0.56366024\n",
            " 0.56568069 0.54078554 0.47147541 0.48050918 0.51592345 0.47904041\n",
            " 0.56059113 0.57319028 0.4057677  0.50960035 0.46625002 0.61684251\n",
            " 0.44964387 0.54348427 0.47293001 0.52152182 0.48921914 0.54142231\n",
            " 0.50917835 0.59494401 0.58630479 0.48843352 0.53429861 0.485296\n",
            " 0.53615353 0.49309152 0.5619488  0.46666694 0.48900984 0.55243701\n",
            " 0.41458652 0.54843055 0.44872306 0.53306741 0.59757051 0.42422165\n",
            " 0.41342384 0.51481383 0.56386624 0.50138961 0.5334425  0.57357155\n",
            " 0.44166653 0.4405204  0.43414912 0.49359684 0.44046293 0.5338458\n",
            " 0.46159853 0.43867682 0.53482395 0.48304108 0.51517401 0.44492823\n",
            " 0.44392294 0.52857605 0.5235534  0.44118402 0.54600456 0.56192264\n",
            " 0.41688637 0.44507165 0.5385766  0.41566519 0.49653354 0.56996037\n",
            " 0.47766462 0.45410727 0.50162146 0.42491971 0.41153526 0.5299497\n",
            " 0.56059113 0.58442582 0.45761575 0.53676224 0.5518095  0.47264073\n",
            " 0.54371104 0.57265447 0.58688588 0.50048834 0.44276898 0.57570964\n",
            " 0.49009089 0.542168   0.52124257 0.43504258 0.48358124 0.40348675\n",
            " 0.52119106 0.50879217 0.53014736 0.43969481 0.38894616 0.40409169\n",
            " 0.45471746 0.53837003 0.40568336 0.43698    0.55474809 0.4579642\n",
            " 0.51382592 0.49059025 0.44741723 0.4901783  0.53729054 0.53717542\n",
            " 0.52433093 0.49989702 0.48532178 0.51110004 0.57167372 0.43892698\n",
            " 0.45611711 0.53972384 0.48667329 0.49848951 0.51909509 0.54020988\n",
            " 0.55972503 0.50626863 0.40461266 0.52480019 0.52008228 0.5618914\n",
            " 0.52653449 0.5386543  0.48498402 0.57471481 0.54445869 0.48765466\n",
            " 0.50371639 0.39322844 0.4488004  0.47207256 0.54912247 0.44484184\n",
            " 0.44836306 0.49110839 0.55887707 0.47673614 0.60521582 0.50705373\n",
            " 0.55377433 0.59404111 0.42762305 0.5262966  0.48913174 0.54618328\n",
            " 0.4734759  0.47463581 0.43952481 0.57037092 0.44931589 0.47852972\n",
            " 0.45168863 0.52233909 0.47966754 0.53290411 0.49694563 0.48768044\n",
            " 0.50227545 0.45234525 0.54847801 0.40083557 0.46374418 0.44844294\n",
            " 0.50785196 0.44980704 0.48020743 0.53542005 0.54734866 0.57002436\n",
            " 0.4221718  0.47891867 0.57069569 0.53990295 0.4343549  0.5251598\n",
            " 0.4223477  0.4902848  0.53002682 0.46294006 0.55979439 0.42369339\n",
            " 0.59307382 0.51265778 0.54268181 0.41685803 0.4072437  0.47800904\n",
            " 0.50014693 0.41763104 0.49401558 0.51133847 0.48469748 0.46785402\n",
            " 0.41176636 0.48950916 0.53941354 0.55946114 0.40904172 0.49015536\n",
            " 0.40086357 0.46469883 0.50372748 0.45409115 0.55434088 0.49268905\n",
            " 0.58912914 0.40550954 0.39752719 0.44128222 0.52732357 0.53417826\n",
            " 0.50648392 0.46124017 0.57533493 0.46379884 0.44105357 0.51481383\n",
            " 0.53341348 0.59449728 0.50668736 0.4282953  0.54464928 0.44395172\n",
            " 0.510019   0.56940153 0.42650748 0.48661503 0.44750901 0.53240002\n",
            " 0.55117851 0.42873935 0.4310675  0.42782808 0.43798195 0.42518794\n",
            " 0.3875208  0.49370672 0.52423165 0.46457748 0.41627565 0.4562092\n",
            " 0.48015341 0.4246024  0.51533535 0.48837603 0.49851092 0.41612879\n",
            " 0.47595857 0.46656788 0.49505577 0.56404354 0.42100315 0.45291004\n",
            " 0.56833395 0.55467492 0.52588562 0.49975728 0.48906141 0.50024979\n",
            " 0.54288968 0.5748157  0.53871224 0.47096549 0.52932036 0.5213041\n",
            " 0.39382816 0.44407979 0.48151018 0.44241323 0.48859124 0.61194789\n",
            " 0.54172909 0.46472783 0.56631309 0.537678   0.49580587 0.57225102\n",
            " 0.52225516 0.49317811 0.51468528 0.51229749 0.40594156 0.47189287\n",
            " 0.54639753 0.51229749 0.4261548  0.5314734  0.47559891 0.47733394\n",
            " 0.51483626 0.485724   0.43910455 0.52457843 0.46383117 0.45293893\n",
            " 0.46571176 0.45474969 0.60270488 0.56368892 0.5202589  0.54915134\n",
            " 0.50396601 0.504227   0.55670095 0.54736759 0.43332623 0.4835297\n",
            " 0.57755522 0.51110004 0.50888495 0.57475264 0.50004039 0.47708488\n",
            " 0.58857155 0.56809984 0.47165508 0.54461275 0.53281705 0.53072614\n",
            " 0.46255257 0.44750901 0.46861073 0.44596807 0.44872306 0.45083011\n",
            " 0.49163797 0.44922404 0.46627904 0.5216606  0.50333784 0.43768969\n",
            " 0.42385113 0.40291014 0.42252361 0.42024348 0.56044224 0.54466643\n",
            " 0.49908082 0.43476653 0.43344075 0.54338655 0.5407471  0.58304525\n",
            " 0.46588527 0.47287857 0.57194853 0.51274182 0.58456008 0.5645467\n",
            " 0.55857243 0.57436484 0.50794273 0.51655357 0.53690303 0.51200082\n",
            " 0.57218314 0.43621576 0.46553236 0.41060605 0.53708229 0.46923283\n",
            " 0.42618332 0.56469939 0.44043419 0.46747189 0.45593825 0.46747189\n",
            " 0.43573867 0.3900794  0.42475007 0.44058316 0.4548019  0.41101153\n",
            " 0.53619203 0.52430185 0.51388418 0.56463268 0.41986052 0.51392285\n",
            " 0.50690265 0.44475017 0.44967527 0.43818814]\n"
          ]
        }
      ]
    },
    {
      "cell_type": "markdown",
      "source": [
        "### section 2 q4 f\n",
        "Linear regression as a least squares problem\n",
        "\n",
        "![WhatsApp Image 2023-01-25 at 17.49.46.jpeg](data:image/jpeg;base64,/9j/4AAQSkZJRgABAQAAAQABAAD/2wBDAAgGBgcGBQgHBwcJCQgKDBQNDAsLDBkSEw8UHRofHh0aHBwgJC4nICIsIxwcKDcpLDAxNDQ0Hyc5PTgyPC4zNDL/2wBDAQkJCQwLDBgNDRgyIRwhMjIyMjIyMjIyMjIyMjIyMjIyMjIyMjIyMjIyMjIyMjIyMjIyMjIyMjIyMjIyMjIyMjL/wgARCAEKA1oDASIAAhEBAxEB/8QAGgABAAMBAQEAAAAAAAAAAAAAAAQFBgMCAf/EABQBAQAAAAAAAAAAAAAAAAAAAAD/2gAMAwEAAhADEAAAAr8AAAAAAAAAAAAAAAAAAAAAAAAAAAAAAAAAAAAAAAAAAAAAAAAAAAAAAAAAAAAAAAAAAAAAAAAAAAAAAAAAAAAAAAAAAAAAAAAAAAAAAAAEWL6nnjtR3gAAAAAAAAABHj1+gAAAAAAAAAK6ptOpWXXcAAAAAAAAAAAAAAAAAAAAAAAAUPjQjP6DP6AVln8OXagvwABV8OZdda6xAAAByOrl7PQAAAFTbZkuJwAAAAAAAAAVnXl1JwAAAAAAAAAAFZZ0hdufs+gAAAAAAAAAAAAz+gz+gAK1ZZg04AAAAAAOVLf0xZVs+GWwAAAIESLeEgAAAAAAAAAFZ15dScAAAAAAAAAAD5nLfmdO1ZbHQAAAAAAAAAAAAGf0Gf0AAob6GJmf0AAAAAAA5dR849wAAAORltdlNWAAAAAAAAAAVnXl1JwAAAAAAAAAAOfQI8gAAAAAAAAAAAAAM/oM/oAB8+jJa3Jas9AAAAVVrBIHbN7EhLcVHy4FF5voZwtMvpT2BAn05F0VJdgAAAAAAAAAFZ15dScAAAAAAAADnSX+WLD1W6kqFuKjxdCg+XlUWfajvAAAAAAAAAAADP6DP6AAAzN3VTC0AAAABRVOzyRq/Wb0gAB8jyQAob7OE22rbIAgx7TKmp9vBXSPE8AAAAAArOvLqTgOXSIffsqlLoBB8FiAQiaAB49jE3szIm7RJYABGkgAieZpBnVNkdAPPoVXvpWmgqLKMfZoAAAZ/QZ/QAAFL86xi/AAAAA49hhtL6y5unHsAAAMzpswW9hAngDOaOAe/FTpQRCW+fQQScrhYq72TgAVnXl1JwIb5NKab0iFnyi+SL36xC6eIpNq/cA0CuFi59ABR3gxeyykk0gAABwI3Kw6lNc0d4HmOSgMnqaAs59Vag8HtGkhG7HsGf0FBfgAFXBn15owAAAAAec91uz19AAABmdNmi2n19gAKqwpCdZQZx4iSqguwPPoeHsePvoAAVnXl1Jx4Is2qknjwnFTaVdqZ2x82xS8Ocgt4M2IWL2AABEIvvlbgAACBPrCzQ+JCvuf0iy62edvPKoJ07z6Mtq8zbk+DMpi4+ffJFn0l2AZ/QZ/QAAFZXzoZoQAAAAKTtIO3cAAHiulEoDO6KiJVnUW4AAB4prwePYAAAAAVnXl1J0SX4PYAKnpZCPIBx7Bw7gAAeTnU+L4+gAHge6S7EOZ5PQBVHG7rLMAAAU1yI0nlXHK7hTQDP6DP6AAAqOHv0XIAAAFfYcDM2FkK1ZCt82gpoOnGY2XHsAKq1hlde5rSgAAAAAAAAAFZ15dScAAAAAAAABltRFKnpZCtWQrfFqKGu14iW3z6AAAAAAAAAAAZ/QZ/QAAGen1OgJAAAAACN2PYAD5Ulu8ewB49jJa3Jaw+gAAAAAAAAArOvLqTgAAAAAAAAAESWAAHmoLl8+gAAAAAAAAAAGf0Gf0AAPBlNbltUAAAAPHvwQLKluSA7Dj66fSTU21SWXTn0AAKCy6VBoAAAAAAAAAAVnXl1JwAAAAAAAAHDv4IU+luiA7Dj79+iRS3VKXP359AAAAAAAAAAAM/oM/oABXWOcJN1y6gAAAAFPZ9Rxdhx+9R8qLgQ5gAAM1pYZL+1FuAAAAAAAAAVnXl1JwAAAAAAAAHiPFPNvy6nF2HH71HmmuxFlAAAAAAAAAAABn9Bn9AAeM/JsSSAAAAAAAAAAAAACkuPsMnAAAAAAAAArOnSoNEz10dwAAAAAAAAAAAAAAAAAAAAAAAFD4PugqLccusEh3Xz6AAAAAAAAAAAAAAAAAAAAAAAAAAAAAAAAAAAAAAAAAAAAAAAAAAAAAAAAAAAf/2gAMAwEAAgADAAAAIfPPPPPPPPPPPPPPPPPPPPPPPPPPPPPPPPPPPPPPPPPPPPPPPPPPPPPPPPPPPPPPPPPPPPPPPPPPPPPPPPPPPPPPPPPPPPPPPPPPPPPPPPMFPPPPPPPPPOKPPPPPPPPPEDPPPPPPPPPPPPPPPPPPPPPPPPDFPNPPJFPPPPPPPPPMHPPPPPPPPPAPPPPPPPPPPPPPPPPPPPPPPPPPPFPMPPPPPPPGKNPPPKPPPPPPPPPPAPPPPPPPPPPPECPPPPPPPPPPPPPFPLNPPPPPPPHPPPODPPPPPPPPPPAPPPPPPPPPPPDPPPPPPPPPPPPPPFPPEPPPPKLDDDFPPHPPPPPPPPPPAPPPPPPPPPLBDDPNPPPPPPPPPPPFPPKPPPPPANPPPPLPPGPPPPPPPPAPIOPMPPPPLHPPPHPCGPPJEHPPPFPPMPPPPPPPPPPPPPPLOOPPMMPPCPLKJGONMPPKDPPPLPNPPLNPNPPFPPFPPPPPOAPPPPKPPMNEPPPPPPAOEBODFHPHPOJPPPOIEGOIPLNPPFPPHPPPPPNHPPKPPPPPPPHPPPPPALHPHPPPPPOPPPONNPPPPPPLNHPFPPFPPPPKAAEANPKPPPPPPPPPPPAPPPPPPPPPAIAAANPPPPPPPPPPPFPPEPPPPPPPPNNPPOPPPPPPPPPPAPPPPPPPPPPMPPPNPPPPPPPPPPPFPPPPPPPLBIFPFPPLPPPPPPPPPPAPPPPPPPPPLBAEPFPPPPPPPPPPPFPONPPPPLPLDLHPPPFPPPPPPPPPAPPPPPPPPPMDDHPPPPPPPPPPPPPFPLPPPPPPPPPPPPPPDPPPPPPPPPEGPPPPPPPPPPPPPPPPPPPPPPPPJHKPPPPPPPPPPPPPPPPPPPPPPPPPPPPPPPPPPPPPPPPPPPPPPPPPPPPPPPPPPPPP/9oADAMBAAIAAwAAABDzzzzzzzzzzzzzzzzzzzzzzzzzzzzzzzzzzzzzzzzzzzzzzzzzzzzzzzzzzzzzzzzzzzzzzzzzjTzzzzzzzzzzzzzzzzzzzzzzzzDzzzzwhzzzzzzzzzzyzzzzzzzzzzizzzzzzzzzzzzzzzzzzzzzzzzxhyzDzwBzzzzzjzzzyxTzzzzzzzzyjzzzzzzzzzzzjDzzzzzzzzzzzyjzzTTwzzzzywjzzzxDzzzzzzzzzyjzzzzzzzzzzyijzzzzzzzzzzzyjzyxTzzzzzzzzzzyjTzzzzzzzzzyjzzzzzzzzzzyxzzzzzzzzzzzzyjzyzjzzzyxzyyjzyzTzzzzzzzzzyjzzzzzzzzwDDxzRzzzzzzzzzzyjzzyzzzzzxBTzxzzzTzzDTzzzzzyjyjjzTzzzyyjTzwzxCjzxjBzzyjzzxDzzzzzwjzzzzzzyizzTzDDzyzzBCDzDjzTzwjzzzzBTTxBTzzCjzzzzzzzzzyhzzzyxTyhyzSzyzzyjxwTQCjTxzzzzzzyzzQjBjBijSjzzzjzzzzyTzzjTyxTzzzxzzzzzyixywjzzzzzwRzzyxDzATzzyxzyjzzxTzzzyjzzxwzzxzzzzzzzzzzyjzzzzzzzzwzzwyxzzzzzzzzzzyjzzzzzzzzzTzzzTyxTzzzzzzzzzyjzzzzzzzzzzzzzDzzzzzzzzzzyjzzxTzzzzyjiDxTzyjzzzzzzzzzyjzzzzzzzzyiTCShTzzzzzzzzzyjzyxTzzzzwxyxzzzyhTzzzzzzzzyjzzzzzzzzzyzyzzzzzzzzzzzzyjzzzzzzzzzzzzzzzzwjzzzzzzzzyTDzzzzzzzzzzzzzzzzzzzzzzzwDzjzzzzzzzzzzzzzzzzzzzzzzzzzzzzzzzzzzzzzzzzzzzzzzzzzzzzzzzzzzzz//EABQRAQAAAAAAAAAAAAAAAAAAAJD/2gAIAQIBAT8AZb//xAAUEQEAAAAAAAAAAAAAAAAAAACQ/9oACAEDAQE/AGW//8QAShAAAQMCAQYICggFAgYDAAAAAgEDBAAFERITITE1UQYUFSAwMkBBECIjQlRhcXKBkRYkMzRSU2KSQ1BVoaJkgiVgcHOx0YDB8P/aAAgBAQABPwL/AOHz0ks7mGAy3O/cNOP3CGmddEXW+/IXV/aospuYyjra6P8AmpmDIbujkjO+SLup5URg8rVhXB1FwfXzMdHZpkoIccnS+Cb6tbb5CUmQZZTmodydjvZk3bVUCUVyk0pUaBcJTAuhKXBd5rXJFz9L/wA1qE04xFBt0so01r/MXLVcSdIhlYIq6PHWuSLl6X/mtWQ3uUHW3XSLJTvXw3RH2CCYyS4B1w3pUWSEpgXQ1Lz5JOXNVjx9DKL47m/2VHYbjNI03qTsqrgmK1lLd7r/AKdqtXY79ssveSrPsxr+a2jbMn4+FUQhVF1LTJraLorBfYO6uddLmqO8XBsyBOvh30F8VsEAIKoKd2NWt05SvSDDIylww7LfJmYj5kF8dz/xVpicVhDinjlpXsl+2WXvJVn2Y12h26mzKBgoqopro8btto2zJ+PMvMTjENTHrt6UqzTONRMkl8oGhewDJZNzIF0VLdjTkllnQ44Ir7aBwHBygJCTenQquCY0H/FL5j/DBey37ZZe8lWfZjXaE+tcIsfNZSnH2mftDEfbQkhDlCuKL2u0bZk/HmKmKYLTJLa72oL9mS4fDp5KOFHIWusuirm2oy4bDHimnfTUZtkNKZRecS99WRVWRLyfs8rR0N3kcXt54dYvFSuDrGTHN5dZLh2W/bLL3kqz7Ma7OZZIKW6rbKQXnyRUzrpaFLUlHCy4xoLnlT/iVCjcUiizlZWHf2u0bZk/Hm8I2NDchPYtWuRxmC2XemhenZ+s8IHD81pMKuLqsQHTTXhUH6lbAycFedXQlJq06+g4RPZchthPN01AZzEJoPV2W/bLL3kqz7Ma7PdnszbnF710VDht8lCDjYliOOqrM6rcR9TLxQLQi1HIzYEnEwJe12jbMn4826M5+3uj34YpXBx7S6yvtTp2o7TJGTYYKelaIRMVEkxRe6mojDC4gGn244dCa8cvftOtXZb9ssveSrPsxrs7zDcgMh0coddIiImCaq4jHzmczenX2y0bZk/HmkmUKpvqEXFL1k/qye0yjzUV09w1YwzlzytyKvZr9ssveSrPsxr+a2jbMn4867DmLupJvQqbLLaEt6dFPvKwpGazGV68ab4QG6WS3DUl3ItcrS/6Y7XK0v8ApjtcrS/6Y7XK0v8ApjtLeJSa7c7RcITHrQyT419Jf9N/lVvvIzX80reQuGjTzbyeRbHfXorg2HlXj9WHZr9ssveSrPsxrsb7mZYNxByslMcK+kv+m/yoL1IcHKC3uEO9K5Wl/wBMdrlaX/THa5Wl/wBMdrlaX/TXaK9vj1oBpS8JFTXF/wAq+kv+m/yqLIGVGF4e/tFo2zJ+PO4RjhLbLeNWs85bWV9XRXSAk2Po+0HqrQE5FkZSeKYLUCYE2Mjg6/OTmqiFrRFqRaokhNLSCu8dFP25+1vjIBctsV1pTTiPNC4Ookx5nCE8IQjvKuDY/V3S3l2a/bLL3kqz7Ma7JerdxZ3PNp5Iv7VZbjxZ3MuL5Iv7c5xhl1PKNCXtSplgZcTKjrmy3d1WUnIr7kJ9MF1j2i0bZk/HncJB+xKrAeVbsNxdHfbdlJxppNPnpVunFBkZXmL1kpsxcBDFcUXnEKGKiSYotQ45RgJvHEMfE5nCRfEZSuD6YW/HeXMkXLiyllRnskfOw0U1fWniyW47pL6qaNXG0JQUMe5fA/eUjO5DkZ1N3rqNNKSX3Z0B/EXS37ZZe8lWfZjXMfkCwiY6SXUKa1rOTVTKRhtP0qemosxJCkBDkOh1hXpnmgfaJs0xFamxDhSVbLV3LVkuOfDi7q+OOpd/PlRc8oOBodBcUXmKqCmK6qSS6993aRQ/Ga4UU1yO6IymkES0IYro5pkogpIKkqdyU/eeLYZ6I6OO+ot2WWvk4ruT+Kl1U7fUYdzbkV1C3VGnuSDROKOgK+cvQWjbMn487hGn1Vtf1VwbL6s6P6ujVEVMF1Vd7esN/KFPJFq9VWO45o+LOr4q9Vd3R8JF8synqqxJhbB9vMMEcbIF1KmFQiW33jILVjk+B10WW1M1wRKYjrIe43IHT5gL3J01+2WXvJVn2Y14SJAFSXUlQwV1VludYup6k8DJZzhG4odVBwLwwpLhypMZ9fKNliPrGpjhndIccCVP4h4buZcJRxlYyMPHPBefcoIzYyp/ETqrSK5Ff7xMFq3zRmxkNOsnWTopH1mSMZOonjOf+qRERME0JV/NEhCHnEWio+KRm8rXk827RuMwDROsOlK4OycFOMXtSpEgIzWWXwTfUaIpO8akoiulqT8PQ2jbMn487hCn1BPerg2v2ydJJjhKYJo9S1JjnEkK2WtKs1w40zmzXyof36LhH97b92rLsxvm8II+Q+Ege/XUGWL1vB4l1J41Nis51H3PsB+zHf6+nv2yy95Ks+zGvDcV8gLSa3SQakylh5AC0pJhr7kp67u5pURhRx0ZxdSVboYxWccrLM9JHv8ABJkBEjk85jkjup+UCuRrqzjkY5t3HdUL6xd5kjzQwaH/AO+ZeNcT/u9BfbdljxlpPGTrVb5pQpKGnV85KbcF1sTFcUXoF0JjUQlRh+VkqSmSrglcrOd0Yl9Sa6ijynL4y8uhtfFa3c+UJWy75Y6scpKitLJNJj/f9mP4eitG2ZPx51/2d/urg19o97Olu9vSYxlCnlR1eumHnIshDHQQrUV9JMYHUTDKToeEX3wPdqzbLa5t4aR23OY+bpqyMuSQICL6ui4qm9aRMEwTwTnZTYhxVvLVV0+qhxyUx1+F67RWHVbNSyk/TXLkPef7VrlyHvP9q1y5D3n+1aau8V51GxUspf082/JjbC95Ks+zWvC55W5tB3NjleCaAuQnRLVk1YXSct+BeauFFLckSyjxsEQOu4tS8/HZU3FGQz54kNOpGcszmQKIzm1VESrKZckOcXRFfQl0FvprOKyGdREcw8bCnrrFYdVs1LKT9Nctw/xH+2rjc48hY+QpeKeK6K5bh/iP9tctw/xH+2mHgkNI431V5qpimC1d7fxN/LBPJHq9VWGeQu8VLSJdX1dBLPNxXF9WFRm81HbDcngysxwkyQ1OJp8DikjZKKYlhoSoLklxlSlAgFjoTwuugy2pmuApV0YelxuOEmSg9UPVVhk56Hm16zfhdUhaJQHKLDQlQTkOMZUkEA8dXgnOSG4+MZvLOmlNWhVxMDw0+G0ovLEn486/bNX21wb+2e9nSuOC02pmuApUeIN1uByMjIYRfnQigigimCJ0PCP74Hu1Ztltc2/u5Fvye8lqxs5q3CveenwOuiy2plqrlDJktsvNKGc6unmK2CrioCvwrNN/lj8qzTf5Y/Ks03+WPypGwTUA/Lm37ZZe8lWfZjXhhkjsuSf6snwXiQjEA/xH4qVa2Si2rEtBKilXB/xm3zXWp1KTGI6n6Vpp0isXFx6zjqNpWQluu7eToZkDkf7k1U3eXRt8hx1BV5s8lN3/AO11x+5MtI9IiAba6cpQqMTEqMDwNjgSbqu4AixcBRPKbqzTf5Y/Ks03+WPypEREwTnXqU2LHF8nLdPUm6rTbUhtZZp5Uv7dBcjTKjtfjc8CrgmK1CRZt7ck/wAMNS0qoIqqrgiU7cCBpXkYVWU87GmnReaFwOqSY+AzFsFIlwRKbAp7qPOJgwPUDf66cBHGyBdSphUI1t14Vsurjkr4XrjmwJ0WlJodZY004LzQuD1STGnngYDKP5b6O4qy62L7KgLmpceZaNsyfjzr9s1fbXBv7Z72dIq4JitPuOXmXxdrRHDrFvplkGGkbbTAU6LhH96a92rLsxvmPuONji20ri7sauTFwuBD9WyRH11DckCDbJxVBETDKx8DrKOqCl5q44U19fvpOfw2NXS37ZZe8lWfZjXgePNsme5KisvRQF8By0cTEw76Wca6G4rql60woLe5IkpImqi4dVtNSU8mLBp+la4O6GHk/VUr7q77q1weH6kSr+KibA8MsULBcUxTUtHb5PF5+LS/aISevX/7qTdYz9nzIKueUUHIwq3sLGgMtLrRNNXjXE/7vQXCcEFjKXSa9VKtkEyPjsrS6WpF7uhkMccnEiLgrI+KvrrjjgJg7Gcyv0pilPDMnpkIOYZXWq61qNGbiso22min2UfbyFVcO+r45m4CND564VEazMRpvcNSHXm8M0wrnxqWF0lODlMojaLjkIuumCMmkU282v4acIhbVRDLXdU6DPmSs9xbI+NRXpmS229FXcpY0Y5YKOOGNXXxW49va85aZbRpoW081MKNgTeBwvM1JVx+s3iNHTUOleZaNsyfjzr/ALO/3Vwa67/s6S4S3Jj/ABGJ/vKokUIbCNgntXfzwdBwiEVxUdC8zhInlGV9VWFcbYPtXoHUJWTQOthoq3ZceK4yjZcZMtOimW80yIY44Jr6S/bLL3kqz7Ma8FxXFgWk1uEg0iYIibuY22VsmuFkqsd3Tinm1MlcYZViKimZ6McNCVCjJEig0ndr8PFY+dzuZbzn4snwSIoSc3l4+IWUmHPlSQisK64uhKgx3LjJ47KTxE6g89x0WQyjXBPDb/GBx78w1Xm3H6zeI0fuHSvQmCtXtX3hJQw8TBKigeUbzmKKeodyeC3fWbzJkdw6E5lo2zJ+PO4RL9RH3q4Np4jy+vo7pOJFSJG0vHrw7qt0AYTO9xesXPuN3bjCrbS5Ty7u6reyrMQcrrl4xczhIPkmS9dcHlxgKm4uzX7ZZe8lWfZjXgJsTISJNI6uxOOC02pmuApTYuXqZnDxSKC6E30IoIoiJgic515tkMtwkFPXQS+VbkIB93a8b2+BUxTCgAWwQBTAU5jE98X30kgqInUFBqDFcKWc2QOSRdUdydFJJwI5k0OUaJoSmp75QslWyOSvciaqtsLicfAtLhLiXMtG2ZPx53CQvIND664OjhDNd5dFdLkMJrJHS6WpKgXJuIZuuNq46XnV9JQ/IL519JQ/IL519JQ/IL519JQ/IL50vCVO5hfnR8I3l6jIpT91mSNBO4JuGrVH4zPBF1JpXm8IAyrfjuKuDZeSeH19mv2yy95Ks+zGuxqqImK6qutz409mgxzArp9dNX9lhoWwjKgp66+kofkF86+kofkF86+kofkF86+kofkF86LhIvmsfNac4QSj6qCFPSHpBYuuKXtqwRs1Dzq63O0WjbMn487hIXjsj6qsYZNsD1rj0TsKM+eW40hFvrkyF6ONcmQvRxrkyF6ONcmQvRxrkyF6ONcmQvRxrkyF6ONcmQvRxpmIxHVVabQVXdzbqGXbXk9VcHDwkuBvHs1+2WXvJVn2Y12MhQxUSTFFrkyF6ONcmQvRxrkyF6ONcmQvRxrkyF6ONcmQvRxrkyF6ONcmQvRxrkyF6ONCKAKCKYInaLRtmT8edwhPKnCO4agBm4LI/p7Q8GcZMd6VaSzF3EV3qPZr9ssveSrPsxr+a2jbMn486Z9ZvSin48KFMBROjmpJJjCKqIePfTSGjQo4uJ4aeaSqgqopiu6rjMmsR8vIBvFcNeK0wqkwCrrVOdPHil5yu7KyqEsoELf2W/bLL3kqz7Ma7LNGYZN8WIRTHxsa7ua4pCCqA5S7quU2awLegW0Iu5cVodIJ7O0WjbMn4810820Z7kqzN8YuucXu8bo3nRZaUy1JTtwejmyrzY5Dq4YJrSscExpbuwi9R39lcsMfgd/ZXLDH4Hf2UF1ZcNAQXcV/R4OEH3EffqP92b93ncI2NDb6exatL2ftza96aOy37ZZe8lWfZjXZH5GbIW2xy3S1JQznG7gMV8RxNNCjRkgApL3Vywx+B39lcsMfgd/ZXLDH4Hf2U1c2XnEARcxXePg4Qao/v0HUH2dotG2ZPx5t7fzNuNO89FcHWMmObq+cujo3GhdRENMURcaX6/fcP4bFZSYY46K5Rh+kN/OuUYXpDfzrlGF6Q386GfEMkEXwVV9fg4QfcR9+o/3Zv3edPj8ZhuN9+GiuDz+SbkYvanZb9ssveSrPsxrsiNAjquYeMvfUf61wgcc81pKJUEVVVwRK5RhekN/OuUYXpDfzrlGF6Q386CbFcNBB4FJe5F8HCDVH9+g6g+ztFo2zJ+PNvzqvzG4wd3/morKR4wNJ3J0a6qhxpMRXxzWJuLoc7qYZRlhG9e+uKR/yG/21xON+Q3+2uJxvyG/20kVgVxRkEX3aJVQVVExXdVyCXNYRsYqjpx0lUZ2QgttnGUcNCrjz54LbruEgeoS40BIYISal7Jftll7yVZ9mNdkdPNtEe5KsIYtOvr/EKlRFTBdVcUjfkN/tricb8hv9tcTjfkN/toYzAFiLIIvqSjVRBVEcpd1XJqZNzeTGUchcdJUw8+uSJxlD149otG2ZPx5jriNNE4uoUxq0NLNuLks9Qr2y5Q0mRCHz00jVil5bKxnOu32S/bLL3kqz7Ma7HcUkrFXivXpxJkuMMZAIcU8dw9FR2BjMC0Gof5BaNsyfjzL5JVciG31z11BipEii0mvv7bco5QpYz2U0Y+OiUy6L7QuAuKL2O/bLL3kqz7Ma/mto2zJ+PhkyAjME6epKtUYn3invppLqIvbjAXAUCTFFqBCchE4GWhMrpFN3Y7lFKZDVkFRFx76GxzhTAZOCeolrkW4el/5LUJk2IoNuFlEnf/MXLPOJ0iSVgir+Ja5FuHpf+S1a7W9CkE44YlinhmwTmPt5R+QHSo76REEURNCJ/wBZP//EAC0QAQABAgQFBAIDAQADAAAAAAERACExQVFhECAwQKFxgfDxkbFQwdHhYHCA/9oACAEBAAE/If8A4+nrJlTHqNMRPCEj8Kv0mI4j/wCVPwzzfj7U0xvzNQTM+2sck9xSBF1W3pdnjzKMNDV4ZIreVw05izP8jPpRGAVvqrnml1J4pD2ZLehSd2LmjzKBLhSkMZl7KH+H5XftQRIC60DmfMZNAAAgO0h4z/KOFfA34mnIQlJIzTtrHlSLCHZ6Bo8KQD/ilKIA8g7VxylbKhEgu/aw8Z7iKtBoua944V8DfkihnVRsj3Q15YKg06SQlyXUxsQ3USWcyeiCLAvUpd5HsVh2sPGe4v8AF5NRl0wlQYF0Jn3ThXwN+QHuCQ1YQkPVhRcnrYInC+FQPisP3TGJCRy0RLMNlPRniikhFgnodtDxntwawE0WDEZAarQzmd3d9tCpCbx90cK+Bvy2VuM36qXW17x19dw3rQjSIlBhpRqLUoaF+hKiwkbtBGwhX17aHjPbwWwMfejuSRN16Z/OkYbUKwMoZd04V8DflsrZ7oqNrHrw8HS6tG3NCs6tnAgVQbTh0FglpNcj9igABgdtDxnt4+5LHWgZQCApVwzZQsLrGHduFfA35RVwEUwKxNe/c76FRb7eYeM/yjhXwN+bAJQMvLekjTESW58V6uHb+q+lf8r6V/yvpX/K+lf8rBV6z/leTD/mvn9aR42Ys8uKLik2gHboeM9mqArDnXx+tB3zCVP1X0r/AJX0r/lfSv8AlR/9/wDK8uy/5WIB6/8AFfL60akBw0e3cK+BvzWQo1TtekvAF7+ihklJZUNtB5ToI0SaWTnfVfXDmBvT2TEctlDpjt4eM9niQ0q3jcM9ZumzroZJOWFehLSrcO6pWmff127hXwN+bzRUDrjpyliwM96KmWxqlQunI8wQBQjUCwz2GnJ77Wp3U8l4bK0bL3BSvL1ZweuZutQ6DJNoOtDxnkuctcYUwiviWp/roVh1oWxhoxNWsVlsb2TntXL2eZRhfi5YBdWl1wxYn0M6WdNzy30ouTyE6CTGaXYdZegM6UNkFKExMZUw1KRetgUuDncK+BvzT6OFSaAPjpowFWRpDfM7mlQlz3M2nT982vUKeQgZUqwCSr0cOP8Al8skn168PGeLHwErQOaJ4bXfZHE4zIAiXD5vRD8WREjAdrPIECxm0540hd/oqalMbQLWg9JKqzYzMqGzAsBQAwsaJOCJ5Y4TRSm+d6cXXA8VoU6x5dw6evQcK+BvzSLpTx71DZkLOjQXo9nXesnxHo16Ts6f3oR7/K5qC1blEhLKcko+IS7n1dhDxni7+qJnRj8wSg0j0cyqGRwUYcamEt2KD424Qy1+aUs1FPxqeeTwnQ9CpMzWpMF21SomzkeghFgVC2wxEMKvEu5TCrNSNmLfmQSHCo1eYHKr9CJyR/vRcK+BvzCX6KVvZ1VNszsaUi7dD+qVIJIel/g8s1QbLTjgfg3pQEEBgHCJmHnkqSDEbxrxzBNhPI001NLsEo5UAUBCdHjvRP1cOBmDI0DSZx6UteECY2CtHjIMVMdwGIz/ADNQFuFLKiPH6poNBDCO1Z60wmvvNNDI5mWr7zX3mlKXAkjlBgkbJT4oJ3NKBS/lHQ11serWwjNQVpwkThAjk6jWFxI04wPxdppplX3tXWuR7cYbynUalrFg04IrxiNKK0lkyeDhQmS3+ubw9eJ6pbSyrX7C00GAUAdJ/B5bFbMqRi48L42ZGK6UOIVLu/OnJIgaor63X1uvrdJyB1BzQ8Z4jNlB7DgBTlNQMsDTxtfNE1h/VRxn88M/1Vi4d6Fj+n5ajoNgi7D8RSwLyjMO5h+KMYnQm2pV12MxT63X1uoEAaHNY/a/vUNIld/ToSixFPocAZIC60Lxkj9FGmBKtYqblBTUKb6YDgAc0q01ZV7zUNeWU6cL2mXFmk4tp9NaUGYCpTbAxWhSYkiM/ni4V8Dfm8PXieoDJAYtShXVAWhg6RvfN6c7c8hdacAIqIXhCNTIbIUOCUMRdTWqCj1daHjPA3M9p08QnFqUHsZA/PCgukf5gfirxxKqG+UVZqZmTW82s3CpYGyxhGUe1ENxWUzb/KAuJ40W7+68J0NEB1Wlefco6LRwGgO9BEXxuFaxktqoE4xc1qB40YZ7UQiESGlbSVGylxgEUuCaF/Ksh03TFMuEsWJpAJsgNGIEIJj1q86CJMq1rKfSsD8KI0sHQnWnmQ4zhXwN+ZxDUULmzqE2mWAyrDve455zR9F5PfIr0AXQxkDPVQmHF1hvNTGlErPqw8Z4J+gMzojcBHIzn1nMt6j92QsdVpWpRdq8Yo7ybEzrwfS/KHPBowDVpUiS/hztMo0Mk0oCuBQlsfaMDllinRrG/jkvSR07nCChxZwr4G/NAOtfb46b14bQVBXN73NhRF7QyUN77g5ryTaRlb5vbw8Z4T3FnbzAGBHULaWVajPSoCYEAcyIZzVMURJTn4A6wSGo3RgOLhSYghpWsH4nx6Z+krnBk8PVTIpJW/Fwr4G/NBrG9OdmZC9LekK1mwr6ZX0yvplfTK/sqgkbms0YofYpb+f8dYclg5TU+jL28PGezRpAutGSZAqcKYCFfTK+mV9M4kSnJ6cTU43uqTG9Pt27hXwN+b3sam2t0mWHJdGZmZmZPvkLytjJ16zXbw8Z7OPooTXpTMzMzMn2FAGXbuFfA35oEq2dPcAiTOU1gSjt4eM/yjhXwN+Zt8SKgTgEdOeP3OigUBdM3li45aWNEwAJUFXkKvMri0A9KIrAD20PGe1ETN3RRMJx5YSDhKJqwnRQNS4o7dwr4G/KSmDtI14mun/ouUXDAN+akLkCaWGDur7VX2qislglcPCV4r9c1tsKpzwZ+3bQ8Z7RNVA2DVq7uh7+KlWQSwTX2qvtVfaqI7wZQ4p4zt3Cvgb8sCORpD14vQdOLAANyrTGc+9CsBGLSKjJxQgxKoAxcPCV4r9cwRt0vVSW+4G+fbQ8Z7QF2YOytXQChTAlXkBCGHny4eKeM7dwr4G/Ldezm6hEyn16YlBa1E1TslhWWpi1c6XZfwK+iV9EoqeYIKgARbVUW4vBRA4EGhzk3GAeaVeRk7WHjPaE9g7S4uWPSkQCsRr6pX0SvolCCfBGniAWOdQszAF6ZGohjTt3Cvgb8jewigxzMJ17wmmab0iaHgHTtYeM9mWOJ3jGNqiJoE8CsK4j179wr4G/IUuVLdKwvBL1e+D1Iajk7SDMTJqTX+Sk1pSMa+BvxRyB/LU/5tga98bocI1NCWq7M+ElmgMpZAOAoO/vKZ/kZtQIYHAVk+dlnjC8WRiqNMBAH/uT/8QALBABAAEDAgQGAwEBAQEBAAAAAREAITFBUSBhcfAQMECBocGR0fGxUOFwgP/aAAgBAQABPxD/APHwEZlZM4WG/KGr2PQG6iRpCTaFGqE/5WKk3Kk3P+lJuVJuVI6+VJ4xlS4gHC29Wvl9KIah8Bk8Ly9vTKgIRNfRCksPOdpGA+jKehExS6lEEdQY8KJADEnNu3f+i5iDXkbEUiTUgkjJCjEkvjlpQbMu6KkR3xnWHiRIAJV0qTqxGDO9zom7XJuarm+lDAJRgChbL0YufdoywIA0PR9z3a7Jv/1MnSvh+IcVxWEafoKzhrZ9mzQgEZG48N2qYn0xg3ald6WAVQqJywOYelc0XU76n5xQ2Bka8uD2PSdz3a7Jv6dsYmgo1zURYT6zJ0r4fAHpjLKGSsMxnb6HC5B+K5D8UAYI8jFMOeEr+FFUS4YhvFYGnDH5PJRkAUugVPE2A4nt+WgAAQFg9J3Pdrsm/qFCfAAP20WtNhF9qHXkvIOT6rJ0r4fAHtLBuNJYwZord7NIAMiSJ5xal4IILCy7E1iRM7jN1vq0np4QuLqunKlJ0XhJwdPJf3tDLl/FDnyKX/p6Xue7XZN/To6C2vIptpbgVuM9C7VtcJ5uX+ApBgmUiV25eqydK+HwiEMhb8qhlDPb4PPvKbx3DClBIQaTaajPMy67WLwF609YsxOvkLJcFPS+KMXuErvpe57tdk39P+dgVsp9DYtSJs5mo2i55JNk/io/raiDg/EeqydK+HwgFB6MuVKJYE/h8+MJlqvvU4Cwsgo37eFBIw6eQCJAErUDLKDST/yjKgIDl6Xue7XZN/Tngohksw2o1YQMAaVBTOIjYU5PtQQQY9Vk6V8PhCHlKOSU7/R+Fb69TzR/xURZGF0XHpu57tdk3/6mTpXw+IgMhAmur/lMZJ+RJ8o08LIZbXUNfyRcXQ4WvXr1gSTvDVGFdmK2UJ9SnbsyYOEMQIe7UpmGdpZ9N3Pdrsm/o2utCQx0piooSjNJVM6JwdevWklM6ViKOZiVVhfaHwJe1czl1h9Pk6V8PiAGhbXdGp4ZB6xbygTCu13XJpVb5GyI3HlSBAt7r+3Cpe8iHzUHmWCB6Fn8Uv8AOZRKwOmtBCATqcETsI+4VJpgD0PTdz3a7Jv6NBAESEdazJ2TLp0aQmwxGy69GgBBEkTXhcE3ePzElamqEftFT4RBg7y1HPp8nSvh8Q6iWB2rzS/mr+WFl+xw73pRFydbc6lA8FM5HicgAaRGkijXrveXR4IxuXHtVpL/AAeBJYkIpG4zigKqTPMfmiDVKcdfwXPEOQI5L0tkwH/RPm9z3a7JvwRxah52QfdWOFIiXuQGr6zBHmHU5+cYNMExzOdMMu2em04yb2X2+pxusbBaZXHZKlCEMXPEBayEAUOLKGLNgUc6l+vRywQaIAMiSPAzFGQdiafguVE900KqjO6tZpD0woMvKgiFskhol61NJhFz48nSvh8QMPdfyKk5uYcnyxr1QJEp2S5QtqKp1862+k+XJIx8ipX/AHuAoQwTRIp26c3Yku/yhEEuNBlHKuV0DdaEhkQaTSRuzWCDze57tdk38R5Lu0Ampyapd7cbLl8E4ZQwkNffxeXszmYhtJfkzQ1094HAykYd+BXQiebtuMEgWPcd3JoQ/QqI4oShE+/6Xyn7hnX9DWgUjAQBtUQCCGZNSpY4OeZg4YBx47yZD2pYDljd9FMgq5F+AofCWWwj/T5GTpXw+I5d78VMbXmRzcEX0kqbUs7Q0FCYICVvp+Ul3xTqMXzwxLiE0xNFUZgwLzT2ZrQGn/h5/c92uyb+K4wRN0z8CoANREBYGBZppmY6NZKpPxSZKwLyb2dvDRkhMIAC2qa0GLqLrMIFLKuW9CITMIWvB9zgd45eRKlht/7CnWRvrfsKOMOZ0fIUCAVeRTKFHzbgfiriuX98JA+an1am2Wp3oIIOFEAohHUomoMU6qkE14Mr12Vv5OTpXw+Ike1MG6f580mw5QvqL6q6mU2ndUQ4CKEdfJcnt9qEdT/vDDYgrc0oXI32LJ/JoKB4BAHgcjxDJuR90myQpwIX8SbEgnT1Cu3vqu3vqu3vqkVISNPVOECZfvaFiE/08d+FOmCiCQk04kRkwhI0plolnkKDYuKv8hqHEgX0bpdGMwlRYfxDBKBoI9aVHTrCSNyyAyXVPFaesW5yTQm6QSp6hXaf1QUS2cG0l67T+q7T+ql03J1+HhCgNRhGnjpiBbUVTd4qzuHR8iJmG/wh/tCaQk6ov80AyBPSlPyuZUmY9vC62IIsWKYCmBh6zxMJNJ/hzpPqgSy3Nu5ihveyuV48b+Qz0rFH1EgxySaeAonIZIHLGtAw4rtqB4ZOlRIEQeIZ7e9K33z5qygLWChUbqBEX71oEABoAPJELv8AalPUf7wmkWEzkLtWlErF0ceDNiAAlWAarSsmYhPIGXA2UcrL7xXYH1XYH1XYH1QkzwEnxw9z3a7Jv4muGeQeBpiMHKuaVrQFkkkpsmBMs3oyRVh6qdwGdj4Fh70rYImjie5CghZLpJ3Bk91B1oMgAhIolYyAXVUCcyQQoltET2oijlAJLZtXYH1XYH1QgbwEB7cTGxsGXZyO1EicsYuj78g2Hi3uUEEFBQGowBT5i9AxYU8YiUAFKduyTESbpUaElcw+D7rLwBUnNAc9D22KHqoULQkU2V6axJu/yhEkw0oCrAZatcf1khi6KY8EqaNMkQoLKMBq1cMv1HQJisk+GTpXw+IcBv8A70LvbPmFUPKMAVei3gEPzyKKwgAzzeflR71U9nHzwRnyMJby1GIbK6rq3oNZbDBmBnw5P1wGJ6VP8GEi3+0IkjJy8zue7XZN/BH4PcQo4V4wGySWbOKQI9gQPNNJvnKl6rq0o+EQdVaHDE9qBZgP9FHFQsKYQiT80y4bgoGJMJuUdTZMZmJkAf8A2mOrBoGTMQl0QzixXX1Kml7KK7xy8hAV4fP6KmMTv1hjfbyZFZ2yWXsRUWTQiTuI460sdaAO2AxR/j3OqV3p4dI0xmXJo12jcGlEcXC9Yl/2i2dbF65qzPGFBm6b05GOTEBi5ap+xjE9pbUS6AECxhWc0aPy3ANEzWWh66RkpiBSN8HL8tQuhwORSveR4L/VNcQoes/VBBBjwydK+HxArQrY2h+fLxS1bh7DUnbehgEBivqLxw6TgLQTE8EMfMr3qET+48hIAcHcWqAItsC2HhAXpTFCEq1fz5nc92uyb+CN4pvKfgULMEHQI8UERJGruAQXM2GnOkmIhBGUWookkGrl8Q0I2PvyM88+AQqEiJG/LjHwDJfSCvaKpDZjYoAACAwcRVwSW6sBQAMJNO1ASvKnB2r0v+BwxKSQzrP1QAAYPIC94vlhEWw0WJE7DgTdy0oCuCgJmR9BmP8ADxydK+HxHIu/ymItmX7T5boEzXLc9GjYl/LqtB24lAqgGrRQsiUq6rvypjEerXV+BQSzHuV2sH03c92uyb+Evn2XJInhzQsAORHmLCAtgpZGMsgz/Z1oIxBoAOIvPywK0oOBBhffB4HvLg5NqPNAPQ8ZCQlixWevch6RkTWnkH+YWzHlSl1ckvTWgsY2SNhaQRSaRDxLT28cnSvh8Rca8J7UzRtPQjymIEDY7qan5UbHaeEoooqJncmnmwFr8VbacnF98/NC0yE3td/tAAAgLBwKYSsOxUyNwz29N3Pdrsm/ozXlUMAFGhZTCxu9NqILsH5OvAUUU6PvGobHOn/gUUKdUZ7tbKFLB0MFWQY5S4cenydK+HxBIXCz3qSiHqQtvKRqwQWYr+e/uv57+6/nv7r+e/uv57+6/nv7r+e/uv57+6go8S6bcMdEsH2anpwA5j6bue7XZN/RlaWXgbV/Lf3X89/dfz391/Pf3X89/dfz391/Pf3X89/dfz390Ulw1ht6fJ0r4fEGymMTms1Z+Fr7k/fqIDiD3kpWrZd9PTdz3a7Jv/1MnSvh8Rjc/wAwSfuhcgYOQeXG6DZ6ooiKAcEF3hvGAtJbTUfZ6iTsRFSnFjVTiMdsfuZfukRkb7k+l7nu12Tf0sp1uQyx0ogGMCU1eGCbsaTq1yRyQknSCnClBecenydK+HwicghnkUE0tzutvLVZBmDK0DmtTIEpRcNkPQpyiyEEsUgZEjH6677+q77+qL2Figu7FvGve9nFLfSXPyNSgnI9fSu57tdk39JHVa2AsvoUkTIsB3CfNGS3KYhsa1339V339V339U/RoQzqpbw+C/0rtW3p8nSvh8IEAMX7w5+KiZy5Oy/l3LxpBoTvSvV4Gj/dT55AZCM0XCGETmv4+v4+ootGStjxr3vZxN4KrODcp9EVZoLD0vc92uyb+kvn+zNmA2p6vL7OD7pYxFoA3aZr/j1/H1/H05QIIeh4fBf6V2rb0+TpXw+EQZcAHK/RQegOAzqfz5bPJKB2pHaYWbN3W04iiykSuZrp6tJE1ZV/VXY/1XY/1S6rkQjytTM0EGFbXqDnTvsaWasd4jgzAzxpRGehmxobwrmok+k7nu12Tf0i3wp9ihHvycwaNusAkTmV3P8AVdj/AFXY/wBVezCKToxUrlyAXtLar2Ic1W1mhv0qEQ2GfT5OlfD4AUSJPIp4yG+eD2PWGEgeWae9JAUyrPHs+k7nu12Tf0a0YqvddVM47jw1MitCJay3avr8nSvh8A7pMMiVh60Op1BcvrU9hBjQ5ejR+h2H49H3PdoE4OZzrlPzQiSM/wDR5T81KWY3q7o+ISdFDXQCl7LoOxt65A7ccjVx0ZmdydPRjq1yxA8qw4aIPYrmKZcSE7Ju3/6Lf4d+CyFc5SLRzYmZlnxDn67dXpFHHIJAB/8AZP/+AAMA/9k=)\n"
      ],
      "metadata": {
        "id": "5RRQLVSYb7gY"
      }
    },
    {
      "cell_type": "code",
      "source": [
        "# section 2 q4 f continued\n",
        "from sklearn.utils import resample\n",
        "probability_R1 = np.delete(probability, np.where(R == -1))\n",
        "w_1 = new_data_1000[new_data_1000[\"BMI\"].notnull()][['b0', \"age\",\"totChol\",\"cigsPerDay\"]].to_numpy()\n",
        "y_1 = new_data_1000[new_data_1000[\"BMI\"].notnull()][\"BMI\"].to_numpy()\n",
        "\n",
        "V1 = np.array([(y_1[i] / probability_R1[i]) for i in range(len(w_1))])\n",
        "V = np.diag(V1)\n",
        "# Calculate the IPW estimator for the regression coefficients\n",
        "beta_IPW = ln.inv(w_1.T@V@w_1)@w_1.T@V@y_1\n",
        "\n",
        "print('bias :',beta_IPW[0],', Coefficients (age, totChol, cigsPerDay):', beta_IPW[1], beta_IPW[2], beta_IPW[3])\n"
      ],
      "metadata": {
        "colab": {
          "base_uri": "https://localhost:8080/"
        },
        "id": "zDfJeazZqhIw",
        "outputId": "0aa61acd-7dbd-47aa-baaf-8b6c99de9e96"
      },
      "execution_count": null,
      "outputs": [
        {
          "output_type": "stream",
          "name": "stdout",
          "text": [
            "bias : 22.18149321008471 , Coefficients (age, totChol, cigsPerDay): 0.003956128253022238 0.008863561880991851 -0.028947461676086333\n"
          ]
        }
      ]
    },
    {
      "cell_type": "code",
      "source": [
        "from statistics import mean\n",
        "# section 2 q4 g\n",
        "# Set the number of bootstrap samples\n",
        "B = 400\n",
        "\n",
        "beta_bootstrap = []\n",
        "new_full_data = new_data_1000[new_data_1000[\"BMI\"].notnull()][['b0', \"age\",\"totChol\",\"cigsPerDay\",\"BMI\"]].copy()\n",
        "new_full_data['prob1'] = probability_R1.copy()\n",
        "\n",
        "# Perform bootstrap resampling\n",
        "for i in range(B):\n",
        "  \n",
        "    data = new_full_data.sample(n = len(new_full_data), replace = True)\n",
        "    Xs = data[data[\"BMI\"].notnull()][['b0', \"age\",\"totChol\",\"cigsPerDay\"]].to_numpy()\n",
        "    ys = data[data[\"BMI\"].notnull()][\"BMI\"].to_numpy()\n",
        "    ps = data[\"prob1\"].to_numpy()\n",
        "    v1 = np.array([(ys[i] / ps[i]) for i in range(len(Xs))])\n",
        "    v = np.diag(V1)\n",
        "    betai_IPW = ln.inv(Xs.T@v@Xs)@Xs.T@v@ys\n",
        "    beta_bootstrap.append(betai_IPW)\n",
        "\n",
        "CIs = []\n",
        "beta_ipw_std = np.std(beta_bootstrap,axis = 0)\n",
        "beta_ipw_mean = np.mean(beta_bootstrap,axis = 0)\n",
        "\n",
        "for i in range(4):\n",
        "      z=1.96\n",
        "      pivot_CI = (beta_ipw_mean[i] - beta_ipw_std[i]*z,beta_ipw_mean[i] + beta_ipw_std[i]*z)\n",
        "      CIs.append(pivot_CI)\n",
        "      print(\"\",i ,\"Confidence interval of beta, bootstrap of IPW betas: [\",pivot_CI,\"]\")\n",
        "coef_dict['4g'] = (CIs, list(beta_IPW))\n"
      ],
      "metadata": {
        "colab": {
          "base_uri": "https://localhost:8080/"
        },
        "id": "kfuReVQD0NDe",
        "outputId": "1081caac-7c8c-441d-c107-9e21f57fdeae"
      },
      "execution_count": null,
      "outputs": [
        {
          "output_type": "stream",
          "name": "stdout",
          "text": [
            " 0 Confidence interval of beta, bootstrap of IPW betas: [ (20.09504783767296, 23.859059748584773) ]\n",
            " 1 Confidence interval of beta, bootstrap of IPW betas: [ (-0.03214841802428434, 0.028948159578239204) ]\n",
            " 2 Confidence interval of beta, bootstrap of IPW betas: [ (0.0030475143019075843, 0.01619598436986298) ]\n",
            " 3 Confidence interval of beta, bootstrap of IPW betas: [ (-0.05386554335129087, -0.009859966674677745) ]\n"
          ]
        }
      ]
    },
    {
      "cell_type": "markdown",
      "source": [
        "### i\n",
        "We accepted that in relation to the estimator obtained from all the data in section 2, the three estimators regression imputation, multiple imputation in both variations were relatively the same, while the IPW estimator received the closest values to section 2, furthermore the values from section 2 were at the edge of the confidence intervals in these three estimators Therefore in total we accepted that the IPW estimator was the best even though the data was downloaded relatively randomly"
      ],
      "metadata": {
        "id": "BLQKD790oftD"
      }
    },
    {
      "cell_type": "code",
      "source": [
        "import matplotlib.pyplot as plt\n",
        "\n",
        "n_coef = len(coef_dict['4a'][0])\n",
        "coef_list = [(key,value[0]) for key,value in coef_dict.items()]\n",
        "keys_list = [ key[0] for key in coef_list]\n",
        "\n",
        "for key, value in coef_dict.items():\n",
        "  if len(value[1]) > 0:\n",
        "    print(f\"section : {key}, coefficients : {value[1]}\")"
      ],
      "metadata": {
        "colab": {
          "base_uri": "https://localhost:8080/"
        },
        "id": "EpaQPpoeYSob",
        "outputId": "a6688177-28e9-43f4-bfe0-58e3ed106835"
      },
      "execution_count": null,
      "outputs": [
        {
          "output_type": "stream",
          "name": "stdout",
          "text": [
            "section : 2, coefficients : [22.868749039534435, 0.04896261180685882, 0.0031157408881412555, -0.014631238181308119]\n",
            "section : 4a, coefficients : [21.955385496063574, -0.0006201282676796143, 0.009446182901017909, -0.030903139971470678]\n",
            "section : 4b, coefficients : [21.955385496063577, -0.000620128267679554, 0.009446182901017898, -0.03090313997147071]\n",
            "section : 4c, coefficients : [21.962621241037418, -0.000549989761071827, 0.009408729328758254, -0.031024188337257497]\n",
            "section : 4g, coefficients : [22.18149321008471, 0.003956128253022238, 0.008863561880991851, -0.028947461676086333]\n"
          ]
        }
      ]
    },
    {
      "cell_type": "code",
      "source": [
        "# Plot the confidence intervals\n",
        "for i in range(n_coef):\n",
        "    # Create a figure and axes\n",
        "    fig, ax = plt.subplots()\n",
        "    for j in range(6):\n",
        "      plt.plot((coef_list[j][1][i][0],coef_list[j][1][i][1]),(j,j),'ro-',color='orange')\n",
        "    plt.yticks(range(6),keys_list)\n",
        "    ax.set_ylabel('section')\n",
        "    ax.set_xlabel('range')\n",
        "    ax.set_title(f'Confidence Intervals for Regression Coefficient {i}')\n",
        "    plt.show()\n",
        "    print()"
      ],
      "metadata": {
        "colab": {
          "base_uri": "https://localhost:8080/",
          "height": 1000
        },
        "id": "TajeDCMF688P",
        "outputId": "ab1196b7-70c1-409a-fc56-6ece2316f875"
      },
      "execution_count": null,
      "outputs": [
        {
          "output_type": "display_data",
          "data": {
            "text/plain": [
              "<Figure size 432x288 with 1 Axes>"
            ],
            "image/png": "[encoded data removed]"
          },
          "metadata": {
            "needs_background": "light"
          }
        },
        {
          "output_type": "stream",
          "name": "stdout",
          "text": [
            "\n"
          ]
        },
        {
          "output_type": "display_data",
          "data": {
            "text/plain": [
              "<Figure size 432x288 with 1 Axes>"
            ],
            "image/png": "[encoded data removed]"
          },
          "metadata": {
            "needs_background": "light"
          }
        },
        {
          "output_type": "stream",
          "name": "stdout",
          "text": [
            "\n"
          ]
        },
        {
          "output_type": "display_data",
          "data": {
            "text/plain": [
              "<Figure size 432x288 with 1 Axes>"
            ],
            "image/png": "[encoded data removed]"
          },
          "metadata": {
            "needs_background": "light"
          }
        },
        {
          "output_type": "stream",
          "name": "stdout",
          "text": [
            "\n"
          ]
        },
        {
          "output_type": "display_data",
          "data": {
            "text/plain": [
              "<Figure size 432x288 with 1 Axes>"
            ],
            "image/png": "[encoded data removed]"
          },
          "metadata": {
            "needs_background": "light"
          }
        },
        {
          "output_type": "stream",
          "name": "stdout",
          "text": [
            "\n"
          ]
        }
      ]
    },
    {
      "cell_type": "markdown",
      "source": [
        "### ii\n",
        "similar to i, the values from section 2 were at the edge of the confidence intervals in the regression and multiple imputation,and in about thw middle of IPW, Therefore in total we accepted that the IPW estimator was the best' allthow the null samples chosed about randomly"
      ],
      "metadata": {
        "id": "41g_P7w6DhXp"
      }
    }
  ]
}