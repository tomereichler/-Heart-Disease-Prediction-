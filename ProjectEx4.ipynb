{
  "nbformat": 4,
  "nbformat_minor": 0,
  "metadata": {
    "colab": {
      "provenance": []
    },
    "kernelspec": {
      "name": "python3",
      "display_name": "Python 3"
    },
    "language_info": {
      "name": "python"
    }
  },
  "cells": [
    {
      "cell_type": "markdown",
      "source": [
        "# **PART A**"
      ],
      "metadata": {
        "id": "KLABTYQURWGb"
      }
    },
    {
      "cell_type": "markdown",
      "source": [
        "### Research question\n",
        "\n",
        "What is the effect of the explanatory variables **age** (discrete variable, name in the data - Age), **cholesterol** (continuous variable, name in the data - totChol) and **cigarettes Per Day** (discrete variable, name in the data - cigsPerDay) on the explanatory variable **BMI** (continuous variable, name in the data - BMI)"
      ],
      "metadata": {
        "id": "zrLoMKwWRdmu"
      }
    },
    {
      "cell_type": "code",
      "execution_count": 1,
      "metadata": {
        "id": "jLhDLkKeZRTN",
        "colab": {
          "base_uri": "https://localhost:8080/"
        },
        "outputId": "980ce35b-d1db-4cc0-91ea-bba153367896"
      },
      "outputs": [
        {
          "output_type": "stream",
          "name": "stdout",
          "text": [
            "b ols =  [ 2.09048473e+01  7.58433515e-03  1.82024267e-02 -2.67932871e-02]\n",
            " 0 Confidence interval of beta, s.e based on variance matrix of the beta coefficients vector: [ (17.151059499039302, 24.65863509536668) ]\n",
            " 1 Confidence interval of beta, s.e based on variance matrix of the beta coefficients vector: [ (-0.06301489503831684, 0.07818356534657508) ]\n",
            " 2 Confidence interval of beta, s.e based on variance matrix of the beta coefficients vector: [ (0.005511462482076226, 0.030893390875850434) ]\n",
            " 3 Confidence interval of beta, s.e based on variance matrix of the beta coefficients vector: [ (-0.0732277079497792, 0.019641133723413605) ]\n"
          ]
        }
      ],
      "source": [
        "# section 1A a\n",
        "import random\n",
        "import pandas as pd\n",
        "import numpy as np\n",
        "from scipy.stats import f, chi2\n",
        "import numpy.linalg as ln\n",
        "from sklearn.linear_model import LinearRegression\n",
        "\n",
        "df = pd.read_csv(\"framingham_heart_disease.csv\") \n",
        "df =df.dropna()\n",
        "\n",
        "data = df[[\"age\",\"totChol\",\"cigsPerDay\",\"BMI\"]]\n",
        " # 200 random samples of x, and save all the other samples that not in thos 200 also \n",
        "data_200 = data.sample(n=200, random_state = 55) \n",
        "not_data_200 = data.drop(data_200.index)\n",
        "\n",
        "data_200 = data_200.reset_index(drop = True)\n",
        "\n",
        "data_200.insert(0, 'b0', 1)\n",
        "y = data_200[\"BMI\"]\n",
        "x = data_200[['b0', \"age\",\"totChol\",\"cigsPerDay\"]]\n",
        "CIs = {}\n",
        "b_ols_plug_in = np.dot(np.dot(ln.inv(np.dot(np.transpose(x),x)),np.transpose(x)),y)\n",
        "C = ln.inv(np.dot(np.transpose(x),x))\n",
        "print(\"b ols = \", b_ols_plug_in)\n",
        "z = 2\n",
        "e_square = np.dot(np.transpose(y-np.dot(x,b_ols_plug_in)),y-np.dot(x,b_ols_plug_in))\n",
        "res_var_est = e_square/(len(y)-4)\n",
        "C=ln.inv(np.dot(np.transpose(x),x))\n",
        "CIn = []\n",
        "for i in range(len(C)):\n",
        "  res_se_est = np.sqrt(res_var_est*C[i][i])\n",
        "  interval = z*res_se_est\n",
        "  CI = (b_ols_plug_in[i]-interval,b_ols_plug_in[i]+interval)\n",
        "  CIn.append(CI) \n",
        "  print(\"\",i ,\"Confidence interval of beta, s.e based on variance matrix of the beta coefficients vector: [\",CI,\"]\")\n",
        "CIs[\"variance matrix\"] = CIn"
      ]
    },
    {
      "cell_type": "code",
      "source": [
        "# section 1A b\n",
        "\n",
        "from statistics import mean\n",
        "\n",
        "def bootstrap_normal_se(df0,  B=400,  n=200, z=1.96):\n",
        "    beta_arr = []\n",
        "    CIb = []\n",
        "    for i in range(B):\n",
        "        X_sample = np.zeros((n,4))\n",
        "        Y_sample = np.zeros(n)\n",
        "        for j in range(n):\n",
        "          u = random.randint(0, n-1)\n",
        "          X_sample[j] = df0[[\"b0\", \"age\",\"totChol\",\"cigsPerDay\"]].loc[u]\n",
        "          Y_sample[j] = df0[\"BMI\"].loc[u]\n",
        "        beta_arr.append(np.dot(np.dot(ln.inv(np.dot(np.transpose(X_sample),X_sample)),np.transpose(X_sample)),Y_sample))\n",
        "    \n",
        "    for i in range(4):\n",
        "      elements = [lst[i] for lst in beta_arr]\n",
        "      curr_bootstrap_mean = mean(elements)\n",
        "      se = np.std(elements)\n",
        "      pivot_CI = (curr_bootstrap_mean - se*z,curr_bootstrap_mean + se*z)\n",
        "      CIb.append(pivot_CI)\n",
        "      print(\"Confidence interval of beta, s.e based on Bootstrap and Normal approximation\",i ,\": \", pivot_CI)\n",
        "    return CIb\n",
        "CIs[\"Normal approximation\"] = bootstrap_normal_se(data_200)\n"
      ],
      "metadata": {
        "colab": {
          "base_uri": "https://localhost:8080/"
        },
        "id": "nFufykbD4212",
        "outputId": "d2104bbb-d6ef-4930-8338-598be8411e3e"
      },
      "execution_count": 2,
      "outputs": [
        {
          "output_type": "stream",
          "name": "stdout",
          "text": [
            "Confidence interval of beta, s.e based on Bootstrap and Normal approximation 0 :  (17.253268739003662, 24.57491923884601)\n",
            "Confidence interval of beta, s.e based on Bootstrap and Normal approximation 1 :  (-0.0634353955731702, 0.07809590763969666)\n",
            "Confidence interval of beta, s.e based on Bootstrap and Normal approximation 2 :  (0.0056283207829100415, 0.030849976757809712)\n",
            "Confidence interval of beta, s.e based on Bootstrap and Normal approximation 3 :  (-0.07223096035426688, 0.016808940643564176)\n"
          ]
        }
      ]
    },
    {
      "cell_type": "code",
      "source": [
        "# section 1A c\n",
        "\n",
        "def bootstrap_pivot_confidence_interval(df0, B=400,  n=200):\n",
        "    beta_arr = []\n",
        "    CIc = []\n",
        "\n",
        "    for i in range(B):\n",
        "        X_sample = np.zeros((n,4))\n",
        "        Y_sample = np.zeros(n)\n",
        "        for j in range(n):\n",
        "          u = random.randint(0, n-1)\n",
        "          X_sample[j] = df0[[\"b0\", \"age\",\"totChol\",\"cigsPerDay\"]].loc[u]\n",
        "          Y_sample[j] = df0[\"BMI\"].loc[u]\n",
        "        beta_arr.append(np.dot(np.dot(ln.inv(np.dot(np.transpose(X_sample),X_sample)),np.transpose(X_sample)),Y_sample))\n",
        "   \n",
        "\n",
        "    for i in range(4):\n",
        "        elements = [lst[i] for lst in beta_arr]\n",
        "        curr_bootstrap_mean = mean(elements)\n",
        "        pivot_samples = [np.sqrt(n)*(elements[i]-curr_bootstrap_mean) for i in range(B)]\n",
        "        pivot_CI = (curr_bootstrap_mean - np.percentile(pivot_samples,97.5)/np.sqrt(n),curr_bootstrap_mean - np.percentile(pivot_samples,2.5)/np.sqrt(n))\n",
        "        CIc.append(pivot_CI)\n",
        "        print(\"Confidence interval of beta, s.e based on pivot\",i ,\": \", pivot_CI)\n",
        "    return CIc\n",
        "CIs[\"pivot\"] = bootstrap_pivot_confidence_interval(data_200)\n",
        "\n"
      ],
      "metadata": {
        "colab": {
          "base_uri": "https://localhost:8080/"
        },
        "id": "5HJ31uuC9rIu",
        "outputId": "4c9702ca-c5a8-4a0a-acd0-dc79bcf1ae46"
      },
      "execution_count": 3,
      "outputs": [
        {
          "output_type": "stream",
          "name": "stdout",
          "text": [
            "Confidence interval of beta, s.e based on pivot 0 :  (17.4303546528404, 24.241901567576114)\n",
            "Confidence interval of beta, s.e based on pivot 1 :  (-0.06333760652988982, 0.0735604990104303)\n",
            "Confidence interval of beta, s.e based on pivot 2 :  (0.005020124181382722, 0.029688269952485642)\n",
            "Confidence interval of beta, s.e based on pivot 3 :  (-0.07049192261324366, 0.01443883368592026)\n"
          ]
        }
      ]
    },
    {
      "cell_type": "code",
      "source": [
        "# section 1A d\n",
        "\n",
        "def bootstrap_chevron_confidence_interval(df0, B=400,  n=200):\n",
        "    beta_arr = []\n",
        "    CId = []\n",
        "    for i in range(B):\n",
        "        X_sample = np.zeros((n,4))\n",
        "        Y_sample = np.zeros(n)\n",
        "        for j in range(n):\n",
        "          u = random.randint(0, n-1)\n",
        "          X_sample[j] = df0[[\"b0\", \"age\",\"totChol\",\"cigsPerDay\"]].loc[u]\n",
        "          Y_sample[j] = df0[\"BMI\"].loc[u]\n",
        "        beta_arr.append(np.dot(np.dot(ln.inv(np.dot(np.transpose(X_sample),X_sample)),np.transpose(X_sample)),Y_sample))\n",
        "   \n",
        "\n",
        "    for i in range(4):\n",
        "        elements = [lst[i] for lst in beta_arr]\n",
        "        pivot_CI = (np.percentile(elements,2.5),np.percentile(elements,97.5))\n",
        "        CId.append(pivot_CI)\n",
        "        print(\"Confidence interval of beta, s.e based on chevrons\",i ,\": \", pivot_CI)\n",
        "    return CId\n",
        "CIs[\"chevrons\"] = bootstrap_pivot_confidence_interval(data_200)\n"
      ],
      "metadata": {
        "colab": {
          "base_uri": "https://localhost:8080/"
        },
        "id": "1tJZTdh7BM2V",
        "outputId": "e31b6879-b340-42db-9aac-8288b659ade7"
      },
      "execution_count": 4,
      "outputs": [
        {
          "output_type": "stream",
          "name": "stdout",
          "text": [
            "Confidence interval of beta, s.e based on pivot 0 :  (17.465791495442296, 23.86776023655643)\n",
            "Confidence interval of beta, s.e based on pivot 1 :  (-0.06637037526760407, 0.08100626241431819)\n",
            "Confidence interval of beta, s.e based on pivot 2 :  (0.005824887710780777, 0.030478656410333895)\n",
            "Confidence interval of beta, s.e based on pivot 3 :  (-0.06948305260983684, 0.01743637469502347)\n"
          ]
        }
      ]
    },
    {
      "cell_type": "code",
      "source": [
        "# section 2A \n",
        "\n",
        "Conf = CIs.items()\n",
        "for i in range(4):\n",
        "    best_sort = sorted(Conf, key=lambda x: x[1][i][1]-x[1][i][0])\n",
        "    print(f\"The length of the confidence interval by sections for beta {i} : {best_sort[0][0]} < {best_sort[1][0]} < {best_sort[2][0]} < {best_sort[3][0]}\") \n",
        "\n",
        "    a = CIs[\"variance matrix\"][i][0] <= b_ols_plug_in[i] and b_ols_plug_in[i]<= CIs[\"variance matrix\"][i][1]\n",
        "    b = CIs[\"Normal approximation\"][i][0] <= b_ols_plug_in[i] and b_ols_plug_in[i]<= CIs[\"Normal approximation\"][i][1]\n",
        "    c = CIs[\"pivot\"][i][0] <= b_ols_plug_in[i] and b_ols_plug_in[i]<= CIs[\"pivot\"][i][1]\n",
        "    d = CIs[\"chevrons\"][i][0] <= b_ols_plug_in[i] and b_ols_plug_in[i]<= CIs[\"chevrons\"][i][1]\n",
        "\n",
        "    print(f\"Are the beta {i} values within the appropriate confidence interval : variance matrix **{a}**, Normal approximation **{b}**, pivot **{c}**, chevrons **{d}**\")\n",
        "    print()\n"
      ],
      "metadata": {
        "colab": {
          "base_uri": "https://localhost:8080/"
        },
        "id": "ak8UALkfudum",
        "outputId": "d9702007-a198-407d-a179-fe76ddf005f5"
      },
      "execution_count": 5,
      "outputs": [
        {
          "output_type": "stream",
          "name": "stdout",
          "text": [
            "The length of the confidence interval by sections for beta 0 : chevrons < pivot < Normal approximation < variance matrix\n",
            "Are the beta 0 values within the appropriate confidence interval : variance matrix **True**, Normal approximation **True**, pivot **True**, chevrons **True**\n",
            "\n",
            "The length of the confidence interval by sections for beta 1 : pivot < variance matrix < Normal approximation < chevrons\n",
            "Are the beta 1 values within the appropriate confidence interval : variance matrix **True**, Normal approximation **True**, pivot **True**, chevrons **True**\n",
            "\n",
            "The length of the confidence interval by sections for beta 2 : chevrons < pivot < Normal approximation < variance matrix\n",
            "Are the beta 2 values within the appropriate confidence interval : variance matrix **True**, Normal approximation **True**, pivot **True**, chevrons **True**\n",
            "\n",
            "The length of the confidence interval by sections for beta 3 : pivot < chevrons < Normal approximation < variance matrix\n",
            "Are the beta 3 values within the appropriate confidence interval : variance matrix **True**, Normal approximation **True**, pivot **True**, chevrons **True**\n",
            "\n"
          ]
        }
      ]
    },
    {
      "cell_type": "markdown",
      "source": [
        "### section 2A continued\n",
        "\n",
        "We accepted that in all cases the confidence intervals contained the appropriate beta value, in addition it can be seen that the order of the lengths of the confidence intervals between the different methods varies between the different betas in the model"
      ],
      "metadata": {
        "id": "5JoT3Hiidr2S"
      }
    },
    {
      "cell_type": "code",
      "execution_count": 6,
      "metadata": {
        "colab": {
          "base_uri": "https://localhost:8080/"
        },
        "id": "CxdqkjVaD3xX",
        "outputId": "ebf4b393-7fcc-4999-f0ad-6a1e1e1dff23"
      },
      "outputs": [
        {
          "output_type": "execute_result",
          "data": {
            "text/plain": [
              "0     23.84\n",
              "1     25.25\n",
              "2     24.19\n",
              "3     23.87\n",
              "4     27.22\n",
              "      ...  \n",
              "95    25.40\n",
              "96    21.14\n",
              "97    23.02\n",
              "98    31.78\n",
              "99    25.45\n",
              "Name: BMI, Length: 100, dtype: float64"
            ]
          },
          "metadata": {},
          "execution_count": 6
        }
      ],
      "source": [
        "# section 3A a\n",
        "\n",
        "not_x200_sample = not_data_200.sample(n = 100, random_state=8)\n",
        "not_x200_sample.insert(0, \"b0\", 1)\n",
        "not_x200_sample = not_x200_sample.reset_index(drop = True)\n",
        "y_new = not_x200_sample[\"BMI\"]\n",
        "x_new = not_x200_sample[[\"b0\", \"age\",\"totChol\",\"cigsPerDay\"]]\n",
        "\n",
        "\n",
        "y_predict = np.dot(x_new,b_ols_plug_in)\n",
        "y_predict = np.squeeze(y_predict)\n",
        "y_new_indexed = y_new.reset_index(drop = True)\n",
        "y_new_indexed"
      ]
    },
    {
      "cell_type": "code",
      "source": [
        "from re import I\n",
        "# section 3A b\n",
        "\n",
        "def bootstrap_pivot_new_sample(df0,df1, B=400,  n=100, z=1.96):\n",
        "    pred = []\n",
        "    CI = []\n",
        "    y_new = df0[\"BMI\"]\n",
        "    x_new = df0[[\"b0\", \"age\",\"totChol\",\"cigsPerDay\"]]\n",
        "    for i in range(B):\n",
        "        X_sample = np.zeros((2*n,4))\n",
        "        Y_sample = np.zeros(2*n)\n",
        "        for j in range(2*n):\n",
        "          u = random.randint(0, 2*n-1)\n",
        "          X_sample[j] = df1[[\"b0\", \"age\",\"totChol\",\"cigsPerDay\"]].loc[u]\n",
        "          Y_sample[j] = df1[\"BMI\"].loc[u]\n",
        "        beta = np.dot(np.dot(ln.inv(np.dot(np.transpose(X_sample),X_sample)),np.transpose(X_sample)),Y_sample)\n",
        "        pred.append(np.dot(x_new,beta))\n",
        "\n",
        "    in_CI_counter = 0\n",
        "    for i in range(len(y_new)):\n",
        "      elements = [lst[i] for lst in pred]\n",
        "      curr_bootstrap_mean = mean(elements)\n",
        "\n",
        "      se = np.std(elements)\n",
        "      pivot_CI = (curr_bootstrap_mean - se*z,curr_bootstrap_mean + se*z)\n",
        "      \n",
        "      if pivot_CI[0] <= y_new[i] and pivot_CI[1] >= y_new[i]:\n",
        "          in_CI_counter+=1\n",
        "      print(f\"CI for sample {i} is : {pivot_CI}\")\n",
        "\n",
        "    return in_CI_counter/n\n",
        "    \n",
        "    \n",
        "Hit_percentage = bootstrap_pivot_new_sample(not_x200_sample, data_200)\n"
      ],
      "metadata": {
        "colab": {
          "base_uri": "https://localhost:8080/"
        },
        "id": "t82xMUq5Bjj7",
        "outputId": "89ee10be-088f-4216-e8fc-6f9e631f2ced"
      },
      "execution_count": 7,
      "outputs": [
        {
          "output_type": "stream",
          "name": "stdout",
          "text": [
            "CI for sample 0 is : (24.025458393215338, 25.791819858549893)\n",
            "CI for sample 1 is : (24.375127899253428, 26.089075575087463)\n",
            "CI for sample 2 is : (26.25432809309286, 29.93565466336797)\n",
            "CI for sample 3 is : (26.095314894148036, 29.35877901037267)\n",
            "CI for sample 4 is : (24.126009576164396, 26.920849574190743)\n",
            "CI for sample 5 is : (25.558908595339293, 27.63849822702581)\n",
            "CI for sample 6 is : (25.25689585314999, 27.30137592249217)\n",
            "CI for sample 7 is : (23.967995255853673, 26.647768788399816)\n",
            "CI for sample 8 is : (24.968017710231074, 26.367295010517473)\n",
            "CI for sample 9 is : (22.67821033164374, 25.263728735771245)\n",
            "CI for sample 10 is : (25.043070572273493, 26.541412413270763)\n",
            "CI for sample 11 is : (25.076916495250284, 26.53786813802579)\n",
            "CI for sample 12 is : (23.982861508928778, 25.719484640664405)\n",
            "CI for sample 13 is : (25.512573377976977, 27.35835493493971)\n",
            "CI for sample 14 is : (24.04870268288306, 26.77346816978322)\n",
            "CI for sample 15 is : (23.35898111121963, 25.617350041756897)\n",
            "CI for sample 16 is : (23.110853934759366, 26.01219321295375)\n",
            "CI for sample 17 is : (24.741479630177736, 26.209515046890914)\n",
            "CI for sample 18 is : (25.86142305723514, 28.816536742233712)\n",
            "CI for sample 19 is : (24.59157215721638, 26.1860042439521)\n",
            "CI for sample 20 is : (25.168579107841698, 26.684715795297112)\n",
            "CI for sample 21 is : (25.545936954812884, 28.156134351625465)\n",
            "CI for sample 22 is : (25.082389476187767, 26.968699612109962)\n",
            "CI for sample 23 is : (23.555915851034847, 25.421951273369004)\n",
            "CI for sample 24 is : (24.607958823137743, 26.572618192522363)\n",
            "CI for sample 25 is : (24.510266966640042, 26.53551102041804)\n",
            "CI for sample 26 is : (24.45289723830518, 25.950477666940944)\n",
            "CI for sample 27 is : (24.51041418949279, 25.74949533730283)\n",
            "CI for sample 28 is : (24.646963210737663, 26.718757215590802)\n",
            "CI for sample 29 is : (24.34714923616675, 26.912763111495316)\n",
            "CI for sample 30 is : (24.735747101057523, 26.157720484270133)\n",
            "CI for sample 31 is : (24.236382030715195, 25.784947476161246)\n",
            "CI for sample 32 is : (24.198488337594295, 25.615312628912623)\n",
            "CI for sample 33 is : (23.755837619661865, 25.778524876582292)\n",
            "CI for sample 34 is : (25.860013212434133, 28.38593899914563)\n",
            "CI for sample 35 is : (24.563630842556368, 26.469824835963482)\n",
            "CI for sample 36 is : (25.20300755485934, 26.789525609653843)\n",
            "CI for sample 37 is : (24.65615661563542, 26.30818920201501)\n",
            "CI for sample 38 is : (23.106560947954325, 25.465877393072983)\n",
            "CI for sample 39 is : (24.40531880103236, 25.868621948106433)\n",
            "CI for sample 40 is : (23.950752805046843, 25.519409894692334)\n",
            "CI for sample 41 is : (23.482509327921246, 25.507643797229168)\n",
            "CI for sample 42 is : (24.617623190869647, 26.96011447432728)\n",
            "CI for sample 43 is : (23.592642603496824, 25.841100878671096)\n",
            "CI for sample 44 is : (25.406080276717546, 27.437204091851378)\n",
            "CI for sample 45 is : (24.65402966862101, 25.81027986356798)\n",
            "CI for sample 46 is : (22.7515205288081, 25.210235999310264)\n",
            "CI for sample 47 is : (22.84730819196671, 25.367739660175403)\n",
            "CI for sample 48 is : (24.912345437174015, 27.13070791731003)\n",
            "CI for sample 49 is : (24.809962706284658, 26.48882760457144)\n",
            "CI for sample 50 is : (24.68873227066319, 26.65663011331336)\n",
            "CI for sample 51 is : (23.986318933471868, 25.773903058144466)\n",
            "CI for sample 52 is : (25.233266212002963, 26.834163051739832)\n",
            "CI for sample 53 is : (25.91831562485126, 28.712671019961462)\n",
            "CI for sample 54 is : (24.829534810467823, 26.199903001145184)\n",
            "CI for sample 55 is : (22.43244994768884, 24.913727861091072)\n",
            "CI for sample 56 is : (24.306544383223063, 25.96867362144716)\n",
            "CI for sample 57 is : (25.527426258059574, 27.993661870257025)\n",
            "CI for sample 58 is : (24.014595091535732, 26.132290204654062)\n",
            "CI for sample 59 is : (24.376708973818953, 25.727011784452262)\n",
            "CI for sample 60 is : (23.449136741280608, 26.512920452258225)\n",
            "CI for sample 61 is : (25.199514158953765, 26.714854871240785)\n",
            "CI for sample 62 is : (24.918641774246776, 26.49820917375752)\n",
            "CI for sample 63 is : (25.420362060367843, 27.46037035781589)\n",
            "CI for sample 64 is : (23.673606497248517, 25.388104941986068)\n",
            "CI for sample 65 is : (25.16800470391923, 27.018304778846023)\n",
            "CI for sample 66 is : (24.68447174172073, 26.201709941611067)\n",
            "CI for sample 67 is : (25.462265615606864, 27.530810951421298)\n",
            "CI for sample 68 is : (23.956268219533413, 25.82104377934582)\n",
            "CI for sample 69 is : (24.784980697515977, 26.404053417823313)\n",
            "CI for sample 70 is : (25.42604767068196, 27.881185097256385)\n",
            "CI for sample 71 is : (21.216973845166617, 25.80543548880244)\n",
            "CI for sample 72 is : (23.553121574576714, 25.706035299534626)\n",
            "CI for sample 73 is : (23.62963539751567, 25.877225520020488)\n",
            "CI for sample 74 is : (24.02459945486208, 26.482804865189056)\n",
            "CI for sample 75 is : (25.230872100633768, 26.80966305057909)\n",
            "CI for sample 76 is : (24.925149033197247, 26.363157090630413)\n",
            "CI for sample 77 is : (24.4122774588494, 25.677481827135065)\n",
            "CI for sample 78 is : (25.642246000621007, 27.82458307104362)\n",
            "CI for sample 79 is : (24.655422907058366, 25.92769709409665)\n",
            "CI for sample 80 is : (25.48789153117954, 27.342320697033326)\n",
            "CI for sample 81 is : (24.26454102955541, 25.811605534424473)\n",
            "CI for sample 82 is : (23.910068893985418, 25.40710332226194)\n",
            "CI for sample 83 is : (23.864994195011583, 25.5751458572215)\n",
            "CI for sample 84 is : (24.779303273702148, 26.171970403592226)\n",
            "CI for sample 85 is : (23.614535066651193, 25.6181461952688)\n",
            "CI for sample 86 is : (24.950203610007073, 26.3413705489096)\n",
            "CI for sample 87 is : (25.34051200296556, 26.932279213684645)\n",
            "CI for sample 88 is : (23.956415069380185, 26.41856605970034)\n",
            "CI for sample 89 is : (26.28971956379281, 33.264801419640655)\n",
            "CI for sample 90 is : (22.504115625616627, 25.17568709449469)\n",
            "CI for sample 91 is : (24.928557799976154, 26.464806570700077)\n",
            "CI for sample 92 is : (23.832393720241924, 25.8961664601198)\n",
            "CI for sample 93 is : (24.86721136416216, 26.624675183184614)\n",
            "CI for sample 94 is : (25.106232795838952, 26.70293848739416)\n",
            "CI for sample 95 is : (25.675261129610803, 27.941360140513062)\n",
            "CI for sample 96 is : (23.841000984460912, 25.36709511803103)\n",
            "CI for sample 97 is : (24.675604075701067, 26.398567687522608)\n",
            "CI for sample 98 is : (25.32983693668513, 27.231702874046047)\n",
            "CI for sample 99 is : (25.084840827257146, 27.666788766298495)\n"
          ]
        }
      ]
    },
    {
      "cell_type": "code",
      "source": [
        "# section 3A c\n",
        "\n",
        "print(f\"Hit percentage in CI's is : {Hit_percentage}\")\n"
      ],
      "metadata": {
        "colab": {
          "base_uri": "https://localhost:8080/"
        },
        "id": "3iT8U0uTQahv",
        "outputId": "48b6dd97-a81f-41ba-9f22-9463dd4383d9"
      },
      "execution_count": 8,
      "outputs": [
        {
          "output_type": "stream",
          "name": "stdout",
          "text": [
            "Hit percentage in CI's is : 0.2\n"
          ]
        }
      ]
    },
    {
      "cell_type": "markdown",
      "source": [
        "### section 3A c continued\n",
        "We accepted that only 20% of the confidence intervals contained the true Y value.\n",
        "This result may happen because the data we use is not linear, and the linear regression model is not able to accurately fit the data to the confidence intervals."
      ],
      "metadata": {
        "id": "XbeJOrunaKcJ"
      }
    },
    {
      "cell_type": "markdown",
      "source": [
        "### section 3A d\n",
        "We will try to estimate the standard deviation of the prediction of Y and we will also refer to the standard deviation of the noise as we saw in practice 5. This time we will estimate with the help of bootstrap the standard deviation of the residuals, we will calculate the differences between our prediction for the sample and the true Y value, this is how we will get the residuals. Now for these residuals we will create B bootstrap samples where the statistic considered each time is the mean of the residuals. Finally we calculated the standard deviation of all the averages of the residuals we got"
      ],
      "metadata": {
        "id": "vDqXWwp_aKnB"
      }
    },
    {
      "cell_type": "markdown",
      "source": [
        "# **PART B**"
      ],
      "metadata": {
        "id": "FaDamf3JOgq9"
      }
    },
    {
      "cell_type": "code",
      "execution_count": 9,
      "metadata": {
        "id": "j9lfYhTC8VNQ"
      },
      "outputs": [],
      "source": [
        "#intro\n",
        "import pandas as pd\n",
        "import seaborn as sns\n",
        "import matplotlib.pyplot as plt\n",
        "import numpy as np\n",
        "from scipy.stats import f, norm, t, chi2\n",
        "from scipy import stats\n",
        "\n",
        "df = pd.read_csv(\"framingham_heart_disease.csv\") \n",
        "df = df.dropna()\n"
      ]
    },
    {
      "cell_type": "code",
      "source": [
        "#intro\n",
        "import matplotlib.pyplot as plt\n",
        "\n",
        "categories = df[\"TenYearCHD\"].unique()\n",
        "plt.hist(df[df[\"TenYearCHD\"] == 0][\"sysBP\"], color=\"red\", alpha=0.5)\n",
        "plt.hist(df[df[\"TenYearCHD\"] == 1][\"sysBP\"], color=\"blue\", alpha=0.5)\n",
        "plt.xlabel(\"sysBP\")\n",
        "plt.ylabel(\"Frequency\")\n",
        "plt.title(\"Histogram of Categories\")\n",
        "plt.legend([0,1])\n",
        "plt.show()"
      ],
      "metadata": {
        "colab": {
          "base_uri": "https://localhost:8080/",
          "height": 295
        },
        "id": "mTtQd1Ii85c5",
        "outputId": "44d50e55-33fb-4ebf-ed51-de1e72942d00"
      },
      "execution_count": null,
      "outputs": [
        {
          "output_type": "display_data",
          "data": {
            "text/plain": [
              "<Figure size 432x288 with 1 Axes>"
            ],
            "image/png": "[encoded data removed]"
          },
          "metadata": {
            "needs_background": "light"
          }
        }
      ]
    },
    {
      "cell_type": "markdown",
      "source": [
        "### ex1\n",
        "our question - Do people at **Risk of heart disease in the next 10 years** have high blood pressure vs people who isn't in **Risk of heart disease in the next 10 years**?"
      ],
      "metadata": {
        "id": "zQaahb_W9IL3"
      }
    },
    {
      "cell_type": "code",
      "source": [
        "#ex2\n",
        "samples_200 = df.sample(200, random_state=2)\n",
        "samples_200 = samples_200[[\"TenYearCHD\",\"sysBP\"]].reset_index(drop=True)\n"
      ],
      "metadata": {
        "id": "swwH2KWU9W7F"
      },
      "execution_count": 10,
      "outputs": []
    },
    {
      "cell_type": "code",
      "source": [
        "#ex3 section a\n",
        "TenYearCHD_0 = samples_200.loc[samples_200[\"TenYearCHD\"]==0][\"sysBP\"]\n",
        "group0_mean = TenYearCHD_0.mean()\n",
        "\n",
        "TenYearCHD_1 = samples_200.loc[samples_200[\"TenYearCHD\"]==1][\"sysBP\"]\n",
        "group1_mean = TenYearCHD_1.mean()\n",
        "lamda = group1_mean - group0_mean"
      ],
      "metadata": {
        "id": "PucydEa7_P16"
      },
      "execution_count": 11,
      "outputs": []
    },
    {
      "cell_type": "markdown",
      "source": [
        "Yes, this is a maximum visibility estimator. We have already seen that the maximum visibility for the lifespan of each of the groups is the average, the maximum visibility estimate for the subtraction of one factor from the other is also the maximum for the newest change.\n",
        "The bootstrap estimator  is considered a non-parametric method, meaning it does not assume any particular distribution of the data, unlike MLE which assumes a specific probability distribution so its not MLE estimator"
      ],
      "metadata": {
        "id": "z1I2sWVS_5Ll"
      }
    },
    {
      "cell_type": "code",
      "source": [
        "#ex3 section b\n",
        "import numpy as np\n",
        "\n",
        "group0_var = samples_200[samples_200[\"TenYearCHD\"] == 0][\"sysBP\"].var()\n",
        "group1_var = samples_200[samples_200[\"TenYearCHD\"] == 1][\"sysBP\"].var()\n",
        "\n",
        "n_0 =len(samples_200[samples_200[\"TenYearCHD\"] == 0]) \n",
        "n_1 =len(samples_200[samples_200[\"TenYearCHD\"] == 1]) \n",
        "\n",
        "lower_bound = lamda - 1.96*np.sqrt(group0_var/n_0 + group1_var/n_1)\n",
        "upper_bound = lamda + 1.96*np.sqrt(group0_var/n_0 + group1_var/n_1)\n",
        "[lower_bound, upper_bound]"
      ],
      "metadata": {
        "colab": {
          "base_uri": "https://localhost:8080/"
        },
        "id": "ycGnGLRW_7mT",
        "outputId": "be57f2e5-1ae2-4ab7-cfaa-b33db066284a"
      },
      "execution_count": 12,
      "outputs": [
        {
          "output_type": "execute_result",
          "data": {
            "text/plain": [
              "[-2.3011125890490636, 16.612124493810988]"
            ]
          },
          "metadata": {},
          "execution_count": 12
        }
      ]
    },
    {
      "cell_type": "code",
      "source": [
        "#ex3 section c\n",
        "TenYearCHD_0 = df.loc[df[\"TenYearCHD\"]==0][\"sysBP\"]\n",
        "group0_mean = TenYearCHD_0.mean()\n",
        "\n",
        "TenYearCHD_1 = df.loc[df[\"TenYearCHD\"]==1][\"sysBP\"]\n",
        "group1_mean = TenYearCHD_1.mean()\n",
        "lamda = group1_mean - group0_mean\n",
        "if lamda >= lower_bound and lamda <= upper_bound:\n",
        "  print(\"lamda in CI\")\n",
        "else:\n",
        "  print(\"lamda not in CI\")"
      ],
      "metadata": {
        "colab": {
          "base_uri": "https://localhost:8080/"
        },
        "id": "tro1rk_7QyLZ",
        "outputId": "84233b03-fbf9-43e4-c991-1bc82af49988"
      },
      "execution_count": 13,
      "outputs": [
        {
          "output_type": "stream",
          "name": "stdout",
          "text": [
            "lamda in CI\n"
          ]
        }
      ]
    },
    {
      "cell_type": "code",
      "source": [
        "#ex3 section d\n",
        "#wald test\n",
        "print(\"wald test\")\n",
        "w = lamda/np.sqrt(group0_var/n_0 + group1_var/n_1)\n",
        "if abs(w) > 1.96 : \n",
        "  print(\"lamda not equal to zero\")\n",
        "else:\n",
        "  print(\"lamda not equal  zero\")\n",
        "\n",
        "from scipy import stats\n",
        "pv = 1- stats.norm.cdf(w)\n",
        "print(f\"wald test p value - {pv}\")\n",
        "print(\"---------------\")\n",
        "print(\"permutation test\")\n",
        "import operator as op\n",
        "from functools import reduce\n",
        "\n",
        "def ncr(n, r):\n",
        "    r = min(r, n-r)\n",
        "    numer = reduce(op.mul, range(n, n-r, -1), 1)\n",
        "    denom = reduce(op.mul, range(1, r+1), 1)\n",
        "    return numer // denom\n",
        "\n",
        "\n",
        "TenYearCHD_0 = samples_200.loc[samples_200[\"TenYearCHD\"]==0][\"sysBP\"]\n",
        "group0_mean = TenYearCHD_0.mean()\n",
        "\n",
        "TenYearCHD_1 = samples_200.loc[samples_200[\"TenYearCHD\"]==1][\"sysBP\"]\n",
        "group1_mean = TenYearCHD_1.mean()\n",
        "lamda = group1_mean - group0_mean\n",
        "\n",
        "statistic = lamda\n",
        "\n",
        "y_sums = []\n",
        "for i in range(400):\n",
        "  sample = samples_200.sample(len(samples_200), replace=True)\n",
        "  TenYearCHD_0 = sample.loc[sample[\"TenYearCHD\"]==0][\"sysBP\"]\n",
        "  group0_mean = TenYearCHD_0.mean()\n",
        "  TenYearCHD_1 = sample.loc[sample[\"TenYearCHD\"]==1][\"sysBP\"]\n",
        "  group1_mean = TenYearCHD_1.mean()\n",
        "\n",
        "  y_sums.append(group1_mean-group0_mean)\n",
        "\n",
        "final_counter = 0\n",
        "for combination in y_sums:\n",
        "  if combination >= statistic:\n",
        "    final_counter+=1\n",
        "\n",
        "print(final_counter/400)\n"
      ],
      "metadata": {
        "colab": {
          "base_uri": "https://localhost:8080/"
        },
        "id": "shTvRPZ-RdWM",
        "outputId": "baaa4e03-7846-4916-8870-829953d579dc"
      },
      "execution_count": 21,
      "outputs": [
        {
          "output_type": "stream",
          "name": "stdout",
          "text": [
            "wald test\n",
            "lamda not equal  zero\n",
            "wald test p value - 0.06902840677492572\n",
            "---------------\n",
            "permutation test\n",
            "0.475\n"
          ]
        }
      ]
    },
    {
      "cell_type": "code",
      "source": [
        "##ex4 section a\n",
        "m0 = samples_200[samples_200[\"TenYearCHD\"] == 0][\"sysBP\"].median()\n",
        "m1 = samples_200[samples_200[\"TenYearCHD\"] == 1][\"sysBP\"].median()\n",
        "differnce_medians = m1 - m0\n",
        "medians = []\n",
        "for i in range(400):\n",
        "  sample = samples_200.sample(len(samples_200), replace=True)\n",
        "  medians.append(sample[sample[\"TenYearCHD\"] == 1][\"sysBP\"].median()-sample[sample[\"TenYearCHD\"] == 0][\"sysBP\"].median())\n",
        "\n",
        "bootstrap_differnce_medians_mean = np.mean(medians)\n",
        "bootstrap_differnce_medians_se = np.sqrt(np.var(medians))\n",
        "\n"
      ],
      "metadata": {
        "id": "SwZ9cFnvha_g"
      },
      "execution_count": 15,
      "outputs": []
    },
    {
      "cell_type": "markdown",
      "source": [
        "we used a bootstrap estimator so it is not the MLE."
      ],
      "metadata": {
        "id": "AM9QBY6k6v0c"
      }
    },
    {
      "cell_type": "code",
      "source": [
        "#ex4 section C\n",
        "for i in range(400):\n",
        "  sample = df.sample(len(df), replace=True)\n",
        "  medians.append(sample[sample[\"TenYearCHD\"] == 1][\"sysBP\"].median()-sample[sample[\"TenYearCHD\"] == 0][\"sysBP\"].median())\n",
        "\n",
        "bootstrap_differnce_medians_mean = np.mean(medians)\n",
        "bootstrap_differnce_medians_mean"
      ],
      "metadata": {
        "colab": {
          "base_uri": "https://localhost:8080/"
        },
        "id": "nnoDlFct6Spi",
        "outputId": "c1e3f4e5-afbe-42b1-f693-f545efdef591"
      },
      "execution_count": 16,
      "outputs": [
        {
          "output_type": "execute_result",
          "data": {
            "text/plain": [
              "7.9228125"
            ]
          },
          "metadata": {},
          "execution_count": 16
        }
      ]
    },
    {
      "cell_type": "markdown",
      "source": [
        "yes, the difference between medians is in the CI"
      ],
      "metadata": {
        "id": "fqLmtUva6esi"
      }
    },
    {
      "cell_type": "code",
      "source": [
        "#ex4 section D\n",
        "statistic = differnce_medians\n",
        "\n",
        "y_medians = []\n",
        "for i in range(400):\n",
        "  sample = samples_200.sample(len(samples_200), replace=True)\n",
        "  m0 = sample[sample[\"TenYearCHD\"] == 0][\"sysBP\"].median()\n",
        "  m1 = sample[sample[\"TenYearCHD\"] == 1][\"sysBP\"].median()\n",
        "  differ_medians = m1 - m0\n",
        "\n",
        "  y_medians.append(differ_medians)\n",
        "\n",
        "final_counter = 0\n",
        "for combination in y_medians:\n",
        "  if combination >= statistic:\n",
        "    final_counter+=1\n",
        "\n",
        "\n",
        "print(final_counter/400)"
      ],
      "metadata": {
        "colab": {
          "base_uri": "https://localhost:8080/"
        },
        "id": "wfGXYLev8BmA",
        "outputId": "46913747-2a65-4db7-a862-e8ee5d6fc2ad"
      },
      "execution_count": 17,
      "outputs": [
        {
          "output_type": "stream",
          "name": "stdout",
          "text": [
            "0.54\n"
          ]
        }
      ]
    },
    {
      "cell_type": "markdown",
      "source": [
        "###ex4 section E:\n",
        "we can't use wald test nor t-test on our estimator because a bootstrap estimator is not a asymptotic normal and that a neccesirly condition for wald test and t-test\n"
      ],
      "metadata": {
        "id": "av-8B8LC8DW-"
      }
    },
    {
      "cell_type": "code",
      "source": [
        "#ex5\n",
        "import operator as op\n",
        "from functools import reduce\n",
        "\n",
        "def ncr(n, r):\n",
        "    r = min(r, n-r)\n",
        "    numer = reduce(op.mul, range(n, n-r, -1), 1)\n",
        "    denom = reduce(op.mul, range(1, r+1), 1)\n",
        "    return numer // denom\n",
        "\n",
        "samples_200 = samples_200.sort_values(\"sysBP\").reset_index(drop=True)\n",
        "originals_indexs = []\n",
        "current_index = []\n",
        "for index, row in samples_200.iterrows():\n",
        "    if index<199 and samples_200.iloc[index][\"sysBP\"] == samples_200.iloc[index+1][\"sysBP\"]:\n",
        "      current_index.append(index+1)\n",
        "    else:\n",
        "      current_index.append(index+1) \n",
        "      originals_indexs.append(current_index)\n",
        "      current_index = []\n",
        "\n",
        "final_indexs = []\n",
        "counter_i = 0\n",
        "for sub_index in originals_indexs:\n",
        "  if len(sub_index) == 1:\n",
        "    final_indexs.append(sub_index[0])\n",
        "  else:\n",
        "    counter = len(sub_index)\n",
        "    while counter>0:\n",
        "      final_indexs.append(np.mean(sub_index))\n",
        "      counter-=1\n",
        "\n",
        "samples_200[\"new_index\"] = final_indexs\n",
        "originals_locations = []\n",
        "for index, row in samples_200.iterrows():\n",
        "    if row[\"TenYearCHD\"] == 1 :\n",
        "      originals_locations.append(row[\"new_index\"])\n",
        "\n",
        "statistic = np.sum(originals_locations)\n",
        "\n",
        "y_locations=[] \n",
        "for i in range(400):\n",
        "  sample = samples_200.sample(len(samples_200), replace=True)\n",
        "  sample = sample.sort_values(\"sysBP\").reset_index(drop=True)\n",
        "  originals_indexs = []\n",
        "  current_index = []\n",
        "  for index, row in samples_200.iterrows():\n",
        "    if index<199 and samples_200.iloc[index][\"sysBP\"] == samples_200.iloc[index+1][\"sysBP\"]:\n",
        "      current_index.append(index+1)\n",
        "    else:\n",
        "      current_index.append(index+1) \n",
        "      originals_indexs.append(current_index)\n",
        "      current_index = []\n",
        "\n",
        "  indexs = []\n",
        "  for sub_index in originals_indexs:\n",
        "    if len(sub_index) == 1:\n",
        "      indexs.append(sub_index[0])\n",
        "    else:\n",
        "      counter = len(sub_index)\n",
        "      while counter>0:\n",
        "        indexs.append(np.mean(sub_index))\n",
        "        counter -= 1\n",
        "\n",
        "  samples_200[\"new_index\"] = indexs\n",
        "\n",
        "  sample[\"new_index\"] = indexs\n",
        "  y_current_locations=[] \n",
        "  for index, row in sample.iterrows():\n",
        "    if row[\"TenYearCHD\"] == 1 :\n",
        "      y_current_locations.append(row[\"new_index\"])\n",
        "\n",
        "  y_locations.append(y_current_locations)\n",
        "\n",
        "final_counter = 0\n",
        "for combination in y_locations:\n",
        "  if np.sum(combination) >= statistic:\n",
        "    final_counter+=1\n",
        "\n",
        "\n",
        "print(final_counter/400)"
      ],
      "metadata": {
        "colab": {
          "base_uri": "https://localhost:8080/"
        },
        "id": "zLwHyo8imLnq",
        "outputId": "0d7536e4-adcb-4c42-8dd7-2365eef1898e"
      },
      "execution_count": 18,
      "outputs": [
        {
          "output_type": "stream",
          "name": "stdout",
          "text": [
            "0.485\n"
          ]
        }
      ]
    },
    {
      "cell_type": "markdown",
      "source": [
        "### ex6\n",
        "In the permutation tests we got the values 0.475 for the expectations 0.54 for the medians and 0.485 in Wilcoxon what are the p-values, in addition we got both for the differences of the expectations and for the differences of the medians because the confidence intervals contain the value 0, all of these connect together and show that the difference may not be There is a rule, in addition they get along well with the histogram since it seems that in both categories you get similar values. The only test that showed otherwise is the wald test but with a pvalue of 0.07 a value that does not show such strong significance and it may also happen that the sample size is not large enough"
      ],
      "metadata": {
        "id": "UM-_43hE5sZd"
      }
    }
  ]
}