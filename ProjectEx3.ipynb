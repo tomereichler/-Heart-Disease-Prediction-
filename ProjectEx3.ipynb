{
  "nbformat": 4,
  "nbformat_minor": 0,
  "metadata": {
    "colab": {
      "provenance": []
    },
    "kernelspec": {
      "name": "python3",
      "display_name": "Python 3"
    },
    "language_info": {
      "name": "python"
    }
  },
  "cells": [
    {
      "cell_type": "markdown",
      "source": [
        "# **PART A**"
      ],
      "metadata": {
        "id": "KLABTYQURWGb"
      }
    },
    {
      "cell_type": "markdown",
      "source": [
        "### **section 1A**\n",
        "\n",
        "What is the effect of the explanatory variables **age** (discrete variable, name in the data - Age), **cholesterol** (continuous variable, name in the data - totChol) and **cigarettes Per Day** (discrete variable, name in the data - cigsPerDay) on the explanatory variable **BMI** (continuous variable, name in the data - BMI)"
      ],
      "metadata": {
        "id": "zrLoMKwWRdmu"
      }
    },
    {
      "cell_type": "code",
      "execution_count": 153,
      "metadata": {
        "id": "jLhDLkKeZRTN"
      },
      "outputs": [],
      "source": [
        "# section 2A\n",
        "\n",
        "import pandas as pd\n",
        "import seaborn as sns\n",
        "import matplotlib.pyplot as plt\n",
        "import numpy as np\n",
        "from scipy.stats import f, chi2\n",
        "import numpy.linalg as ln\n",
        "import statsmodels.api as sm\n",
        "\n",
        "df = pd.read_csv(\"framingham_heart_disease.csv\") \n",
        "#y = df[\"BMI\"]\n",
        "data = df[[\"age\",\"totChol\",\"cigsPerDay\",\"BMI\"]]\n",
        " # 200 random samples of x, and save all the other samples that not in thos 200 also \n",
        "data_200 = data.sample(n=200, random_state = 55) \n",
        "not_x_200 = data.drop(data_200.index)\n",
        "  \n"
      ]
    },
    {
      "cell_type": "code",
      "source": [
        "# section 3A a\n",
        "\n",
        "data_200['totChol'].plot.hist()\n",
        "plt.title(\"cholesterol histogram\")\n",
        "plt.show()\n",
        "data_200['BMI'].plot.hist()\n",
        "plt.title(\"BMI histogram\")\n",
        "plt.show()\n",
        "cigsPerDay_table = pd.crosstab(index=data_200['cigsPerDay'], columns='cigsPerDay')\n",
        "print(cigsPerDay_table)\n",
        "print()\n"
      ],
      "metadata": {
        "colab": {
          "base_uri": "https://localhost:8080/",
          "height": 875
        },
        "id": "60c6vDEwVjiU",
        "outputId": "df618216-e73b-4f7d-9aa4-8ec32d51bbf6"
      },
      "execution_count": 154,
      "outputs": [
        {
          "output_type": "display_data",
          "data": {
            "text/plain": [
              "<Figure size 432x288 with 1 Axes>"
            ],
            "image/png": "[encoded data removed]"
          },
          "metadata": {
            "needs_background": "light"
          }
        },
        {
          "output_type": "display_data",
          "data": {
            "text/plain": [
              "<Figure size 432x288 with 1 Axes>"
            ],
            "image/png": "[encoded data removed]"
          },
          "metadata": {
            "needs_background": "light"
          }
        },
        {
          "output_type": "stream",
          "name": "stdout",
          "text": [
            "col_0       cigsPerDay\n",
            "cigsPerDay            \n",
            "0.0                104\n",
            "1.0                  4\n",
            "2.0                  3\n",
            "3.0                  5\n",
            "5.0                  4\n",
            "6.0                  1\n",
            "9.0                  4\n",
            "10.0                 9\n",
            "15.0                10\n",
            "20.0                35\n",
            "23.0                 1\n",
            "25.0                 2\n",
            "30.0                10\n",
            "35.0                 1\n",
            "40.0                 4\n",
            "43.0                 3\n",
            "\n"
          ]
        }
      ]
    },
    {
      "cell_type": "code",
      "source": [
        "#section 3A a continued\n",
        "age_table = pd.crosstab(index=data_200['age'], columns='age')\n",
        "print(age_table)"
      ],
      "metadata": {
        "colab": {
          "base_uri": "https://localhost:8080/"
        },
        "id": "Uu8bXGYugxMd",
        "outputId": "5e57aaf1-d43a-4e1b-fb03-f70da5a8b351"
      },
      "execution_count": 155,
      "outputs": [
        {
          "output_type": "stream",
          "name": "stdout",
          "text": [
            "col_0  age\n",
            "age       \n",
            "34       1\n",
            "35       3\n",
            "36       3\n",
            "37       9\n",
            "38       8\n",
            "39      10\n",
            "40       9\n",
            "41      11\n",
            "42       8\n",
            "43       7\n",
            "44       9\n",
            "45       5\n",
            "46       5\n",
            "47       8\n",
            "48       9\n",
            "49       2\n",
            "50       7\n",
            "51       8\n",
            "52       7\n",
            "53       5\n",
            "54       6\n",
            "55      10\n",
            "56       5\n",
            "57       7\n",
            "58       5\n",
            "59       5\n",
            "60       3\n",
            "61       4\n",
            "62       7\n",
            "63       3\n",
            "64       4\n",
            "65       5\n",
            "68       2\n"
          ]
        }
      ]
    },
    {
      "cell_type": "code",
      "source": [
        "# section 3A b\n",
        "\n",
        "# missing values\n",
        "missing_counts = data_200.isnull().sum()\n",
        "print(missing_counts)\n"
      ],
      "metadata": {
        "colab": {
          "base_uri": "https://localhost:8080/"
        },
        "id": "Fw-8wIGpgWMg",
        "outputId": "397426d9-30e8-48a0-b4a0-be2238442669"
      },
      "execution_count": 156,
      "outputs": [
        {
          "output_type": "stream",
          "name": "stdout",
          "text": [
            "age           0\n",
            "totChol       0\n",
            "cigsPerDay    0\n",
            "BMI           0\n",
            "dtype: int64\n"
          ]
        }
      ]
    },
    {
      "cell_type": "markdown",
      "source": [
        "### **section 3A b continued**\n",
        "There are a no missing values in the data, it seems that the distribution of the variables BMI and cholesterol according to the histogram comes from a normal distribution. It seems that the values of the variable cigsPerDay do not come from any distribution, but there are two main abnormal values 0 and 20 cigarettes per day, which exist 104 and 35 According to the data, all the other values are less than or equal to 10. The values of the variable age also do not seem to come from any distribution and it does not seem that there are any unusual values."
      ],
      "metadata": {
        "id": "CKup1RRRlqEG"
      }
    },
    {
      "cell_type": "code",
      "source": [
        "# section 3A c\n",
        "\n",
        "plt.scatter(data_200['totChol'], data_200['BMI'])\n",
        "plt.xlabel(\"Category\")\n",
        "plt.ylabel(\"Frequency\")\n",
        "plt.title(\"Frequency\")\n",
        "plt.show()\n",
        "\n",
        "plt.scatter(data_200['age'], data_200['BMI'])\n",
        "plt.xlabel(\"Category\")\n",
        "plt.ylabel(\"Frequency\")\n",
        "plt.title(\"Frequency\")\n",
        "plt.show()"
      ],
      "metadata": {
        "colab": {
          "base_uri": "https://localhost:8080/",
          "height": 573
        },
        "id": "OM1L7P5AmFQI",
        "outputId": "684eb837-41f8-4434-d0d3-a064a3c2fcce"
      },
      "execution_count": 157,
      "outputs": [
        {
          "output_type": "display_data",
          "data": {
            "text/plain": [
              "<Figure size 432x288 with 1 Axes>"
            ],
            "image/png": "[encoded data removed]"
          },
          "metadata": {
            "needs_background": "light"
          }
        },
        {
          "output_type": "display_data",
          "data": {
            "text/plain": [
              "<Figure size 432x288 with 1 Axes>"
            ],
            "image/png": "[encoded data removed]"
          },
          "metadata": {
            "needs_background": "light"
          }
        }
      ]
    },
    {
      "cell_type": "markdown",
      "source": [
        "### **section 3A c continued**\n",
        "\n",
        "Of the two variables that explain age and CigsPerDay, it seems that the variable number of cigarettes per day has a positive correlation between it and BMI, but age does not seem to have a visible correlation, therefore it seems that the number of cigarettes per day has the most effect on the BMI index"
      ],
      "metadata": {
        "id": "bJfEfEZF6yBP"
      }
    },
    {
      "cell_type": "code",
      "source": [
        "# section 3A d\n",
        "import matplotlib.pyplot as plt\n",
        "\n",
        "#Get unique values of cigsPerDay column\n",
        "cigs_per_day_values = data_200[\"cigsPerDay\"].unique()\n",
        "\n",
        "#Set up the plot\n",
        "plt.xlabel(\"BMI\")\n",
        "plt.ylabel(\"Frequency\")\n",
        "plt.title(\"Histogram of BMI by Cigs Per Day\")\n",
        "\n",
        "#Loop through each unique value of cigsPerDay and plot a histogram for that group\n",
        "for value in cigs_per_day_values:\n",
        "  plt.hist(data_200[data_200[\"cigsPerDay\"] == value][\"BMI\"], label=value)\n",
        "\n",
        "plt.legend()\n",
        "plt.show()"
      ],
      "metadata": {
        "colab": {
          "base_uri": "https://localhost:8080/",
          "height": 310
        },
        "id": "QA5jkg277dEK",
        "outputId": "74b9f712-4e47-480d-ee8a-8d0655348fb9"
      },
      "execution_count": 158,
      "outputs": [
        {
          "output_type": "display_data",
          "data": {
            "text/plain": [
              "<Figure size 432x288 with 1 Axes>"
            ],
            "image/png": "[encoded data removed]"
          },
          "metadata": {
            "needs_background": "light"
          }
        }
      ]
    },
    {
      "cell_type": "markdown",
      "source": [
        "### **section 3A d continued**\n",
        "\n",
        "We can see in the histogram that the main value for the number of cigarettes smoked per day is 0 cigarettes.The graph of **BMI** in relation to **age** is not helpful because there are no outliers and there are 34 different values, the histogram will not be informative"
      ],
      "metadata": {
        "id": "0WqLEikBDNAW"
      }
    },
    {
      "cell_type": "code",
      "source": [
        "# section 4A \n",
        "\n",
        "y = data_200[\"BMI\"]\n",
        "x = data_200[[\"age\",\"totChol\",\"cigsPerDay\"]]\n",
        "for col in x.columns:\n",
        "    x[col] = x[col].astype(int)\n",
        "x.insert(0, 'b0', 1)\n",
        "b_ols = np.dot(np.dot(ln.inv(np.dot(np.transpose(x),x)),np.transpose(x)),y)\n",
        "print(\"beta hat [bias, age ,totChol ,cigsPerDay] is:\", b_ols)\n",
        "print()"
      ],
      "metadata": {
        "colab": {
          "base_uri": "https://localhost:8080/"
        },
        "id": "5bK5Hx78OfV5",
        "outputId": "7987f190-fdab-4455-a6e7-379e0b7054de"
      },
      "execution_count": 159,
      "outputs": [
        {
          "output_type": "stream",
          "name": "stdout",
          "text": [
            "beta hat [bias, age ,totChol ,cigsPerDay] is: [ 2.04973258e+01  6.90965234e-02  8.53028344e-03 -4.89021042e-02]\n",
            "\n"
          ]
        },
        {
          "output_type": "stream",
          "name": "stderr",
          "text": [
            "<ipython-input-159-a1a1dfa3838b>:6: SettingWithCopyWarning: \n",
            "A value is trying to be set on a copy of a slice from a DataFrame.\n",
            "Try using .loc[row_indexer,col_indexer] = value instead\n",
            "\n",
            "See the caveats in the documentation: https://pandas.pydata.org/pandas-docs/stable/user_guide/indexing.html#returning-a-view-versus-a-copy\n",
            "  x[col] = x[col].astype(int)\n"
          ]
        }
      ]
    },
    {
      "cell_type": "markdown",
      "source": [
        "### section 4A continued\n",
        "\n",
        "The effect of an increase of one unit of each variable on the explained variable is 1*bi when it is negative the predicted value will decrease and when it is positive the predicted value will increase"
      ],
      "metadata": {
        "id": "DKWTMSv5OJ1e"
      }
    },
    {
      "cell_type": "code",
      "source": [
        "# section 5A \n",
        "\n",
        "e_square = np.dot(np.transpose(y-np.dot(x,b_ols)),y-np.dot(x,b_ols))\n",
        "\n",
        "\n",
        "y_mean = np.mean(y)\n",
        "y_mean_vector = np.full(len(y), y_mean)\n",
        "SSt = np.dot(np.transpose(y-y_mean_vector),y-y_mean_vector)\n",
        "SSr = SSt - e_square\n",
        "MSr = SSr/3\n",
        "MSres = e_square / (len(y)-4)\n",
        "MSt = SSt/(len(y)-1)\n",
        "print(\"SSr :\", SSr, \"SSres :\",e_square,\"SSt :\",SSt)\n",
        "\n",
        "print(\"Reg df :\",3 ,\"Res df :\",len(y)-4 ,\"SSt df :\", len(y)-1)\n",
        "print(\"MSr :\", MSr, \"MSres :\",MSres,\"MSt :\",MSt)\n",
        "\n",
        "r_square = SSr/SSt\n",
        "r_square_adj = 1 - MSres/MSt\n",
        "F = MSr/MSres\n",
        "print(\"F statistic value :\", F)"
      ],
      "metadata": {
        "colab": {
          "base_uri": "https://localhost:8080/"
        },
        "id": "dJnxNT4Lqtyw",
        "outputId": "7826e486-c33e-43bd-94b7-ca339bf73b3a"
      },
      "execution_count": 160,
      "outputs": [
        {
          "output_type": "stream",
          "name": "stdout",
          "text": [
            "SSr : 218.3297858158594 SSres : 2581.979196184141 SSt : 2800.3089820000005\n",
            "Reg df : 3 Res df : 196 SSt df : 199\n",
            "MSr : 72.77659527195313 MSres : 13.173363245837454 MSt : 14.071904432160807\n",
            "F statistic value : 5.5245265703084\n"
          ]
        }
      ]
    },
    {
      "cell_type": "code",
      "source": [
        "# section 6A \n",
        "z = 1.96\n",
        "res_var_est = e_square/(len(y)-4)\n",
        "C=ln.inv(np.dot(np.transpose(x),x))\n",
        "\n",
        "for i in range(len(C)):\n",
        "  res_se_est = np.sqrt(res_var_est*C[i][i])\n",
        "  interval = z*res_se_est\n",
        "  print(\"Confidence interval of beta\",i ,\": [\", b_ols[i]-interval,\",\",b_ols[i]+interval,\"]\")\n",
        "\n",
        "data = data.dropna()\n",
        "y_all = data[\"BMI\"]\n",
        "x_all = data[[\"age\",\"totChol\",\"cigsPerDay\"]]\n",
        "for col in x_all.columns:\n",
        "    x_all[col] = x_all[col].astype(int)\n",
        "x_all.insert(0, 'b0', 1)\n",
        "b_ols_all = np.dot(np.dot(ln.inv(np.dot(np.transpose(x_all),x_all)),np.transpose(x_all)),y_all)\n",
        "print(\"beta hat [bias, age ,totChol ,cigsPerDay] is:\", b_ols_all)\n",
        "print()"
      ],
      "metadata": {
        "colab": {
          "base_uri": "https://localhost:8080/"
        },
        "id": "-ynq9UuLRLD4",
        "outputId": "934eb7ba-677b-43ac-8331-cee81500453c"
      },
      "execution_count": 161,
      "outputs": [
        {
          "output_type": "stream",
          "name": "stdout",
          "text": [
            "Confidence interval of beta 0 : [ 16.99567621498955 , 23.998975390516037 ]\n",
            "Confidence interval of beta 1 : [ 0.007782928007064767 , 0.13041011874170233 ]\n",
            "Confidence interval of beta 2 : [ -0.0032408614128299797 , 0.02030142828585169 ]\n",
            "Confidence interval of beta 3 : [ -0.09284467882624725 , -0.004959529655133112 ]\n",
            "beta hat [bias, age ,totChol ,cigsPerDay] is: [ 2.17913638e+01  4.64732804e-02  8.11250188e-03 -2.44188206e-02]\n",
            "\n"
          ]
        },
        {
          "output_type": "stream",
          "name": "stderr",
          "text": [
            "<ipython-input-161-18cdda4f2301>:15: SettingWithCopyWarning: \n",
            "A value is trying to be set on a copy of a slice from a DataFrame.\n",
            "Try using .loc[row_indexer,col_indexer] = value instead\n",
            "\n",
            "See the caveats in the documentation: https://pandas.pydata.org/pandas-docs/stable/user_guide/indexing.html#returning-a-view-versus-a-copy\n",
            "  x_all[col] = x_all[col].astype(int)\n"
          ]
        }
      ]
    },
    {
      "cell_type": "markdown",
      "source": [
        "### section 6A continued\n",
        "Indeed, it can be seen that the beta estimator values on the original sample are contained within the confidence intervals built on beta hat from the data (the 200 records)"
      ],
      "metadata": {
        "id": "35QhBW19visQ"
      }
    },
    {
      "cell_type": "code",
      "source": [
        "# section 7A \n",
        "from scipy.stats import f\n",
        "p = f.cdf(MSr/MSres, 3, len(y)-4)\n",
        "p_value = 1-p\n",
        "F_q = f.ppf(0.95, 3, len(y)-4)\n",
        "print(\"p value = \", p_value)\n",
        "print(\"F alpha value = \", F_q)"
      ],
      "metadata": {
        "colab": {
          "base_uri": "https://localhost:8080/"
        },
        "id": "VUWkZPzMsFOI",
        "outputId": "2e0ff340-8b0f-424c-993f-be70a62c36ec"
      },
      "execution_count": 162,
      "outputs": [
        {
          "output_type": "stream",
          "name": "stdout",
          "text": [
            "p value =  0.0011609363474324175\n",
            "F alpha value =  2.6506765101121257\n"
          ]
        }
      ]
    },
    {
      "cell_type": "markdown",
      "source": [
        "![image.png](data:image/png;base64,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)"
      ],
      "metadata": {
        "id": "1F8X9qms6CKw"
      }
    },
    {
      "cell_type": "code",
      "source": [
        "# section 8A \n",
        "\n",
        "import matplotlib.pyplot as plt\n",
        "y_hat = np.dot(x,b_ols)\n",
        "residual = y - y_hat\n",
        "\n",
        "plt.scatter(y_hat, residual, color='r')\n",
        "y_final = y_hat*0\n",
        "plt.plot(y_hat,y_final, 'b')\n",
        "\n",
        "    \n",
        "plt.xlabel(\"y hat\")\n",
        "plt.ylabel(\"residual\")\n",
        "plt.title(\"residual graph\")\n",
        "plt.show()\n",
        "\n",
        "# Create the histogram\n",
        "plt.hist(residual)\n",
        "plt.title(\"residual histogram\")\n",
        "plt.show()"
      ],
      "metadata": {
        "colab": {
          "base_uri": "https://localhost:8080/",
          "height": 559
        },
        "id": "QZbYaISlgN3h",
        "outputId": "a72d7b09-2123-4ff0-f9a4-9d71c4d2854c"
      },
      "execution_count": 163,
      "outputs": [
        {
          "output_type": "display_data",
          "data": {
            "text/plain": [
              "<Figure size 432x288 with 1 Axes>"
            ],
            "image/png": "[encoded data removed]"
          },
          "metadata": {
            "needs_background": "light"
          }
        },
        {
          "output_type": "display_data",
          "data": {
            "text/plain": [
              "<Figure size 432x288 with 1 Axes>"
            ],
            "image/png": "[encoded data removed]"
          },
          "metadata": {
            "needs_background": "light"
          }
        }
      ]
    },
    {
      "cell_type": "markdown",
      "source": [
        "### section 8A continued\n",
        "The linearity assumption makes sense because the residuals are around e=0.\n",
        "The assumption of equality of variances makes sense because the distribution of points around e=0 seems to be uniform.\n",
        "And from the histogram of the residuals it seems likely that the noise distribution is normal"
      ],
      "metadata": {
        "id": "X3oP3-Bd8ju0"
      }
    },
    {
      "cell_type": "code",
      "source": [
        "# section 9A a\n",
        "not_x_200 = not_x_200.dropna()\n",
        "not_x200_sample = not_x_200.sample(n = 1000, random_state=8)\n",
        "y_new = not_x200_sample[\"BMI\"]\n",
        "x_new = not_x200_sample[[\"age\",\"totChol\",\"cigsPerDay\"]]\n",
        "x_new.insert(0, 'b0', 1)\n",
        "\n",
        "beta_hat_np = np.array(pd.DataFrame(b_ols))\n",
        "y_predict = np.dot(x_new,beta_hat_np)\n",
        "y_predict = np.squeeze(y_predict)\n",
        "y_new_indexed = y_new.reset_index(drop = True)\n",
        "y_new_indexed"
      ],
      "metadata": {
        "colab": {
          "base_uri": "https://localhost:8080/"
        },
        "id": "SXf-LGmA8ori",
        "outputId": "c11277af-ec75-49b4-cac5-11ea0313458d"
      },
      "execution_count": 164,
      "outputs": [
        {
          "output_type": "execute_result",
          "data": {
            "text/plain": [
              "0      24.38\n",
              "1      25.91\n",
              "2      25.23\n",
              "3      34.55\n",
              "4      25.84\n",
              "       ...  \n",
              "995    29.17\n",
              "996    22.49\n",
              "997    19.77\n",
              "998    26.36\n",
              "999    22.12\n",
              "Name: BMI, Length: 1000, dtype: float64"
            ]
          },
          "metadata": {},
          "execution_count": 164
        }
      ]
    },
    {
      "cell_type": "code",
      "source": [],
      "metadata": {
        "id": "qUmJHPMEtdXK"
      },
      "execution_count": 164,
      "outputs": []
    },
    {
      "cell_type": "code",
      "source": [
        "# section 9A b\n",
        "y_IC = []\n",
        "\n",
        "res_var_est = e_square/(len(y)-4)\n",
        "C=ln.inv(np.dot(np.transpose(x),x))\n",
        "z=1.96\n",
        "\n",
        "interval_lens = z*np.sqrt(res_var_est*np.dot(np.dot(x_new,C),np.transpose(x_new))+res_var_est)\n",
        "interval_lens = interval_lens.diagonal()\n",
        "\n",
        "lower_bound = y_predict - interval_lens\n",
        "upper_bound = y_predict + interval_lens\n",
        "\n",
        "# Create a DataFrame from the lower_bound and upper_bound arrays\n",
        "y_IC_df = pd.DataFrame({'lower_bound': lower_bound, 'upper_bound': upper_bound,'REAL': y_new_indexed},index=range(1000))\n",
        "\n",
        "# Add a column to the DataFrame based on the values in y_predict\n",
        "y_IC_df['is in bounds'] = np.where((y_new_indexed >= y_IC_df['lower_bound']) & (y_new_indexed <= y_IC_df['upper_bound']), 1, 0)\n",
        "y_IC_df"
      ],
      "metadata": {
        "colab": {
          "base_uri": "https://localhost:8080/",
          "height": 424
        },
        "id": "t82xMUq5Bjj7",
        "outputId": "3c487b4c-7046-406a-e549-24fa79019cd7"
      },
      "execution_count": 165,
      "outputs": [
        {
          "output_type": "execute_result",
          "data": {
            "text/plain": [
              "     lower_bound  upper_bound   REAL  is in bounds\n",
              "0      18.113314    32.434889  24.38             1\n",
              "1      19.214798    33.601333  25.91             1\n",
              "2      17.438371    31.985054  25.23             1\n",
              "3      17.908496    32.234134  34.55             0\n",
              "4      19.741294    34.141042  25.84             1\n",
              "..           ...          ...    ...           ...\n",
              "995    16.931745    31.322580  29.17             1\n",
              "996    19.717825    34.051922  22.49             1\n",
              "997    19.718887    34.052568  19.77             1\n",
              "998    18.718920    33.003534  26.36             1\n",
              "999    18.777362    33.064516  22.12             1\n",
              "\n",
              "[1000 rows x 4 columns]"
            ],
            "text/html": [
              "\n",
              "  <div id=\"df-2c4080a7-e72c-471b-8985-f466211ee329\">\n",
              "    <div class=\"colab-df-container\">\n",
              "      <div>\n",
              "<style scoped>\n",
              "    .dataframe tbody tr th:only-of-type {\n",
              "        vertical-align: middle;\n",
              "    }\n",
              "\n",
              "    .dataframe tbody tr th {\n",
              "        vertical-align: top;\n",
              "    }\n",
              "\n",
              "    .dataframe thead th {\n",
              "        text-align: right;\n",
              "    }\n",
              "</style>\n",
              "<table border=\"1\" class=\"dataframe\">\n",
              "  <thead>\n",
              "    <tr style=\"text-align: right;\">\n",
              "      <th></th>\n",
              "      <th>lower_bound</th>\n",
              "      <th>upper_bound</th>\n",
              "      <th>REAL</th>\n",
              "      <th>is in bounds</th>\n",
              "    </tr>\n",
              "  </thead>\n",
              "  <tbody>\n",
              "    <tr>\n",
              "      <th>0</th>\n",
              "      <td>18.113314</td>\n",
              "      <td>32.434889</td>\n",
              "      <td>24.38</td>\n",
              "      <td>1</td>\n",
              "    </tr>\n",
              "    <tr>\n",
              "      <th>1</th>\n",
              "      <td>19.214798</td>\n",
              "      <td>33.601333</td>\n",
              "      <td>25.91</td>\n",
              "      <td>1</td>\n",
              "    </tr>\n",
              "    <tr>\n",
              "      <th>2</th>\n",
              "      <td>17.438371</td>\n",
              "      <td>31.985054</td>\n",
              "      <td>25.23</td>\n",
              "      <td>1</td>\n",
              "    </tr>\n",
              "    <tr>\n",
              "      <th>3</th>\n",
              "      <td>17.908496</td>\n",
              "      <td>32.234134</td>\n",
              "      <td>34.55</td>\n",
              "      <td>0</td>\n",
              "    </tr>\n",
              "    <tr>\n",
              "      <th>4</th>\n",
              "      <td>19.741294</td>\n",
              "      <td>34.141042</td>\n",
              "      <td>25.84</td>\n",
              "      <td>1</td>\n",
              "    </tr>\n",
              "    <tr>\n",
              "      <th>...</th>\n",
              "      <td>...</td>\n",
              "      <td>...</td>\n",
              "      <td>...</td>\n",
              "      <td>...</td>\n",
              "    </tr>\n",
              "    <tr>\n",
              "      <th>995</th>\n",
              "      <td>16.931745</td>\n",
              "      <td>31.322580</td>\n",
              "      <td>29.17</td>\n",
              "      <td>1</td>\n",
              "    </tr>\n",
              "    <tr>\n",
              "      <th>996</th>\n",
              "      <td>19.717825</td>\n",
              "      <td>34.051922</td>\n",
              "      <td>22.49</td>\n",
              "      <td>1</td>\n",
              "    </tr>\n",
              "    <tr>\n",
              "      <th>997</th>\n",
              "      <td>19.718887</td>\n",
              "      <td>34.052568</td>\n",
              "      <td>19.77</td>\n",
              "      <td>1</td>\n",
              "    </tr>\n",
              "    <tr>\n",
              "      <th>998</th>\n",
              "      <td>18.718920</td>\n",
              "      <td>33.003534</td>\n",
              "      <td>26.36</td>\n",
              "      <td>1</td>\n",
              "    </tr>\n",
              "    <tr>\n",
              "      <th>999</th>\n",
              "      <td>18.777362</td>\n",
              "      <td>33.064516</td>\n",
              "      <td>22.12</td>\n",
              "      <td>1</td>\n",
              "    </tr>\n",
              "  </tbody>\n",
              "</table>\n",
              "<p>1000 rows × 4 columns</p>\n",
              "</div>\n",
              "      <button class=\"colab-df-convert\" onclick=\"convertToInteractive('df-2c4080a7-e72c-471b-8985-f466211ee329')\"\n",
              "              title=\"Convert this dataframe to an interactive table.\"\n",
              "              style=\"display:none;\">\n",
              "        \n",
              "  <svg xmlns=\"http://www.w3.org/2000/svg\" height=\"24px\"viewBox=\"0 0 24 24\"\n",
              "       width=\"24px\">\n",
              "    <path d=\"M0 0h24v24H0V0z\" fill=\"none\"/>\n",
              "    <path d=\"M18.56 5.44l.94 2.06.94-2.06 2.06-.94-2.06-.94-.94-2.06-.94 2.06-2.06.94zm-11 1L8.5 8.5l.94-2.06 2.06-.94-2.06-.94L8.5 2.5l-.94 2.06-2.06.94zm10 10l.94 2.06.94-2.06 2.06-.94-2.06-.94-.94-2.06-.94 2.06-2.06.94z\"/><path d=\"M17.41 7.96l-1.37-1.37c-.4-.4-.92-.59-1.43-.59-.52 0-1.04.2-1.43.59L10.3 9.45l-7.72 7.72c-.78.78-.78 2.05 0 2.83L4 21.41c.39.39.9.59 1.41.59.51 0 1.02-.2 1.41-.59l7.78-7.78 2.81-2.81c.8-.78.8-2.07 0-2.86zM5.41 20L4 18.59l7.72-7.72 1.47 1.35L5.41 20z\"/>\n",
              "  </svg>\n",
              "      </button>\n",
              "      \n",
              "  <style>\n",
              "    .colab-df-container {\n",
              "      display:flex;\n",
              "      flex-wrap:wrap;\n",
              "      gap: 12px;\n",
              "    }\n",
              "\n",
              "    .colab-df-convert {\n",
              "      background-color: #E8F0FE;\n",
              "      border: none;\n",
              "      border-radius: 50%;\n",
              "      cursor: pointer;\n",
              "      display: none;\n",
              "      fill: #1967D2;\n",
              "      height: 32px;\n",
              "      padding: 0 0 0 0;\n",
              "      width: 32px;\n",
              "    }\n",
              "\n",
              "    .colab-df-convert:hover {\n",
              "      background-color: #E2EBFA;\n",
              "      box-shadow: 0px 1px 2px rgba(60, 64, 67, 0.3), 0px 1px 3px 1px rgba(60, 64, 67, 0.15);\n",
              "      fill: #174EA6;\n",
              "    }\n",
              "\n",
              "    [theme=dark] .colab-df-convert {\n",
              "      background-color: #3B4455;\n",
              "      fill: #D2E3FC;\n",
              "    }\n",
              "\n",
              "    [theme=dark] .colab-df-convert:hover {\n",
              "      background-color: #434B5C;\n",
              "      box-shadow: 0px 1px 3px 1px rgba(0, 0, 0, 0.15);\n",
              "      filter: drop-shadow(0px 1px 2px rgba(0, 0, 0, 0.3));\n",
              "      fill: #FFFFFF;\n",
              "    }\n",
              "  </style>\n",
              "\n",
              "      <script>\n",
              "        const buttonEl =\n",
              "          document.querySelector('#df-2c4080a7-e72c-471b-8985-f466211ee329 button.colab-df-convert');\n",
              "        buttonEl.style.display =\n",
              "          google.colab.kernel.accessAllowed ? 'block' : 'none';\n",
              "\n",
              "        async function convertToInteractive(key) {\n",
              "          const element = document.querySelector('#df-2c4080a7-e72c-471b-8985-f466211ee329');\n",
              "          const dataTable =\n",
              "            await google.colab.kernel.invokeFunction('convertToInteractive',\n",
              "                                                     [key], {});\n",
              "          if (!dataTable) return;\n",
              "\n",
              "          const docLinkHtml = 'Like what you see? Visit the ' +\n",
              "            '<a target=\"_blank\" href=https://colab.research.google.com/notebooks/data_table.ipynb>data table notebook</a>'\n",
              "            + ' to learn more about interactive tables.';\n",
              "          element.innerHTML = '';\n",
              "          dataTable['output_type'] = 'display_data';\n",
              "          await google.colab.output.renderOutput(dataTable, element);\n",
              "          const docLink = document.createElement('div');\n",
              "          docLink.innerHTML = docLinkHtml;\n",
              "          element.appendChild(docLink);\n",
              "        }\n",
              "      </script>\n",
              "    </div>\n",
              "  </div>\n",
              "  "
            ]
          },
          "metadata": {},
          "execution_count": 165
        }
      ]
    },
    {
      "cell_type": "code",
      "source": [
        "# section 9A c\n",
        "sum_in = y_IC_df['is in bounds'].sum()\n",
        "in_precent = sum_in/len(x_new)\n",
        "print(\"The precent of real values y in the CI interval is :\",in_precent)"
      ],
      "metadata": {
        "colab": {
          "base_uri": "https://localhost:8080/"
        },
        "id": "stXWgUl4JePv",
        "outputId": "940642d3-a3a5-46f9-c846-6e8f43230ebd"
      },
      "execution_count": 166,
      "outputs": [
        {
          "output_type": "stream",
          "name": "stdout",
          "text": [
            "The precent of real values y in the CI interval is : 0.915\n"
          ]
        }
      ]
    },
    {
      "cell_type": "markdown",
      "source": [
        "### section 9A c continued\n",
        "We received that the percentage of times the real value was in the interval is 0.915, we received a value lower than 0.95 and this is a relatively large distance. In our opinion, this means that the model fails to capture enough of the explained variance, the shape is good, and therefore the unexplained variance is probably large, which can cause the true value to be outside the interval"
      ],
      "metadata": {
        "id": "E_g1TTbcf93-"
      }
    },
    {
      "cell_type": "code",
      "source": [
        "# section 10A\n",
        " \n",
        "x1 = data_200[\"age\"].reset_index(drop=True)\n",
        "x2 = data_200[\"totChol\"].reset_index(drop=True)\n",
        "x3 = data_200[\"cigsPerDay\"].reset_index(drop=True)\n",
        "z_1_2 =x1 * x2\n",
        "z_1_3 = x1 * x3\n",
        "z_2_3 = x2 * x3\n",
        "\n",
        "y_new_model = data_200[\"BMI\"].reset_index(drop=True)\n",
        "x_new_model = pd.DataFrame({\"x1\":x1,\"x2\":x2,\"x3\":x3,\"z_1_2\":z_1_2, \"z_1_3\":z_1_3, \"z_2_3\":z_2_3})\n",
        "\n",
        "\n",
        "for col in x_new_model.columns:\n",
        "    x_new_model[col] = x_new_model[col].astype(int)\n",
        "x_new_model.insert(0, 'b0', 1)\n",
        "b_ols_new_model = np.dot(np.dot(ln.inv(np.dot(np.transpose(x_new_model),x_new_model)),np.transpose(x_new_model)),y_new_model)\n",
        "\n",
        "beta_hat_new = pd.DataFrame(b_ols_new_model)\n",
        "y_new_model = data_200[[\"BMI\"]].to_numpy().reshape([200,])\n",
        "#print (\"beta estimator :\", beta_hat_new)\n",
        "y_new_model_pred = np.dot(x_new_model,beta_hat_new)\n",
        "\n",
        "# r^2 adj calc\n",
        "#new model n=200, k=6, p=7\n",
        "e_square_new = np.dot(np.transpose(y_new_model-np.dot(x_new_model,beta_hat_new)),y_new_model-np.dot(x_new_model,beta_hat_new))\n",
        "\n",
        "\n",
        "y_mean_new = np.mean(y_new_model)\n",
        "y_mean_vector_new = np.full(len(y_new_model), y_mean_new)\n",
        "SSt_new = np.dot(np.transpose(y_new_model-y_mean_vector_new),y_new_model-y_mean_vector_new)\n",
        "SSr_new = SSt - e_square\n",
        "MSr_new = SSr/6\n",
        "MSres_new = e_square / (len(y_new_model)-7)\n",
        "MSt_new = SSt_new/(len(y_new_model)-1)\n",
        "\n",
        "r_square_adj_new = 1 - MSres_new/MSt_new\n",
        "\n",
        "print(\"r square adj new model= \",r_square_adj_new, \"r square adj previous model= \",r_square_adj)\n",
        "\n",
        "# MSE calc\n",
        "\n",
        "def calc_mse(y_pred, y_true):\n",
        "  n = len(y_pred)\n",
        "  mse = 1/n * np.sum((y_pred - y_true)**2)\n",
        "  return mse\n",
        "\n",
        "y_pred_first_model = np.dot(x,b_ols)\n",
        "y_true_first_model = y\n",
        "mse_first = calc_mse(y_pred_first_model, y_true_first_model)\n",
        "\n",
        "y_pred_second_model = y_new_model_pred\n",
        "y_true_second_model = y_new_model\n",
        "mse_second = calc_mse(y_pred_second_model, y_true_second_model)\n",
        "\n",
        "print(\"MSE new model= \",mse_second, \"MSE previous model= \",mse_first)"
      ],
      "metadata": {
        "colab": {
          "base_uri": "https://localhost:8080/"
        },
        "id": "orDCsrp6Ki0k",
        "outputId": "47ba8443-e410-4f25-8325-923057000d4f"
      },
      "execution_count": 167,
      "outputs": [
        {
          "output_type": "stream",
          "name": "stdout",
          "text": [
            "r square adj new model=  0.049302060380563395 r square adj previous model=  0.06385355945637117\n",
            "MSE new model=  3029.210859004493 MSE previous model=  12.909895980920705\n"
          ]
        }
      ]
    },
    {
      "cell_type": "markdown",
      "source": [
        "### section 10A a continued\n",
        "For model selection we used MSE and R adjust calculations.\n",
        "For R adjust, a measure that we are interested in maximizing, we got a higher result for the first model, so in terms of this measure, the model without interactions is better.\n",
        "For MSE, a measure that we strive to minimize, here too we accepted that the first model minimized the measure in a better way and therefore it is better in this measure as well.\n",
        "In total, from the results of the two indices, we received that the model without interactions, that is, the first model is better."
      ],
      "metadata": {
        "id": "LQoGM5PSfjK5"
      }
    },
    {
      "cell_type": "markdown",
      "source": [
        "# **part 2**"
      ],
      "metadata": {
        "id": "v5KSyNgHWVzf"
      }
    },
    {
      "cell_type": "markdown",
      "source": [
        "**section b1**"
      ],
      "metadata": {
        "id": "UTuOK84IYSns"
      }
    },
    {
      "cell_type": "markdown",
      "source": [
        "What is the effect of the explanatory variables **age** (discrete variable, name in the data - Age), **systolic blood pressure** (continuous variable, name in the data - sysBP) and **Taking blood pressure medication** (binary variable, name in the data - BPMeds) on the explanatory variable **Risk of heart disease in the next 10 years** (binary variable, name in the data - TenYearCHD)"
      ],
      "metadata": {
        "id": "6KzMFnCkWta8"
      }
    },
    {
      "cell_type": "code",
      "execution_count": 168,
      "metadata": {
        "id": "aC7_beKjjzEq"
      },
      "outputs": [],
      "source": [
        "#section b2:\n",
        "import pandas as pd\n",
        "import seaborn as sns\n",
        "import matplotlib.pyplot as plt\n",
        "import numpy as np\n",
        "from scipy.stats import f, norm, t, chi2\n",
        "from scipy import stats\n",
        "\n",
        "df = pd.read_csv(\"framingham_heart_disease.csv\") \n",
        "df = df.dropna()\n",
        "samples_200 = df.sample(200, random_state=2)"
      ]
    },
    {
      "cell_type": "code",
      "source": [
        "#section b3 a:\n",
        "sys_bp = samples_200[\"sysBP\"]\n",
        "sys_bp.hist(bins=25, alpha=0.6, color='b')\n",
        "plt.ylabel(\"number of samples\")\n",
        "plt.xlabel(\"sysBP\")\n",
        "plt.title(\"histogram of sysBP acroos 200 random people\")"
      ],
      "metadata": {
        "colab": {
          "base_uri": "https://localhost:8080/",
          "height": 312
        },
        "id": "JxXy4eYQmIQL",
        "outputId": "6efa568d-0155-4543-a281-e3f21eb2873d"
      },
      "execution_count": 169,
      "outputs": [
        {
          "output_type": "execute_result",
          "data": {
            "text/plain": [
              "Text(0.5, 1.0, 'histogram of sysBP acroos 200 random people')"
            ]
          },
          "metadata": {},
          "execution_count": 169
        },
        {
          "output_type": "display_data",
          "data": {
            "text/plain": [
              "<Figure size 432x288 with 1 Axes>"
            ],
            "image/png": "[encoded data removed]"
          },
          "metadata": {
            "needs_background": "light"
          }
        }
      ]
    },
    {
      "cell_type": "code",
      "source": [
        "#section b3 a:\n",
        "table = samples_200['BPMeds'].value_counts()\n",
        "print(\"BPMeds|count\")\n",
        "table"
      ],
      "metadata": {
        "colab": {
          "base_uri": "https://localhost:8080/"
        },
        "id": "9_Rf465Fq8Nw",
        "outputId": "473bfb7b-6742-44e8-d3a8-b121eefa9430"
      },
      "execution_count": 170,
      "outputs": [
        {
          "output_type": "stream",
          "name": "stdout",
          "text": [
            "BPMeds|count\n"
          ]
        },
        {
          "output_type": "execute_result",
          "data": {
            "text/plain": [
              "0.0    195\n",
              "1.0      5\n",
              "Name: BPMeds, dtype: int64"
            ]
          },
          "metadata": {},
          "execution_count": 170
        }
      ]
    },
    {
      "cell_type": "code",
      "source": [
        "#section b3 a:\n",
        "table = samples_200['age'].value_counts().sort_index()\n",
        "print(\"age|count\")\n",
        "print(table)"
      ],
      "metadata": {
        "colab": {
          "base_uri": "https://localhost:8080/"
        },
        "id": "VpLBsjHBnrww",
        "outputId": "0ea4d08d-054b-4351-ccd4-315204ee339b"
      },
      "execution_count": 171,
      "outputs": [
        {
          "output_type": "stream",
          "name": "stdout",
          "text": [
            "age|count\n",
            "34     1\n",
            "35     3\n",
            "36     1\n",
            "37     2\n",
            "38     6\n",
            "39     7\n",
            "40    12\n",
            "41     6\n",
            "42     4\n",
            "43     8\n",
            "44     5\n",
            "45    13\n",
            "46    10\n",
            "47     7\n",
            "48     8\n",
            "49     4\n",
            "50     7\n",
            "51    11\n",
            "52     9\n",
            "53     9\n",
            "54     6\n",
            "55    10\n",
            "56     4\n",
            "57     5\n",
            "58     8\n",
            "59     4\n",
            "60     7\n",
            "61     4\n",
            "62     5\n",
            "63     5\n",
            "64     3\n",
            "65     3\n",
            "66     2\n",
            "67     1\n",
            "Name: age, dtype: int64\n"
          ]
        }
      ]
    },
    {
      "cell_type": "markdown",
      "source": [
        "**section b3 b**:In the histogram describing the blood pressure distribution, you can see a few extreme values in the right tail. In addition, it can be seen that the distribution of the data resembles a normal distribution, so symmetries can also be inferred. In addition, abnormal values can also be seen in the age table. Furthermore, it can also be seen that the vast majority of people do not take medication"
      ],
      "metadata": {
        "id": "azQcP9ky8fcm"
      }
    },
    {
      "cell_type": "code",
      "source": [
        "#section b3 c:\n",
        "import matplotlib.pyplot as plt\n",
        "categories = samples_200[\"TenYearCHD\"].unique()\n",
        "plt.hist(samples_200[samples_200[\"TenYearCHD\"] == 0][\"sysBP\"], color=\"red\", alpha=0.5)\n",
        "plt.hist(samples_200[samples_200[\"TenYearCHD\"] == 1][\"sysBP\"], color=\"blue\", alpha=0.5)\n",
        "plt.xlabel(\"sysBP\")\n",
        "plt.ylabel(\"Frequency\")\n",
        "plt.title(\"Histogram of Categories\")\n",
        "plt.legend([0,1])\n",
        "plt.show()"
      ],
      "metadata": {
        "colab": {
          "base_uri": "https://localhost:8080/",
          "height": 295
        },
        "id": "WU016m6E5BBK",
        "outputId": "181a74ff-9789-46f3-de27-2854fcc91ee4"
      },
      "execution_count": 172,
      "outputs": [
        {
          "output_type": "display_data",
          "data": {
            "text/plain": [
              "<Figure size 432x288 with 1 Axes>"
            ],
            "image/png": "[encoded data removed]"
          },
          "metadata": {
            "needs_background": "light"
          }
        }
      ]
    },
    {
      "cell_type": "code",
      "source": [
        "#section b3 c:\n",
        "import matplotlib.pyplot as plt\n",
        "\n",
        "categories = samples_200[\"TenYearCHD\"].unique()\n",
        "plt.hist(samples_200[samples_200[\"TenYearCHD\"] == 0][\"age\"], color=\"red\", alpha=0.5)\n",
        "plt.hist(samples_200[samples_200[\"TenYearCHD\"] == 1][\"age\"], color=\"blue\", alpha=0.5)\n",
        "plt.xlabel(\"age\")\n",
        "plt.ylabel(\"Frequency\")\n",
        "plt.title(\"Histogram of Categories\")\n",
        "plt.legend([0,1])\n",
        "plt.show()"
      ],
      "metadata": {
        "colab": {
          "base_uri": "https://localhost:8080/",
          "height": 295
        },
        "id": "4mwjEmNy7dSP",
        "outputId": "fd474ae9-faea-47ce-8d05-41f2be37e721"
      },
      "execution_count": 173,
      "outputs": [
        {
          "output_type": "display_data",
          "data": {
            "text/plain": [
              "<Figure size 432x288 with 1 Axes>"
            ],
            "image/png": "[encoded data removed]"
          },
          "metadata": {
            "needs_background": "light"
          }
        }
      ]
    },
    {
      "cell_type": "markdown",
      "source": [
        "In the first graph that links to the variable that explains blood pressure, it seems that there is no very clear connection between high blood pressure and the risk of heart disease since from the sample of 200 it can be seen that there is no dominance for the high values of blood pressure in the context of the risk of heart disease. On the other hand, in the second graph of the link between age and risk of heart disease, you can see a relatively large dominance of the third age groups. It can be seen in the histogram that the highest values from the group of patients with heart disease are concentrated in the more advanced ages.\n",
        "Therefore, it can be said that the explanatory variable 'age' has the highest influence."
      ],
      "metadata": {
        "id": "R3w0qwiI7p9b"
      }
    },
    {
      "cell_type": "code",
      "source": [
        "#section b4:\n",
        "import pandas as pd\n",
        "import numpy as np\n",
        "import numpy.linalg as ln\n",
        "import statsmodels.api as sm\n",
        "\n",
        "y = samples_200[\"TenYearCHD\"].reset_index(drop=True)\n",
        "x = samples_200[[\"sysBP\",\"BPMeds\",\"age\"]].reset_index(drop=True)\n",
        "x.insert(0, 'b0', 1)\n",
        "reg_0 = sm.Logit(y, x).fit()\n",
        "beta_hat = reg_0.params\n",
        "beta_hat = pd.DataFrame(beta_hat)\n",
        "y = samples_200[[\"TenYearCHD\"]].to_numpy().reshape([200,])\n",
        "print (\"beta estimator :\", beta_hat)"
      ],
      "metadata": {
        "colab": {
          "base_uri": "https://localhost:8080/"
        },
        "id": "6WCD5ZbHE4ED",
        "outputId": "a1fdcbae-a56b-4a9f-e155-30fa42899c5d"
      },
      "execution_count": 174,
      "outputs": [
        {
          "output_type": "stream",
          "name": "stdout",
          "text": [
            "Optimization terminated successfully.\n",
            "         Current function value: 0.411388\n",
            "         Iterations 6\n",
            "beta estimator :                0\n",
            "b0     -6.093043\n",
            "sysBP   0.004618\n",
            "BPMeds  1.143305\n",
            "age     0.073306\n"
          ]
        }
      ]
    },
    {
      "cell_type": "code",
      "source": [
        "#section b5\n",
        "import numpy.linalg as ln\n",
        "\n",
        "v_hat = np.zeros(shape=(len(x),len(x)))\n",
        "for index, xi in x.iterrows():\n",
        "  e_betax = np.exp(np.dot(np.transpose(beta_hat),np.transpose(xi)))\n",
        "  pi = e_betax / (1+e_betax)\n",
        "  v_hat[index][index] = pi*(1-pi)\n",
        "\n",
        "C = ln.inv(np.dot(np.dot(np.transpose(x),v_hat),x))\n",
        "\n",
        "\n",
        "z = 1.96\n",
        "for i in range(len(C)):\n",
        "  interval = z*np.sqrt(C[i][i])\n",
        "  print(\"Confidence interval of beta\",i ,\": [\", np.array(beta_hat)[i][0]-interval,\",\",np.array(beta_hat)[i][0]+interval,\"]\")\n"
      ],
      "metadata": {
        "colab": {
          "base_uri": "https://localhost:8080/"
        },
        "id": "TDqXTgEqJC4C",
        "outputId": "f420d8a3-120f-40ac-f6a6-1c94389f7b0a"
      },
      "execution_count": 175,
      "outputs": [
        {
          "output_type": "stream",
          "name": "stdout",
          "text": [
            "Confidence interval of beta 0 : [ -9.304274134222403 , -2.8818111422484334 ]\n",
            "Confidence interval of beta 1 : [ -0.012807213134288705 , 0.022043664799825474 ]\n",
            "Confidence interval of beta 2 : [ -0.8778607186199072 , 3.164469849703781 ]\n",
            "Confidence interval of beta 3 : [ 0.0210219822318458 , 0.12559014563267795 ]\n"
          ]
        }
      ]
    },
    {
      "cell_type": "code",
      "source": [
        "#section b6\n",
        "x1 = samples_200[\"sysBP\"].reset_index(drop=True)\n",
        "x2 = samples_200[\"BPMeds\"].reset_index(drop=True)\n",
        "x3 = samples_200[\"age\"].reset_index(drop=True)\n",
        "z_1_2 =x1 * x2\n",
        "z_1_3 = x1 * x3\n",
        "z_2_3 = x2 * x3\n",
        "\n",
        "y_new = samples_200[\"TenYearCHD\"].reset_index(drop=True)\n",
        "x_new = pd.DataFrame({\"x1\":x1,\"x2\":x2,\"x3\":x3,\"z_1_2\":z_1_2, \"z_1_3\":z_1_3, \"z_2_3\":z_2_3})\n",
        "x_new.insert(0, 'b0', 1)\n",
        "reg_1 = sm.Logit(y_new, x_new).fit()\n",
        "beta_hat_new = reg_1.params\n",
        "beta_hat_new = pd.DataFrame(beta_hat_new)\n",
        "y_new = samples_200[[\"TenYearCHD\"]].to_numpy().reshape([200,])\n",
        "print (\"beta estimator :\", beta_hat_new)\n",
        "\n"
      ],
      "metadata": {
        "colab": {
          "base_uri": "https://localhost:8080/"
        },
        "id": "4SWTv3qF-4n9",
        "outputId": "49f45279-9d2f-4b3d-df74-3e0372d925d3"
      },
      "execution_count": 176,
      "outputs": [
        {
          "output_type": "stream",
          "name": "stdout",
          "text": [
            "Optimization terminated successfully.\n",
            "         Current function value: 0.410882\n",
            "         Iterations 7\n",
            "beta estimator :               0\n",
            "b0    -7.809293\n",
            "x1     0.017097\n",
            "x2     2.092125\n",
            "x3     0.104920\n",
            "z_1_2  0.007310\n",
            "z_1_3 -0.000228\n",
            "z_2_3 -0.044211\n"
          ]
        }
      ]
    },
    {
      "cell_type": "markdown",
      "source": [
        "### מבחן יחס נראות: \n",
        "![image.png](data:image/png;base64,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)"
      ],
      "metadata": {
        "id": "Ow3Q0Jb92nk3"
      }
    },
    {
      "cell_type": "code",
      "source": [
        "from scipy.stats import chi2\n",
        "gamma = 2*np.log(reg_0.llf/reg_1.llf)\n",
        "print(chi2.cdf(0.05,3))\n",
        "print(gamma>chi2.cdf(0.05,3))"
      ],
      "metadata": {
        "colab": {
          "base_uri": "https://localhost:8080/"
        },
        "id": "kq6qWx2K24RW",
        "outputId": "ce6d9651-8f9a-4ff8-c506-0cfd0d8f960f"
      },
      "execution_count": 177,
      "outputs": [
        {
          "output_type": "stream",
          "name": "stdout",
          "text": [
            "0.002929332764619924\n",
            "False\n"
          ]
        }
      ]
    },
    {
      "cell_type": "markdown",
      "source": [
        "#wald :\n",
        " ![image.png](data:image/png;base64,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)"
      ],
      "metadata": {
        "id": "QkGARWBMgvkB"
      }
    },
    {
      "cell_type": "code",
      "source": [
        "#d\n",
        "import numpy.linalg as ln\n",
        "\n",
        "v_hat_new = np.zeros(shape=(len(x_new),len(x_new)))\n",
        "for index, xi in x_new.iterrows():\n",
        "  e_betax = np.exp(np.dot(np.transpose(beta_hat_new),np.transpose(xi)))\n",
        "  pi = e_betax / (1+e_betax)\n",
        "  v_hat_new[index][index] = pi*(1-pi)\n",
        "\n",
        "C_new = ln.inv(np.dot(np.dot(np.transpose(x_new),v_hat_new),x_new))\n",
        "\n",
        "for i in range(len(beta_hat_new[4:])):\n",
        "  print(\"are we reject b_\",i+4,\"!=0 : \", np.abs((np.array(beta_hat_new)[i+4][0]/np.sqrt(C_new[i+4][i+4])))>z)"
      ],
      "metadata": {
        "colab": {
          "base_uri": "https://localhost:8080/"
        },
        "id": "n9tblUwJCGTN",
        "outputId": "51a4acf5-a623-43ce-b2d7-84c93288caf4"
      },
      "execution_count": 178,
      "outputs": [
        {
          "output_type": "stream",
          "name": "stdout",
          "text": [
            "are we reject b_ 4 !=0 :  False\n",
            "are we reject b_ 5 !=0 :  False\n",
            "are we reject b_ 6 !=0 :  False\n"
          ]
        }
      ]
    },
    {
      "cell_type": "markdown",
      "source": [
        "We performed a visibility ratio test as well as a Wald test on the new parameters in order to understand whether their addition contributes to a certain extent to the model. We discovered that these parameters do not contribute since we do not reject the null hypothesis in which these parameters are zero. Therefore, it can be concluded that the first model without the interactions is better in our case."
      ],
      "metadata": {
        "id": "nCTg2ekWdT-8"
      }
    },
    {
      "cell_type": "code",
      "source": [
        "#section b6\n",
        "\n",
        "def mallow_cp(y, y_hat, x, var, p):\n",
        "  r = np.sum((y - y_hat)**2)\n",
        "  return r + 2*p*var\n",
        "\n",
        "def backward_stepwise_regression(x, y):\n",
        "  selected_features = list(range(x.shape[1]))\n",
        "  currentmax = 0\n",
        "  while len(selected_features) > 0:\n",
        "    # Initialize the list of Cp values\n",
        "    cp_values = []\n",
        "    # Iterate over the list of selected features\n",
        "    for i in range(len(selected_features)):\n",
        "      # Create a copy of the list of selected features\n",
        "      temp_selected_features = selected_features.copy()\n",
        "      # Remove the current feature from the list\n",
        "      temp_selected_features.pop(i)\n",
        "      # Fit the model with the current subset of features\n",
        "      x_new = x.iloc[:, temp_selected_features]\n",
        "      reg = sm.Logit(y,x_new).fit()\n",
        "      beta_hat = reg.params\n",
        "      beta_hat = pd.DataFrame(beta_hat)\n",
        "      y = samples_200[[\"TenYearCHD\"]].to_numpy().reshape([200,])\n",
        "\n",
        "      v_hat_new = np.zeros(shape=(len(x_new),len(x_new)))\n",
        "      for index, xi in x_new.iterrows():\n",
        "        e_betax = np.exp(np.dot(np.transpose(beta_hat),np.transpose(xi)))\n",
        "        pi = e_betax / (1+e_betax)\n",
        "        v_hat_new[index][index] = pi*(1-pi)\n",
        "\n",
        "      C_new = ln.inv(np.dot(np.dot(np.transpose(x_new),v_hat_new),x_new))\n",
        "      var = np.dot(x_new,np.dot(C_new,np.transpose(x_new)))[0][0]\n",
        "      #print (\"beta estimator :\", beta_hat)\n",
        " \n",
        "      # Calculate the Cp value for the current subset of features\n",
        "      cp_values.append(mallow_cp(y, np.dot(x_new,np.array(beta_hat)),x_new, var, len(temp_selected_features)))\n",
        "    # Find the index of the feature with the highest Cp value\n",
        "    max_cp_index = np.argmax(cp_values)\n",
        "    # If the highest Cp value is greater than 1, remove the corresponding feature\n",
        "    if cp_values[max_cp_index] > currentmax:\n",
        "      selected_features.pop(max_cp_index)\n",
        "      currentmax = cp_values[max_cp_index]\n",
        "    else:\n",
        "      break\n",
        "  \n",
        "  # Fit the final model with the selected features\n",
        "  reg = sm.Logit(y,x.iloc[:,selected_features]).fit()\n",
        "  beta_hat = reg.params\n",
        "  beta_hat = pd.DataFrame(beta_hat)\n",
        "  y = samples_200[[\"TenYearCHD\"]].to_numpy().reshape([200,])\n",
        "  print (\"beta estimator :\", beta_hat)\n",
        "  \n",
        "  return beta_hat, selected_features,currentmax\n",
        "\n",
        "y_new = samples_200[\"TenYearCHD\"].reset_index(drop=True)\n",
        "\n",
        "\n",
        "predictors = list(samples_200.columns)\n",
        "predictors.remove('TenYearCHD')\n",
        "x_new ={}\n",
        "for x in predictors:\n",
        "  x_new[x] = samples_200[x].reset_index(drop=True)\n",
        "\n",
        "#for x in predictor_subsets:\n",
        "#  x1 = samples_200[x[0]].reset_index(drop=True)\n",
        "#  x2 = samples_200[x[1]].reset_index(drop=True)\n",
        "#  x_new[x] = x1*x2\n",
        "\n",
        "x_new = pd.DataFrame(x_new)\n",
        "print(x_new)\n",
        "x_new.insert(0, 'b0', 1)\n",
        "model, selected_features,currentmax = backward_stepwise_regression(x_new,y_new)\n",
        "\n",
        "print(f\"Selected features: {selected_features}\")\n",
        "print(\"value:\", currentmax)"
      ],
      "metadata": {
        "colab": {
          "base_uri": "https://localhost:8080/"
        },
        "id": "7A3e_VeHOVjZ",
        "outputId": "5b3e6fde-4963-4827-fde6-33d691dbd6b8"
      },
      "execution_count": 179,
      "outputs": [
        {
          "output_type": "stream",
          "name": "stdout",
          "text": [
            "     male  age  education  currentSmoker  cigsPerDay  BPMeds  prevalentStroke  \\\n",
            "0       0   50        4.0              0         0.0     0.0                0   \n",
            "1       1   40        3.0              1        40.0     0.0                0   \n",
            "2       1   40        1.0              0         0.0     0.0                0   \n",
            "3       1   51        1.0              1        20.0     0.0                0   \n",
            "4       0   51        3.0              1         4.0     0.0                0   \n",
            "..    ...  ...        ...            ...         ...     ...              ...   \n",
            "195     0   45        3.0              0         0.0     0.0                0   \n",
            "196     1   41        3.0              0         0.0     0.0                0   \n",
            "197     0   51        3.0              0         0.0     0.0                0   \n",
            "198     0   63        1.0              0         0.0     0.0                0   \n",
            "199     1   62        1.0              1        20.0     0.0                0   \n",
            "\n",
            "     prevalentHyp  diabetes  totChol  sysBP  diaBP    BMI  heartRate  glucose  \n",
            "0               0         0    274.0  125.0   87.0  21.67       75.0     73.0  \n",
            "1               0         0    208.0  120.0   80.0  25.98       75.0     66.0  \n",
            "2               0         0    137.0  127.0   82.0  27.04       60.0     71.0  \n",
            "3               0         0    240.0  146.5   83.0  25.62       83.0    140.0  \n",
            "4               0         0    220.0  112.0   74.0  31.23       88.0     66.0  \n",
            "..            ...       ...      ...    ...    ...    ...        ...      ...  \n",
            "195             0         0    246.0  134.0   81.0  21.99       85.0     76.0  \n",
            "196             1         0    240.0  158.0  102.0  23.68       75.0     81.0  \n",
            "197             0         0    216.0  128.0   83.5  24.41       72.0     75.0  \n",
            "198             1         0    235.0  131.5   91.0  24.69       80.0     68.0  \n",
            "199             1         0    245.0  158.0   86.5  26.51       90.0     74.0  \n",
            "\n",
            "[200 rows x 15 columns]\n",
            "Optimization terminated successfully.\n",
            "         Current function value: 0.373368\n",
            "         Iterations 19\n",
            "Optimization terminated successfully.\n",
            "         Current function value: 0.370195\n",
            "         Iterations 19\n",
            "Optimization terminated successfully.\n",
            "         Current function value: 0.387005\n",
            "         Iterations 19\n",
            "Optimization terminated successfully.\n",
            "         Current function value: 0.380586\n",
            "         Iterations 19\n",
            "Optimization terminated successfully.\n",
            "         Current function value: 0.380331\n",
            "         Iterations 19\n",
            "Optimization terminated successfully.\n",
            "         Current function value: 0.370212\n",
            "         Iterations 19\n",
            "Optimization terminated successfully.\n",
            "         Current function value: 0.371897\n",
            "         Iterations 19\n",
            "Optimization terminated successfully.\n",
            "         Current function value: 0.370805\n",
            "         Iterations 7\n",
            "Optimization terminated successfully.\n",
            "         Current function value: 0.370392\n",
            "         Iterations 19\n",
            "Optimization terminated successfully.\n",
            "         Current function value: 0.372044\n",
            "         Iterations 19\n",
            "Optimization terminated successfully.\n",
            "         Current function value: 0.370395\n",
            "         Iterations 19\n",
            "Optimization terminated successfully.\n",
            "         Current function value: 0.370855\n",
            "         Iterations 19\n",
            "Optimization terminated successfully.\n",
            "         Current function value: 0.371388\n",
            "         Iterations 19\n",
            "Optimization terminated successfully.\n",
            "         Current function value: 0.370346\n",
            "         Iterations 19\n",
            "Optimization terminated successfully.\n",
            "         Current function value: 0.370786\n",
            "         Iterations 19\n",
            "Optimization terminated successfully.\n",
            "         Current function value: 0.371238\n",
            "         Iterations 19\n",
            "Optimization terminated successfully.\n",
            "         Current function value: 0.373411\n",
            "         Iterations 19\n",
            "Optimization terminated successfully.\n",
            "         Current function value: 0.370223\n",
            "         Iterations 19\n",
            "Optimization terminated successfully.\n",
            "         Current function value: 0.387664\n",
            "         Iterations 19\n",
            "Optimization terminated successfully.\n",
            "         Current function value: 0.380586\n",
            "         Iterations 19\n",
            "Optimization terminated successfully.\n",
            "         Current function value: 0.386423\n",
            "         Iterations 19\n",
            "Optimization terminated successfully.\n",
            "         Current function value: 0.371900\n",
            "         Iterations 19\n",
            "Optimization terminated successfully.\n",
            "         Current function value: 0.370829\n",
            "         Iterations 7\n",
            "Optimization terminated successfully.\n",
            "         Current function value: 0.370419\n",
            "         Iterations 19\n",
            "Optimization terminated successfully.\n",
            "         Current function value: 0.372060\n",
            "         Iterations 19\n",
            "Optimization terminated successfully.\n",
            "         Current function value: 0.370421\n",
            "         Iterations 19\n",
            "Optimization terminated successfully.\n",
            "         Current function value: 0.370856\n",
            "         Iterations 19\n",
            "Optimization terminated successfully.\n",
            "         Current function value: 0.371390\n",
            "         Iterations 19\n",
            "Optimization terminated successfully.\n",
            "         Current function value: 0.370360\n",
            "         Iterations 19\n",
            "Optimization terminated successfully.\n",
            "         Current function value: 0.370871\n",
            "         Iterations 19\n",
            "Optimization terminated successfully.\n",
            "         Current function value: 0.371286\n",
            "         Iterations 19\n",
            "Optimization terminated successfully.\n",
            "         Current function value: 0.370212\n",
            "         Iterations 19\n",
            "beta estimator :                          0\n",
            "b0               -4.082456\n",
            "male             -0.033811\n",
            "age               0.079508\n",
            "education        -0.519339\n",
            "currentSmoker     1.244838\n",
            "BPMeds            0.950031\n",
            "prevalentStroke -35.969322\n",
            "prevalentHyp      0.193510\n",
            "diabetes          1.258582\n",
            "totChol          -0.001532\n",
            "sysBP             0.010229\n",
            "diaBP            -0.024390\n",
            "BMI              -0.016940\n",
            "heartRate        -0.009906\n",
            "glucose           0.008427\n",
            "Selected features: [0, 1, 2, 3, 4, 6, 7, 8, 9, 10, 11, 12, 13, 14, 15]\n",
            "value: 532915.492713206\n"
          ]
        }
      ]
    },
    {
      "cell_type": "code",
      "source": [
        "def forward_stepwise_regression(x, y):\n",
        "  selected_features = list(range(x.shape[1]))\n",
        "  final_features = []\n",
        "  currentmax = 0\n",
        "  while len(final_features) < len(selected_features):\n",
        "    # Initialize the list of aic values\n",
        "    aic_values = []\n",
        "    # Iterate over the list of selected features\n",
        "    for i in selected_features:\n",
        "      # Create a copy of the list of selected features\n",
        "      temp_selected_features = final_features.copy()\n",
        "      # Remove the current feature from the list\n",
        "      temp_selected_features.append(i)\n",
        "      # Fit the model with the current subset of features\n",
        "      x_new = x.iloc[:, temp_selected_features]\n",
        "      reg = sm.Logit(y,x_new).fit()\n",
        "      beta_hat = reg.params\n",
        "      beta_hat = pd.DataFrame(beta_hat)\n",
        "      y = samples_200[[\"TenYearCHD\"]].to_numpy().reshape([200,])\n",
        "\n",
        "      v_hat_new = np.zeros(shape=(len(x_new),len(x_new)))\n",
        "      for index, xi in x_new.iterrows():\n",
        "        e_betax = np.exp(np.dot(np.transpose(beta_hat),np.transpose(xi)))\n",
        "        pi = e_betax / (1+e_betax)\n",
        "        v_hat_new[index][index] = pi*(1-pi)\n",
        "\n",
        "      C_new = ln.inv(np.dot(np.dot(np.transpose(x_new),v_hat_new),x_new))\n",
        "      var = np.dot(x_new,np.dot(C_new,np.transpose(x_new)))[0][0]\n",
        "      #print (\"beta estimator :\", beta_hat)\n",
        " \n",
        "      # Calculate the Cp value for the current subset of features\n",
        "      aic_values.append((mallow_cp(y, np.dot(x_new,np.array(beta_hat)),x_new, var, len(temp_selected_features)),i))\n",
        "    # Find the index of the feature with the highest Cp value\n",
        "    max_cp_index = sorted(aic_values, key=lambda x: x[0],reverse = True)\n",
        "    # If the highest Cp value is greater than 1, remove the corresponding feature\n",
        "    if max_cp_index[0][0] > currentmax:\n",
        "      final_features.append(max_cp_index[0][1])\n",
        "      selected_features.remove(max_cp_index[0][1])\n",
        "      currentmax = max_cp_index[0][0]\n",
        "    else:\n",
        "      break\n",
        "  \n",
        "  # Fit the final model with the selected features\n",
        "  reg = sm.Logit(y,x.iloc[:,final_features]).fit()\n",
        "  beta_hat = reg.params\n",
        "  beta_hat = pd.DataFrame(beta_hat)\n",
        "  y = samples_200[[\"TenYearCHD\"]].to_numpy().reshape([200,])\n",
        "  print (\"beta estimator :\", beta_hat)\n",
        "  \n",
        "  return beta_hat, final_features, currentmax\n",
        "\n",
        "y_new = samples_200[\"TenYearCHD\"].reset_index(drop=True)\n",
        "predictors = list(samples_200.columns)\n",
        "predictors.remove('TenYearCHD')\n",
        "x_new ={}\n",
        "for x in predictors:\n",
        "  x_new[x] = samples_200[x].reset_index(drop=True)\n",
        "\n",
        "x_new = pd.DataFrame(x_new)\n",
        "x_new.insert(0, 'b0', 1)\n",
        "model, selected_features,currentmax = forward_stepwise_regression(x_new,y_new)\n",
        "\n",
        "print(f\"Selected features: {selected_features}\")\n",
        "print(\"value:\", currentmax)"
      ],
      "metadata": {
        "colab": {
          "base_uri": "https://localhost:8080/"
        },
        "id": "dM8T4Mqs817Y",
        "outputId": "7a7d5726-80d2-445c-fbf5-4067bd1a8d97"
      },
      "execution_count": 180,
      "outputs": [
        {
          "output_type": "stream",
          "name": "stdout",
          "text": [
            "Optimization terminated successfully.\n",
            "         Current function value: 0.439670\n",
            "         Iterations 6\n",
            "Optimization terminated successfully.\n",
            "         Current function value: 0.594441\n",
            "         Iterations 5\n",
            "Optimization terminated successfully.\n",
            "         Current function value: 0.464459\n",
            "         Iterations 5\n",
            "Optimization terminated successfully.\n",
            "         Current function value: 0.433722\n",
            "         Iterations 6\n",
            "Optimization terminated successfully.\n",
            "         Current function value: 0.615149\n",
            "         Iterations 5\n",
            "Optimization terminated successfully.\n",
            "         Current function value: 0.631189\n",
            "         Iterations 5\n",
            "Optimization terminated successfully.\n",
            "         Current function value: 0.692644\n",
            "         Iterations 4\n",
            "Optimization terminated successfully.\n",
            "         Current function value: 0.689681\n",
            "         Iterations 18\n",
            "Optimization terminated successfully.\n",
            "         Current function value: 0.635324\n",
            "         Iterations 5\n",
            "Optimization terminated successfully.\n",
            "         Current function value: 0.693147\n",
            "         Iterations 1\n",
            "Optimization terminated successfully.\n",
            "         Current function value: 0.453453\n",
            "         Iterations 5\n",
            "Optimization terminated successfully.\n",
            "         Current function value: 0.456166\n",
            "         Iterations 5\n",
            "Optimization terminated successfully.\n",
            "         Current function value: 0.445497\n",
            "         Iterations 5\n",
            "Optimization terminated successfully.\n",
            "         Current function value: 0.443080\n",
            "         Iterations 5\n",
            "Optimization terminated successfully.\n",
            "         Current function value: 0.439336\n",
            "         Iterations 5\n",
            "Optimization terminated successfully.\n",
            "         Current function value: 0.470735\n",
            "         Iterations 5\n",
            "Optimization terminated successfully.\n",
            "         Current function value: 0.438796\n",
            "         Iterations 19\n",
            "Optimization terminated successfully.\n",
            "         Current function value: 0.590975\n",
            "         Iterations 18\n",
            "Optimization terminated successfully.\n",
            "         Current function value: 0.463548\n",
            "         Iterations 18\n",
            "Optimization terminated successfully.\n",
            "         Current function value: 0.432010\n",
            "         Iterations 18\n",
            "Optimization terminated successfully.\n",
            "         Current function value: 0.611683\n",
            "         Iterations 18\n",
            "Optimization terminated successfully.\n",
            "         Current function value: 0.627724\n",
            "         Iterations 18\n",
            "Optimization terminated successfully.\n",
            "         Current function value: 0.689178\n",
            "         Iterations 18\n",
            "Optimization terminated successfully.\n",
            "         Current function value: 0.634197\n",
            "         Iterations 19\n",
            "Optimization terminated successfully.\n",
            "         Current function value: 0.689681\n",
            "         Iterations 18\n",
            "Optimization terminated successfully.\n",
            "         Current function value: 0.452797\n",
            "         Iterations 18\n",
            "Optimization terminated successfully.\n",
            "         Current function value: 0.455404\n",
            "         Iterations 18\n",
            "Optimization terminated successfully.\n",
            "         Current function value: 0.444749\n",
            "         Iterations 18\n",
            "Optimization terminated successfully.\n",
            "         Current function value: 0.442310\n",
            "         Iterations 18\n",
            "Optimization terminated successfully.\n",
            "         Current function value: 0.438305\n",
            "         Iterations 18\n",
            "Optimization terminated successfully.\n",
            "         Current function value: 0.469615\n",
            "         Iterations 18\n",
            "Optimization terminated successfully.\n",
            "         Current function value: 0.425315\n",
            "         Iterations 19\n",
            "Optimization terminated successfully.\n",
            "         Current function value: 0.432007\n",
            "         Iterations 19\n",
            "Optimization terminated successfully.\n",
            "         Current function value: 0.430769\n",
            "         Iterations 19\n",
            "Optimization terminated successfully.\n",
            "         Current function value: 0.425903\n",
            "         Iterations 19\n",
            "Optimization terminated successfully.\n",
            "         Current function value: 0.430284\n",
            "         Iterations 18\n",
            "Optimization terminated successfully.\n",
            "         Current function value: 0.429645\n",
            "         Iterations 18\n",
            "Optimization terminated successfully.\n",
            "         Current function value: 0.431957\n",
            "         Iterations 19\n",
            "Optimization terminated successfully.\n",
            "         Current function value: 0.422456\n",
            "         Iterations 19\n",
            "Optimization terminated successfully.\n",
            "         Current function value: 0.428772\n",
            "         Iterations 19\n",
            "Optimization terminated successfully.\n",
            "         Current function value: 0.429215\n",
            "         Iterations 19\n",
            "Optimization terminated successfully.\n",
            "         Current function value: 0.426255\n",
            "         Iterations 19\n",
            "Optimization terminated successfully.\n",
            "         Current function value: 0.424826\n",
            "         Iterations 19\n",
            "Optimization terminated successfully.\n",
            "         Current function value: 0.423977\n",
            "         Iterations 18\n",
            "Optimization terminated successfully.\n",
            "         Current function value: 0.431712\n",
            "         Iterations 18\n",
            "Optimization terminated successfully.\n",
            "         Current function value: 0.413241\n",
            "         Iterations 19\n",
            "Optimization terminated successfully.\n",
            "         Current function value: 0.424678\n",
            "         Iterations 19\n",
            "Optimization terminated successfully.\n",
            "         Current function value: 0.422978\n",
            "         Iterations 19\n",
            "Optimization terminated successfully.\n",
            "         Current function value: 0.425276\n",
            "         Iterations 19\n",
            "Optimization terminated successfully.\n",
            "         Current function value: 0.424283\n",
            "         Iterations 19\n",
            "Optimization terminated successfully.\n",
            "         Current function value: 0.425896\n",
            "         Iterations 19\n",
            "Optimization terminated successfully.\n",
            "         Current function value: 0.416163\n",
            "         Iterations 19\n",
            "Optimization terminated successfully.\n",
            "         Current function value: 0.418296\n",
            "         Iterations 19\n",
            "Optimization terminated successfully.\n",
            "         Current function value: 0.419446\n",
            "         Iterations 19\n",
            "Optimization terminated successfully.\n",
            "         Current function value: 0.414720\n",
            "         Iterations 19\n",
            "Optimization terminated successfully.\n",
            "         Current function value: 0.413148\n",
            "         Iterations 19\n",
            "Optimization terminated successfully.\n",
            "         Current function value: 0.411826\n",
            "         Iterations 19\n",
            "Optimization terminated successfully.\n",
            "         Current function value: 0.424703\n",
            "         Iterations 19\n",
            "Optimization terminated successfully.\n",
            "         Current function value: 0.402511\n",
            "         Iterations 19\n",
            "Optimization terminated successfully.\n",
            "         Current function value: 0.414296\n",
            "         Iterations 19\n",
            "Optimization terminated successfully.\n",
            "         Current function value: 0.412655\n",
            "         Iterations 19\n",
            "Optimization terminated successfully.\n",
            "         Current function value: 0.415798\n",
            "         Iterations 19\n",
            "Optimization terminated successfully.\n",
            "         Current function value: 0.414303\n",
            "         Iterations 19\n",
            "Optimization terminated successfully.\n",
            "         Current function value: 0.416087\n",
            "         Iterations 19\n",
            "Optimization terminated successfully.\n",
            "         Current function value: 0.407887\n",
            "         Iterations 19\n",
            "Optimization terminated successfully.\n",
            "         Current function value: 0.407768\n",
            "         Iterations 19\n",
            "Optimization terminated successfully.\n",
            "         Current function value: 0.403224\n",
            "         Iterations 19\n",
            "Optimization terminated successfully.\n",
            "         Current function value: 0.400999\n",
            "         Iterations 19\n",
            "Optimization terminated successfully.\n",
            "         Current function value: 0.401226\n",
            "         Iterations 19\n",
            "Optimization terminated successfully.\n",
            "         Current function value: 0.408905\n",
            "         Iterations 19\n",
            "Optimization terminated successfully.\n",
            "         Current function value: 0.399473\n",
            "         Iterations 19\n",
            "Optimization terminated successfully.\n",
            "         Current function value: 0.412665\n",
            "         Iterations 19\n",
            "Optimization terminated successfully.\n",
            "         Current function value: 0.410218\n",
            "         Iterations 19\n",
            "Optimization terminated successfully.\n",
            "         Current function value: 0.413886\n",
            "         Iterations 19\n",
            "Optimization terminated successfully.\n",
            "         Current function value: 0.413812\n",
            "         Iterations 19\n",
            "Optimization terminated successfully.\n",
            "         Current function value: 0.404673\n",
            "         Iterations 19\n",
            "Optimization terminated successfully.\n",
            "         Current function value: 0.403303\n",
            "         Iterations 19\n",
            "Optimization terminated successfully.\n",
            "         Current function value: 0.398842\n",
            "         Iterations 19\n",
            "Optimization terminated successfully.\n",
            "         Current function value: 0.397682\n",
            "         Iterations 19\n",
            "Optimization terminated successfully.\n",
            "         Current function value: 0.398412\n",
            "         Iterations 19\n",
            "Optimization terminated successfully.\n",
            "         Current function value: 0.406007\n",
            "         Iterations 19\n",
            "Optimization terminated successfully.\n",
            "         Current function value: 0.399053\n",
            "         Iterations 19\n",
            "Optimization terminated successfully.\n",
            "         Current function value: 0.412558\n",
            "         Iterations 19\n",
            "Optimization terminated successfully.\n",
            "         Current function value: 0.409732\n",
            "         Iterations 19\n",
            "Optimization terminated successfully.\n",
            "         Current function value: 0.413373\n",
            "         Iterations 19\n",
            "Optimization terminated successfully.\n",
            "         Current function value: 0.404177\n",
            "         Iterations 19\n",
            "Optimization terminated successfully.\n",
            "         Current function value: 0.402748\n",
            "         Iterations 19\n",
            "Optimization terminated successfully.\n",
            "         Current function value: 0.398251\n",
            "         Iterations 19\n",
            "Optimization terminated successfully.\n",
            "         Current function value: 0.397217\n",
            "         Iterations 19\n",
            "Optimization terminated successfully.\n",
            "         Current function value: 0.398230\n",
            "         Iterations 19\n",
            "Optimization terminated successfully.\n",
            "         Current function value: 0.405499\n",
            "         Iterations 19\n",
            "Optimization terminated successfully.\n",
            "         Current function value: 0.413886\n",
            "         Iterations 19\n",
            "beta estimator :                          0\n",
            "prevalentStroke -36.854079\n",
            "education        -1.119303\n",
            "currentSmoker     0.734804\n",
            "diabetes          1.901042\n",
            "BPMeds            0.901737\n",
            "cigsPerDay       -0.009174\n",
            "Selected features: [7, 3, 4, 9, 6, 5]\n",
            "value: 505780.64821070625\n"
          ]
        }
      ]
    },
    {
      "cell_type": "markdown",
      "source": [
        "We used the mallow cp index to measure the models. It can be seen that different results were obtained for each of the methods. It can be seen that the maximum values are relatively close, but the backward model produced a higher value and was therefore chosen in its representation. That is, we will use the columns:\n",
        "Selected features: [0, 1, 2, 3, 4, 6, 7, 8, 9, 10, 11, 12, 13, 14, 15] - [b0,male ,age , education  ,currentSmoker,BPMeds,prevalentStroke,prevalentHyp ,diabetes         ,totChol      ,sysBP         ,diaBP ,BMI           ,heartRate     ,glucose     ]"
      ],
      "metadata": {
        "id": "FaB5zY4UhVnL"
      }
    },
    {
      "cell_type": "code",
      "source": [
        "def backward_stepwise_regression_second(x, y):\n",
        "  selected_features = list(range(x.shape[1]))\n",
        "  currentmax = -10000000\n",
        "  while len(selected_features) > 0:\n",
        "    aic_values = []\n",
        "    # Iterate over the list of selected features\n",
        "    for i in range(len(selected_features)):\n",
        "      # Create a copy of the list of selected features\n",
        "      temp_selected_features = selected_features.copy()\n",
        "      # Remove the current feature from the list\n",
        "      temp_selected_features.pop(i)\n",
        "      # Fit the model with the current subset of features\n",
        "      x_new = x.iloc[:, temp_selected_features]\n",
        "      reg = sm.Logit(y,x_new).fit()\n",
        "      beta_hat = reg.params\n",
        "      beta_hat = pd.DataFrame(beta_hat)\n",
        "      y = samples_200[[\"TenYearCHD\"]].to_numpy().reshape([200,])\n",
        "\n",
        "      p = len(temp_selected_features)\n",
        "\n",
        "      # Calculate logliklihood\n",
        "      logL = reg.llf\n",
        "      # Calculate the log-likelihood function value\n",
        "      aic = logL - p\n",
        "      # Calculate the aic value for the current subset of features\n",
        "      aic_values.append(aic)\n",
        "    # Find the index of the feature with the highest aic value\n",
        "    max_aic_index = np.argmax(aic_values)\n",
        "    # If the highest aic value is greater than 1, remove the corresponding feature\n",
        "    if aic_values[max_aic_index] > currentmax:\n",
        "      selected_features.pop(max_aic_index)\n",
        "      currentmax = aic_values[max_aic_index]\n",
        "    else:\n",
        "      break\n",
        "  \n",
        "  # Fit the final model with the selected features\n",
        "  reg = sm.Logit(y,x.iloc[:,selected_features]).fit()\n",
        "  beta_hat = reg.params\n",
        "  beta_hat = pd.DataFrame(beta_hat)\n",
        "  y = samples_200[[\"TenYearCHD\"]].to_numpy().reshape([200,])\n",
        "  print (\"beta estimator :\", beta_hat)\n",
        "  \n",
        "  return beta_hat, selected_features, currentmax\n",
        "\n",
        "y_new = samples_200[\"TenYearCHD\"].reset_index(drop=True)\n",
        "predictors = list(samples_200.columns)\n",
        "predictors.remove('TenYearCHD')\n",
        "x_new ={}\n",
        "for x in predictors:\n",
        "  x_new[x] = samples_200[x].reset_index(drop=True)\n",
        "\n",
        "x_new = pd.DataFrame(x_new)\n",
        "x_new.insert(0, 'b0', 1)\n",
        "model, selected_features,currentmax = backward_stepwise_regression_second(x_new,y_new)\n",
        "\n",
        "print(f\"Selected features: {selected_features}\")\n",
        "print(\"value:\", currentmax)"
      ],
      "metadata": {
        "colab": {
          "base_uri": "https://localhost:8080/"
        },
        "id": "wk0Sae9Wjjpz",
        "outputId": "dab1c78d-15fc-4bac-d23b-c093ff100bdf"
      },
      "execution_count": 181,
      "outputs": [
        {
          "output_type": "stream",
          "name": "stdout",
          "text": [
            "Optimization terminated successfully.\n",
            "         Current function value: 0.373368\n",
            "         Iterations 19\n",
            "Optimization terminated successfully.\n",
            "         Current function value: 0.370195\n",
            "         Iterations 19\n",
            "Optimization terminated successfully.\n",
            "         Current function value: 0.387005\n",
            "         Iterations 19\n",
            "Optimization terminated successfully.\n",
            "         Current function value: 0.380586\n",
            "         Iterations 19\n",
            "Optimization terminated successfully.\n",
            "         Current function value: 0.380331\n",
            "         Iterations 19\n",
            "Optimization terminated successfully.\n",
            "         Current function value: 0.370212\n",
            "         Iterations 19\n",
            "Optimization terminated successfully.\n",
            "         Current function value: 0.371897\n",
            "         Iterations 19\n",
            "Optimization terminated successfully.\n",
            "         Current function value: 0.370805\n",
            "         Iterations 7\n",
            "Optimization terminated successfully.\n",
            "         Current function value: 0.370392\n",
            "         Iterations 19\n",
            "Optimization terminated successfully.\n",
            "         Current function value: 0.372044\n",
            "         Iterations 19\n",
            "Optimization terminated successfully.\n",
            "         Current function value: 0.370395\n",
            "         Iterations 19\n",
            "Optimization terminated successfully.\n",
            "         Current function value: 0.370855\n",
            "         Iterations 19\n",
            "Optimization terminated successfully.\n",
            "         Current function value: 0.371388\n",
            "         Iterations 19\n",
            "Optimization terminated successfully.\n",
            "         Current function value: 0.370346\n",
            "         Iterations 19\n",
            "Optimization terminated successfully.\n",
            "         Current function value: 0.370786\n",
            "         Iterations 19\n",
            "Optimization terminated successfully.\n",
            "         Current function value: 0.371238\n",
            "         Iterations 19\n",
            "Optimization terminated successfully.\n",
            "         Current function value: 0.373409\n",
            "         Iterations 19\n",
            "Optimization terminated successfully.\n",
            "         Current function value: 0.387857\n",
            "         Iterations 19\n",
            "Optimization terminated successfully.\n",
            "         Current function value: 0.380589\n",
            "         Iterations 19\n",
            "Optimization terminated successfully.\n",
            "         Current function value: 0.380431\n",
            "         Iterations 19\n",
            "Optimization terminated successfully.\n",
            "         Current function value: 0.370223\n",
            "         Iterations 19\n",
            "Optimization terminated successfully.\n",
            "         Current function value: 0.371911\n",
            "         Iterations 19\n",
            "Optimization terminated successfully.\n",
            "         Current function value: 0.370805\n",
            "         Iterations 7\n",
            "Optimization terminated successfully.\n",
            "         Current function value: 0.370392\n",
            "         Iterations 19\n",
            "Optimization terminated successfully.\n",
            "         Current function value: 0.372045\n",
            "         Iterations 19\n",
            "Optimization terminated successfully.\n",
            "         Current function value: 0.370403\n",
            "         Iterations 19\n",
            "Optimization terminated successfully.\n",
            "         Current function value: 0.370967\n",
            "         Iterations 19\n",
            "Optimization terminated successfully.\n",
            "         Current function value: 0.371500\n",
            "         Iterations 19\n",
            "Optimization terminated successfully.\n",
            "         Current function value: 0.370354\n",
            "         Iterations 19\n",
            "Optimization terminated successfully.\n",
            "         Current function value: 0.370791\n",
            "         Iterations 19\n",
            "Optimization terminated successfully.\n",
            "         Current function value: 0.371238\n",
            "         Iterations 19\n",
            "Optimization terminated successfully.\n",
            "         Current function value: 0.373491\n",
            "         Iterations 19\n",
            "Optimization terminated successfully.\n",
            "         Current function value: 0.388153\n",
            "         Iterations 19\n",
            "Optimization terminated successfully.\n",
            "         Current function value: 0.380590\n",
            "         Iterations 19\n",
            "Optimization terminated successfully.\n",
            "         Current function value: 0.389247\n",
            "         Iterations 19\n",
            "Optimization terminated successfully.\n",
            "         Current function value: 0.371920\n",
            "         Iterations 19\n",
            "Optimization terminated successfully.\n",
            "         Current function value: 0.370836\n",
            "         Iterations 7\n",
            "Optimization terminated successfully.\n",
            "         Current function value: 0.370422\n",
            "         Iterations 19\n",
            "Optimization terminated successfully.\n",
            "         Current function value: 0.372060\n",
            "         Iterations 19\n",
            "Optimization terminated successfully.\n",
            "         Current function value: 0.370422\n",
            "         Iterations 19\n",
            "Optimization terminated successfully.\n",
            "         Current function value: 0.370980\n",
            "         Iterations 19\n",
            "Optimization terminated successfully.\n",
            "         Current function value: 0.371503\n",
            "         Iterations 19\n",
            "Optimization terminated successfully.\n",
            "         Current function value: 0.370377\n",
            "         Iterations 19\n",
            "Optimization terminated successfully.\n",
            "         Current function value: 0.370872\n",
            "         Iterations 19\n",
            "Optimization terminated successfully.\n",
            "         Current function value: 0.371288\n",
            "         Iterations 19\n",
            "Optimization terminated successfully.\n",
            "         Current function value: 0.375412\n",
            "         Iterations 19\n",
            "Optimization terminated successfully.\n",
            "         Current function value: 0.388792\n",
            "         Iterations 19\n",
            "Optimization terminated successfully.\n",
            "         Current function value: 0.380628\n",
            "         Iterations 19\n",
            "Optimization terminated successfully.\n",
            "         Current function value: 0.389775\n",
            "         Iterations 19\n",
            "Optimization terminated successfully.\n",
            "         Current function value: 0.372073\n",
            "         Iterations 19\n",
            "Optimization terminated successfully.\n",
            "         Current function value: 0.370995\n",
            "         Iterations 7\n",
            "Optimization terminated successfully.\n",
            "         Current function value: 0.370535\n",
            "         Iterations 19\n",
            "Optimization terminated successfully.\n",
            "         Current function value: 0.372092\n",
            "         Iterations 19\n",
            "Optimization terminated successfully.\n",
            "         Current function value: 0.370585\n",
            "         Iterations 19\n",
            "Optimization terminated successfully.\n",
            "         Current function value: 0.371267\n",
            "         Iterations 19\n",
            "Optimization terminated successfully.\n",
            "         Current function value: 0.371960\n",
            "         Iterations 19\n",
            "Optimization terminated successfully.\n",
            "         Current function value: 0.371061\n",
            "         Iterations 19\n",
            "Optimization terminated successfully.\n",
            "         Current function value: 0.371447\n",
            "         Iterations 19\n",
            "Optimization terminated successfully.\n",
            "         Current function value: 0.378167\n",
            "         Iterations 19\n",
            "Optimization terminated successfully.\n",
            "         Current function value: 0.389307\n",
            "         Iterations 19\n",
            "Optimization terminated successfully.\n",
            "         Current function value: 0.380776\n",
            "         Iterations 19\n",
            "Optimization terminated successfully.\n",
            "         Current function value: 0.389893\n",
            "         Iterations 19\n",
            "Optimization terminated successfully.\n",
            "         Current function value: 0.372268\n",
            "         Iterations 19\n",
            "Optimization terminated successfully.\n",
            "         Current function value: 0.371111\n",
            "         Iterations 7\n",
            "Optimization terminated successfully.\n",
            "         Current function value: 0.372193\n",
            "         Iterations 19\n",
            "Optimization terminated successfully.\n",
            "         Current function value: 0.370755\n",
            "         Iterations 19\n",
            "Optimization terminated successfully.\n",
            "         Current function value: 0.371798\n",
            "         Iterations 19\n",
            "Optimization terminated successfully.\n",
            "         Current function value: 0.371988\n",
            "         Iterations 19\n",
            "Optimization terminated successfully.\n",
            "         Current function value: 0.371114\n",
            "         Iterations 19\n",
            "Optimization terminated successfully.\n",
            "         Current function value: 0.371609\n",
            "         Iterations 19\n",
            "Optimization terminated successfully.\n",
            "         Current function value: 0.378700\n",
            "         Iterations 19\n",
            "Optimization terminated successfully.\n",
            "         Current function value: 0.389816\n",
            "         Iterations 19\n",
            "Optimization terminated successfully.\n",
            "         Current function value: 0.381023\n",
            "         Iterations 19\n",
            "Optimization terminated successfully.\n",
            "         Current function value: 0.389991\n",
            "         Iterations 19\n",
            "Optimization terminated successfully.\n",
            "         Current function value: 0.372421\n",
            "         Iterations 19\n",
            "Optimization terminated successfully.\n",
            "         Current function value: 0.371387\n",
            "         Iterations 7\n",
            "Optimization terminated successfully.\n",
            "         Current function value: 0.372626\n",
            "         Iterations 19\n",
            "Optimization terminated successfully.\n",
            "         Current function value: 0.371958\n",
            "         Iterations 19\n",
            "Optimization terminated successfully.\n",
            "         Current function value: 0.372219\n",
            "         Iterations 19\n",
            "Optimization terminated successfully.\n",
            "         Current function value: 0.371465\n",
            "         Iterations 19\n",
            "Optimization terminated successfully.\n",
            "         Current function value: 0.371698\n",
            "         Iterations 19\n",
            "Optimization terminated successfully.\n",
            "         Current function value: 0.379440\n",
            "         Iterations 7\n",
            "Optimization terminated successfully.\n",
            "         Current function value: 0.390585\n",
            "         Iterations 7\n",
            "Optimization terminated successfully.\n",
            "         Current function value: 0.381499\n",
            "         Iterations 7\n",
            "Optimization terminated successfully.\n",
            "         Current function value: 0.391092\n",
            "         Iterations 6\n",
            "Optimization terminated successfully.\n",
            "         Current function value: 0.373109\n",
            "         Iterations 7\n",
            "Optimization terminated successfully.\n",
            "         Current function value: 0.373247\n",
            "         Iterations 7\n",
            "Optimization terminated successfully.\n",
            "         Current function value: 0.372567\n",
            "         Iterations 7\n",
            "Optimization terminated successfully.\n",
            "         Current function value: 0.372877\n",
            "         Iterations 7\n",
            "Optimization terminated successfully.\n",
            "         Current function value: 0.372043\n",
            "         Iterations 7\n",
            "Optimization terminated successfully.\n",
            "         Current function value: 0.372363\n",
            "         Iterations 7\n",
            "Optimization terminated successfully.\n",
            "         Current function value: 0.384180\n",
            "         Iterations 7\n",
            "Optimization terminated successfully.\n",
            "         Current function value: 0.391320\n",
            "         Iterations 7\n",
            "Optimization terminated successfully.\n",
            "         Current function value: 0.382151\n",
            "         Iterations 7\n",
            "Optimization terminated successfully.\n",
            "         Current function value: 0.391962\n",
            "         Iterations 6\n",
            "Optimization terminated successfully.\n",
            "         Current function value: 0.373940\n",
            "         Iterations 7\n",
            "Optimization terminated successfully.\n",
            "         Current function value: 0.374067\n",
            "         Iterations 7\n",
            "Optimization terminated successfully.\n",
            "         Current function value: 0.373192\n",
            "         Iterations 7\n",
            "Optimization terminated successfully.\n",
            "         Current function value: 0.373647\n",
            "         Iterations 7\n",
            "Optimization terminated successfully.\n",
            "         Current function value: 0.372954\n",
            "         Iterations 7\n",
            "Optimization terminated successfully.\n",
            "         Current function value: 0.384548\n",
            "         Iterations 7\n",
            "Optimization terminated successfully.\n",
            "         Current function value: 0.391738\n",
            "         Iterations 7\n",
            "Optimization terminated successfully.\n",
            "         Current function value: 0.382963\n",
            "         Iterations 7\n",
            "Optimization terminated successfully.\n",
            "         Current function value: 0.392192\n",
            "         Iterations 6\n",
            "Optimization terminated successfully.\n",
            "         Current function value: 0.374910\n",
            "         Iterations 7\n",
            "Optimization terminated successfully.\n",
            "         Current function value: 0.381630\n",
            "         Iterations 7\n",
            "Optimization terminated successfully.\n",
            "         Current function value: 0.374865\n",
            "         Iterations 7\n",
            "Optimization terminated successfully.\n",
            "         Current function value: 0.375293\n",
            "         Iterations 7\n",
            "Optimization terminated successfully.\n",
            "         Current function value: 0.387706\n",
            "         Iterations 7\n",
            "Optimization terminated successfully.\n",
            "         Current function value: 0.399434\n",
            "         Iterations 7\n",
            "Optimization terminated successfully.\n",
            "         Current function value: 0.385366\n",
            "         Iterations 7\n",
            "Optimization terminated successfully.\n",
            "         Current function value: 0.394103\n",
            "         Iterations 6\n",
            "Optimization terminated successfully.\n",
            "         Current function value: 0.378267\n",
            "         Iterations 7\n",
            "Optimization terminated successfully.\n",
            "         Current function value: 0.385138\n",
            "         Iterations 7\n",
            "Optimization terminated successfully.\n",
            "         Current function value: 0.375331\n",
            "         Iterations 7\n",
            "Optimization terminated successfully.\n",
            "         Current function value: 0.411286\n",
            "         Iterations 7\n",
            "Optimization terminated successfully.\n",
            "         Current function value: 0.400239\n",
            "         Iterations 6\n",
            "Optimization terminated successfully.\n",
            "         Current function value: 0.385612\n",
            "         Iterations 7\n",
            "Optimization terminated successfully.\n",
            "         Current function value: 0.394711\n",
            "         Iterations 6\n",
            "Optimization terminated successfully.\n",
            "         Current function value: 0.378283\n",
            "         Iterations 7\n",
            "Optimization terminated successfully.\n",
            "         Current function value: 0.385310\n",
            "         Iterations 7\n",
            "Optimization terminated successfully.\n",
            "         Current function value: 0.413754\n",
            "         Iterations 7\n",
            "Optimization terminated successfully.\n",
            "         Current function value: 0.403306\n",
            "         Iterations 6\n",
            "Optimization terminated successfully.\n",
            "         Current function value: 0.389659\n",
            "         Iterations 7\n",
            "Optimization terminated successfully.\n",
            "         Current function value: 0.398858\n",
            "         Iterations 6\n",
            "Optimization terminated successfully.\n",
            "         Current function value: 0.387895\n",
            "         Iterations 7\n",
            "Optimization terminated successfully.\n",
            "         Current function value: 0.378283\n",
            "         Iterations 7\n",
            "beta estimator :                       0\n",
            "b0            -5.844984\n",
            "age            0.084905\n",
            "education     -0.526364\n",
            "currentSmoker  1.234541\n",
            "diabetes       1.928718\n",
            "Selected features: [0, 2, 3, 4, 9]\n",
            "value: -80.6565335054934\n"
          ]
        }
      ]
    },
    {
      "cell_type": "code",
      "source": [
        "def forward_stepwise_regression_second(x, y):\n",
        "  selected_features = list(range(x.shape[1]))\n",
        "  final_features = []\n",
        "  currentmax = -1000000\n",
        "  while len(final_features) < len(selected_features):\n",
        "    # Initialize the list of aic values\n",
        "    aic_values = []\n",
        "    # Iterate over the list of selected features\n",
        "    for i in selected_features:\n",
        "      # Create a copy of the list of selected features\n",
        "      temp_selected_features = final_features.copy()\n",
        "      # Remove the current feature from the list\n",
        "      temp_selected_features.append(i)\n",
        "      # Fit the model with the current subset of features\n",
        "      x_new = x.iloc[:, temp_selected_features]\n",
        "      reg = sm.Logit(y,x_new).fit()\n",
        "      beta_hat = reg.params\n",
        "      beta_hat = pd.DataFrame(beta_hat)\n",
        "      y = samples_200[[\"TenYearCHD\"]].to_numpy().reshape([200,])\n",
        "\n",
        "      p = len(final_features)\n",
        "      # Calculate logliklihood\n",
        "      logL = reg.llf\n",
        "      # Calculate the log-likelihood function value\n",
        "      aic = logL - p\n",
        "      aic_values.append((aic,i))\n",
        "    # Find the index of the feature with the highest aic value\n",
        "    max_cp_index = sorted(aic_values, key=lambda x: x[0],reverse = True)\n",
        "    # If the highest Cp value is greater than 1, remove the corresponding feature\n",
        "    if max_cp_index[0][0] > currentmax:\n",
        "      final_features.append(max_cp_index[0][1])\n",
        "      selected_features.remove(max_cp_index[0][1])\n",
        "      currentmax = max_cp_index[0][0]\n",
        "    else:\n",
        "      break\n",
        "  \n",
        "  # Fit the final model with the selected features\n",
        "  reg = sm.Logit(y,x.iloc[:,final_features]).fit()\n",
        "  beta_hat = reg.params\n",
        "  beta_hat = pd.DataFrame(beta_hat)\n",
        "  y = samples_200[[\"TenYearCHD\"]].to_numpy().reshape([200,])\n",
        "  print (\"beta estimator :\", beta_hat)\n",
        "  \n",
        "  return beta_hat, final_features, currentmax\n",
        "\n",
        "y_new = samples_200[\"TenYearCHD\"].reset_index(drop=True)\n",
        "predictors = list(samples_200.columns)\n",
        "predictors.remove('TenYearCHD')\n",
        "x_new ={}\n",
        "for x in predictors:\n",
        "  x_new[x] = samples_200[x].reset_index(drop=True)\n",
        "\n",
        "x_new = pd.DataFrame(x_new)\n",
        "x_new.insert(0, 'b0', 1)\n",
        "model, selected_features, currentmax = forward_stepwise_regression_second(x_new,y_new)\n",
        "\n",
        "print(f\"Selected features: {selected_features}\")\n",
        "print(\"value:\", currentmax)"
      ],
      "metadata": {
        "colab": {
          "base_uri": "https://localhost:8080/"
        },
        "id": "ElSQxvZcIYop",
        "outputId": "7084f62f-1030-40c6-9c6d-8906c1853712"
      },
      "execution_count": 182,
      "outputs": [
        {
          "output_type": "stream",
          "name": "stdout",
          "text": [
            "Optimization terminated successfully.\n",
            "         Current function value: 0.439670\n",
            "         Iterations 6\n",
            "Optimization terminated successfully.\n",
            "         Current function value: 0.594441\n",
            "         Iterations 5\n",
            "Optimization terminated successfully.\n",
            "         Current function value: 0.464459\n",
            "         Iterations 5\n",
            "Optimization terminated successfully.\n",
            "         Current function value: 0.433722\n",
            "         Iterations 6\n",
            "Optimization terminated successfully.\n",
            "         Current function value: 0.615149\n",
            "         Iterations 5\n",
            "Optimization terminated successfully.\n",
            "         Current function value: 0.631189\n",
            "         Iterations 5\n",
            "Optimization terminated successfully.\n",
            "         Current function value: 0.692644\n",
            "         Iterations 4\n",
            "Optimization terminated successfully.\n",
            "         Current function value: 0.689681\n",
            "         Iterations 18\n",
            "Optimization terminated successfully.\n",
            "         Current function value: 0.635324\n",
            "         Iterations 5\n",
            "Optimization terminated successfully.\n",
            "         Current function value: 0.693147\n",
            "         Iterations 1\n",
            "Optimization terminated successfully.\n",
            "         Current function value: 0.453453\n",
            "         Iterations 5\n",
            "Optimization terminated successfully.\n",
            "         Current function value: 0.456166\n",
            "         Iterations 5\n",
            "Optimization terminated successfully.\n",
            "         Current function value: 0.445497\n",
            "         Iterations 5\n",
            "Optimization terminated successfully.\n",
            "         Current function value: 0.443080\n",
            "         Iterations 5\n",
            "Optimization terminated successfully.\n",
            "         Current function value: 0.439336\n",
            "         Iterations 5\n",
            "Optimization terminated successfully.\n",
            "         Current function value: 0.470735\n",
            "         Iterations 5\n",
            "Optimization terminated successfully.\n",
            "         Current function value: 0.426575\n",
            "         Iterations 6\n",
            "Optimization terminated successfully.\n",
            "         Current function value: 0.433714\n",
            "         Iterations 6\n",
            "Optimization terminated successfully.\n",
            "         Current function value: 0.432280\n",
            "         Iterations 6\n",
            "Optimization terminated successfully.\n",
            "         Current function value: 0.427388\n",
            "         Iterations 6\n",
            "Optimization terminated successfully.\n",
            "         Current function value: 0.431906\n",
            "         Iterations 6\n",
            "Optimization terminated successfully.\n",
            "         Current function value: 0.431332\n",
            "         Iterations 6\n",
            "Optimization terminated successfully.\n",
            "         Current function value: 0.432010\n",
            "         Iterations 18\n",
            "Optimization terminated successfully.\n",
            "         Current function value: 0.433715\n",
            "         Iterations 6\n",
            "Optimization terminated successfully.\n",
            "         Current function value: 0.424101\n",
            "         Iterations 6\n",
            "Optimization terminated successfully.\n",
            "         Current function value: 0.430055\n",
            "         Iterations 6\n",
            "Optimization terminated successfully.\n",
            "         Current function value: 0.430579\n",
            "         Iterations 6\n",
            "Optimization terminated successfully.\n",
            "         Current function value: 0.427487\n",
            "         Iterations 6\n",
            "Optimization terminated successfully.\n",
            "         Current function value: 0.426038\n",
            "         Iterations 6\n",
            "Optimization terminated successfully.\n",
            "         Current function value: 0.425317\n",
            "         Iterations 6\n",
            "Optimization terminated successfully.\n",
            "         Current function value: 0.433352\n",
            "         Iterations 6\n",
            "Optimization terminated successfully.\n",
            "         Current function value: 0.416167\n",
            "         Iterations 6\n",
            "Optimization terminated successfully.\n",
            "         Current function value: 0.424084\n",
            "         Iterations 6\n",
            "Optimization terminated successfully.\n",
            "         Current function value: 0.422229\n",
            "         Iterations 6\n",
            "Optimization terminated successfully.\n",
            "         Current function value: 0.417578\n",
            "         Iterations 7\n",
            "Optimization terminated successfully.\n",
            "         Current function value: 0.421819\n",
            "         Iterations 6\n",
            "Optimization terminated successfully.\n",
            "         Current function value: 0.421398\n",
            "         Iterations 6\n",
            "Optimization terminated successfully.\n",
            "         Current function value: 0.422456\n",
            "         Iterations 19\n",
            "Optimization terminated successfully.\n",
            "         Current function value: 0.424092\n",
            "         Iterations 6\n",
            "Optimization terminated successfully.\n",
            "         Current function value: 0.419906\n",
            "         Iterations 6\n",
            "Optimization terminated successfully.\n",
            "         Current function value: 0.419613\n",
            "         Iterations 6\n",
            "Optimization terminated successfully.\n",
            "         Current function value: 0.416523\n",
            "         Iterations 6\n",
            "Optimization terminated successfully.\n",
            "         Current function value: 0.414639\n",
            "         Iterations 6\n",
            "Optimization terminated successfully.\n",
            "         Current function value: 0.414957\n",
            "         Iterations 6\n",
            "Optimization terminated successfully.\n",
            "         Current function value: 0.419457\n",
            "         Iterations 6\n",
            "Optimization terminated successfully.\n",
            "         Current function value: 0.414405\n",
            "         Iterations 6\n",
            "Optimization terminated successfully.\n",
            "         Current function value: 0.413211\n",
            "         Iterations 6\n",
            "Optimization terminated successfully.\n",
            "         Current function value: 0.403351\n",
            "         Iterations 6\n",
            "Optimization terminated successfully.\n",
            "         Current function value: 0.401738\n",
            "         Iterations 6\n",
            "Optimization terminated successfully.\n",
            "         Current function value: 0.410087\n",
            "         Iterations 6\n",
            "Optimization terminated successfully.\n",
            "         Current function value: 0.410377\n",
            "         Iterations 6\n",
            "Optimization terminated successfully.\n",
            "         Current function value: 0.413532\n",
            "         Iterations 19\n",
            "Optimization terminated successfully.\n",
            "         Current function value: 0.412688\n",
            "         Iterations 6\n",
            "Optimization terminated successfully.\n",
            "         Current function value: 0.411961\n",
            "         Iterations 6\n",
            "Optimization terminated successfully.\n",
            "         Current function value: 0.411095\n",
            "         Iterations 6\n",
            "Optimization terminated successfully.\n",
            "         Current function value: 0.414397\n",
            "         Iterations 6\n",
            "Optimization terminated successfully.\n",
            "         Current function value: 0.414371\n",
            "         Iterations 6\n",
            "Optimization terminated successfully.\n",
            "         Current function value: 0.413565\n",
            "         Iterations 6\n",
            "Optimization terminated successfully.\n",
            "         Current function value: 0.401735\n",
            "         Iterations 7\n",
            "Optimization terminated successfully.\n",
            "         Current function value: 0.401730\n",
            "         Iterations 6\n",
            "Optimization terminated successfully.\n",
            "         Current function value: 0.388380\n",
            "         Iterations 7\n",
            "Optimization terminated successfully.\n",
            "         Current function value: 0.401318\n",
            "         Iterations 6\n",
            "Optimization terminated successfully.\n",
            "         Current function value: 0.398386\n",
            "         Iterations 6\n",
            "Optimization terminated successfully.\n",
            "         Current function value: 0.400999\n",
            "         Iterations 19\n",
            "Optimization terminated successfully.\n",
            "         Current function value: 0.399648\n",
            "         Iterations 6\n",
            "Optimization terminated successfully.\n",
            "         Current function value: 0.400541\n",
            "         Iterations 7\n",
            "Optimization terminated successfully.\n",
            "         Current function value: 0.398993\n",
            "         Iterations 7\n",
            "Optimization terminated successfully.\n",
            "         Current function value: 0.401705\n",
            "         Iterations 6\n",
            "Optimization terminated successfully.\n",
            "         Current function value: 0.401174\n",
            "         Iterations 6\n",
            "Optimization terminated successfully.\n",
            "         Current function value: 0.400318\n",
            "         Iterations 7\n",
            "Optimization terminated successfully.\n",
            "         Current function value: 0.377865\n",
            "         Iterations 7\n",
            "Optimization terminated successfully.\n",
            "         Current function value: 0.388308\n",
            "         Iterations 7\n",
            "Optimization terminated successfully.\n",
            "         Current function value: 0.388147\n",
            "         Iterations 7\n",
            "Optimization terminated successfully.\n",
            "         Current function value: 0.384731\n",
            "         Iterations 7\n",
            "Optimization terminated successfully.\n",
            "         Current function value: 0.387736\n",
            "         Iterations 19\n",
            "Optimization terminated successfully.\n",
            "         Current function value: 0.386462\n",
            "         Iterations 7\n",
            "Optimization terminated successfully.\n",
            "         Current function value: 0.387517\n",
            "         Iterations 7\n",
            "Optimization terminated successfully.\n",
            "         Current function value: 0.388376\n",
            "         Iterations 7\n",
            "Optimization terminated successfully.\n",
            "         Current function value: 0.386907\n",
            "         Iterations 7\n",
            "Optimization terminated successfully.\n",
            "         Current function value: 0.383457\n",
            "         Iterations 7\n",
            "Optimization terminated successfully.\n",
            "         Current function value: 0.388375\n",
            "         Iterations 7\n",
            "Optimization terminated successfully.\n",
            "         Current function value: 0.377730\n",
            "         Iterations 7\n",
            "Optimization terminated successfully.\n",
            "         Current function value: 0.377827\n",
            "         Iterations 7\n",
            "Optimization terminated successfully.\n",
            "         Current function value: 0.374751\n",
            "         Iterations 7\n",
            "Optimization terminated successfully.\n",
            "         Current function value: 0.377225\n",
            "         Iterations 19\n",
            "Optimization terminated successfully.\n",
            "         Current function value: 0.377358\n",
            "         Iterations 7\n",
            "Optimization terminated successfully.\n",
            "         Current function value: 0.377848\n",
            "         Iterations 7\n",
            "Optimization terminated successfully.\n",
            "         Current function value: 0.376846\n",
            "         Iterations 7\n",
            "Optimization terminated successfully.\n",
            "         Current function value: 0.377860\n",
            "         Iterations 7\n",
            "Optimization terminated successfully.\n",
            "         Current function value: 0.377187\n",
            "         Iterations 7\n",
            "Optimization terminated successfully.\n",
            "         Current function value: 0.375786\n",
            "         Iterations 7\n",
            "Optimization terminated successfully.\n",
            "         Current function value: 0.377865\n",
            "         Iterations 7\n",
            "beta estimator :                       0\n",
            "education     -0.548474\n",
            "diabetes       2.020447\n",
            "BMI           -0.025982\n",
            "currentSmoker  1.224849\n",
            "age            0.083337\n",
            "b0            -5.040707\n",
            "Selected features: [3, 9, 13, 4, 2, 0]\n",
            "value: -80.57293877847766\n"
          ]
        }
      ]
    },
    {
      "cell_type": "markdown",
      "source": [
        "We used the mallow cp index to measure the models. It can be seen that different results were obtained for each of the methods. It can be seen that the maximum values are relatively close, but the backward model produced a higher value and was therefore chosen in its representation. That is, we will use the columns:\n",
        "Selected features: [0, 2, 3, 4, 9] - [b0, age, education, currentSmoker, diabetes]"
      ],
      "metadata": {
        "id": "-tJs0VdNi2e1"
      }
    }
  ]
}